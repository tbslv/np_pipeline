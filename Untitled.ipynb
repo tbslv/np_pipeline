{
 "cells": [
  {
   "cell_type": "code",
   "execution_count": null,
   "metadata": {
    "collapsed": true
   },
   "outputs": [],
   "source": [
    "import os\n",
    "import subprocess\n",
    "\n",
    "from create_input_json import createInputJson\n",
    "\n",
    "#sorted_directories = ['/mnt/md0/data/mouse412804/766640955_412804_20181022_probeC_sorted/continuous/Neuropix-3a-100.0']\n",
    "#npx_directories = [r'L:\\766640955_412804_20181022_probeC']\n",
    "extracted_data_directories = ['F:/allenpip_test']\n",
    "\n",
    "\n",
    "probe_type = '3B'\n",
    "\n",
    "\n",
    "json_directory = extracted_data_directories[0]\n",
    "#json_directory = r'C:\\Users\\svc_neuropix\\Documents\\json_files'\n",
    "\n",
    "for directory in extracted_data_directories:\n",
    "\n",
    "\tsession_id = os.path.basename(directory)\n",
    "\n",
    "\tprint(directory)\n",
    "\n",
    "\t#input_json = os.path.join(json_directory, session_id + '-input.json')\n",
    "\t#output_json = os.path.join(json_directory, session_id + '-output.json')\n",
    "\n",
    "\tinput_json = json_directory+'-input_{}.json'.format(directory)\n",
    "\toutput_json = json_directory +'-output_{}.json'.format(directory)\n",
    "\n",
    "\tprint(output_json)\n",
    "\n",
    "\tinfo = createInputJson(input_json, extracted_data_directory=directory)"
   ]
  }
 ],
 "metadata": {
  "kernelspec": {
   "display_name": "Python 3",
   "language": "python",
   "name": "python3"
  },
  "language_info": {
   "codemirror_mode": {
    "name": "ipython",
    "version": 3
   },
   "file_extension": ".py",
   "mimetype": "text/x-python",
   "name": "python",
   "nbconvert_exporter": "python",
   "pygments_lexer": "ipython3",
   "version": "3.6.3"
  }
 },
 "nbformat": 4,
 "nbformat_minor": 2
}
