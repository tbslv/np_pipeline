{
 "cells": [
  {
   "cell_type": "code",
   "execution_count": null,
   "metadata": {
    "collapsed": true
   },
   "outputs": [],
   "source": [
    "import pandas as pd\n",
    "import numpy as np\n",
    "import matplotlib.pyplot as plt\n",
    "import os \n"
   ]
  },
  {
   "cell_type": "code",
   "execution_count": null,
   "metadata": {
    "collapsed": true
   },
   "outputs": [],
   "source": [
    "import scipy.stats as st"
   ]
  },
  {
   "cell_type": "code",
   "execution_count": null,
   "metadata": {
    "collapsed": true
   },
   "outputs": [],
   "source": [
    "stim_data_path = r\"D:\\Work\\Recordings\\DATA\\Neuropixel\\190809\\2019-08-09_11-30-32\\NationalInstruments\\001_stimData_probe1.pkl\"\n"
   ]
  },
  {
   "cell_type": "code",
   "execution_count": null,
   "metadata": {
    "collapsed": true
   },
   "outputs": [],
   "source": [
    "data = pd.read_pickle(stim_data_path)"
   ]
  },
  {
   "cell_type": "code",
   "execution_count": null,
   "metadata": {
    "collapsed": true
   },
   "outputs": [],
   "source": [
    "feedback =data[\"Feedback_Force\"].dropna().values"
   ]
  },
  {
   "cell_type": "code",
   "execution_count": null,
   "metadata": {},
   "outputs": [],
   "source": [
    "np.mean(feedback[0].shape,axis)"
   ]
  },
  {
   "cell_type": "code",
   "execution_count": null,
   "metadata": {},
   "outputs": [],
   "source": [
    "def Gaussian_smooth(data, a):\n",
    "    Gau_trial = 0*data \n",
    "    t_list = np.arange(data.shape[1])\n",
    "    \n",
    "    for i_neuron in range(data.shape[0]):\n",
    "        for tau in range(data.shape[1]):\n",
    "            g = np.exp(-a*(t_list-tau)**2)\n",
    "            Sg = np.multiply(data[i_neuron,:], g)\n",
    "            Gau_trial[i_neuron, tau] = np.sum(Sg)\n",
    "            \n",
    "    return Gau_trial "
   ]
  },
  {
   "cell_type": "code",
   "execution_count": null,
   "metadata": {
    "scrolled": true
   },
   "outputs": [],
   "source": [
    "% matplotlib inline \n",
    "\n",
    "start = 9\n",
    "end = 13\n",
    "\n",
    "window = np.arange(start*1000,end*1000)\n",
    "feedback_all =data[\"Feedback_Force\"].dropna().values\n",
    "\n",
    "for t in range(11):\n",
    "    \n",
    "    print('new amplitude')\n",
    "    count = 0\n",
    "    \n",
    "    feedback = feedback_all[t][:,0,:]\n",
    "    \n",
    "    smooth_feedback = Gaussian_smooth(feedback.T,250)\n",
    "    for i in range(25):\n",
    "        \n",
    "        plt.plot(smooth_feedback[i,:],lw = 0.8,alpha = 0.5)\n",
    "        #plt.xlim(8000,12000)\n",
    "        plt.ylim(0,10)\n",
    "        peaks = basic_peak_detector(feedback[:,i], thresh=-1, orientation='positive', verbose=False)\n",
    "        peaks = peaks[(peaks > window[0]) & (peaks < window [-1])]\n",
    "        if peaks.size > 0:\n",
    "            count +=1\n",
    "            \n",
    "            print('{} trials detected with paw movement during temp stim'.format(count))\n",
    "        plt.show()\n",
    "        "
   ]
  },
  {
   "cell_type": "code",
   "execution_count": null,
   "metadata": {
    "collapsed": true
   },
   "outputs": [],
   "source": [
    "from MUA_helper import basic_peak_detector"
   ]
  },
  {
   "cell_type": "code",
   "execution_count": null,
   "metadata": {},
   "outputs": [],
   "source": [
    "peaks = basic_peak_detector(feedback[1][:,0,7], thresh=-1, orientation='positive', verbose=False)/1000\n",
    "\n",
    "peaks[peaks in window]"
   ]
  },
  {
   "cell_type": "code",
   "execution_count": null,
   "metadata": {},
   "outputs": [],
   "source": [
    "window"
   ]
  },
  {
   "cell_type": "code",
   "execution_count": null,
   "metadata": {},
   "outputs": [],
   "source": [
    "peaks = window -5"
   ]
  },
  {
   "cell_type": "code",
   "execution_count": null,
   "metadata": {},
   "outputs": [],
   "source": [
    "peaks in window"
   ]
  },
  {
   "cell_type": "code",
   "execution_count": null,
   "metadata": {},
   "outputs": [],
   "source": [
    "window"
   ]
  },
  {
   "cell_type": "code",
   "execution_count": null,
   "metadata": {},
   "outputs": [],
   "source": []
  },
  {
   "cell_type": "code",
   "execution_count": null,
   "metadata": {
    "collapsed": true
   },
   "outputs": [],
   "source": []
  }
 ],
 "metadata": {
  "kernelspec": {
   "display_name": "Python 3",
   "language": "python",
   "name": "python3"
  },
  "language_info": {
   "codemirror_mode": {
    "name": "ipython",
    "version": 3
   },
   "file_extension": ".py",
   "mimetype": "text/x-python",
   "name": "python",
   "nbconvert_exporter": "python",
   "pygments_lexer": "ipython3",
   "version": "3.6.3"
  }
 },
 "nbformat": 4,
 "nbformat_minor": 2
}
