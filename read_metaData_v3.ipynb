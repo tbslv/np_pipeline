{
 "cells": [
  {
   "cell_type": "code",
   "execution_count": 1,
   "metadata": {
    "collapsed": true
   },
   "outputs": [],
   "source": [
    "import matplotlib.pyplot as plt\n",
    "#import OpenEphys as oe\n",
    "import numpy as np#\n",
    "import pandas as pd\n",
    "import os\n",
    "% matplotlib notebook\n",
    "\n",
    "\n",
    "MAX_NUMBER_OF_EVENTS = int(1e6)"
   ]
  },
  {
   "cell_type": "code",
<<<<<<< HEAD
   "execution_count": 2,
=======
   "execution_count": 3,
>>>>>>> 5044f88e516dffcce568e01f1abddff9142fae96
   "metadata": {
    "collapsed": true
   },
   "outputs": [],
   "source": [
    "working_directory = 'D:/Work/Recordings/DATA/Neuropixel/190629/2019-06-29_09-49-09'\n",
    "path = os.path.join(working_directory,'experiment1/recording1/events/Neuropix-PXI-100.0/TTL_1')"
   ]
  },
  {
   "cell_type": "code",
   "execution_count": 3,
   "metadata": {},
   "outputs": [],
   "source": [
    "channel_states = np.load(os.path.join(path,'channel_states.npy'))\n",
    "timestamps = np.load(os.path.join(path,'timestamps.npy'))\n",
    "channels = np.load(os.path.join(path,'channels.npy'))"
   ]
  },
  {
   "cell_type": "code",
   "execution_count": 4,
   "metadata": {
    "collapsed": true
   },
   "outputs": [],
   "source": [
    "timestamps_on = (timestamps[channel_states==1])/30000"
   ]
  },
  {
   "cell_type": "code",
   "execution_count": 8,
   "metadata": {
    "collapsed": true,
    "scrolled": false
   },
   "outputs": [],
   "source": [
    "def clean_up(working_directory,timestamps, fail = None):\n",
    "    if fail != None:\n",
    "        timestamps = np.delete(timestamps, [fail])\n",
    "    \n",
    "    wd_tmp = os.path.join(working_directory,'NationalInstruments')\n",
    "    \n",
    "    data_dir = [f for f in os.listdir(wd_tmp) if 'sweepParameter' in f]\n",
    "    #print(data_dir)\n",
    "    count = 0\n",
    "\n",
    "    for i in data_dir:\n",
    "        if 'sweepParameter' in i:\n",
    "            count += 1\n",
    "        else:\n",
    "            count = count\n",
    "    print(count)\n",
    "    trials = []\n",
    "    ids = []\n",
    "    ts_dict = {}\n",
    "    for i in range(count):\n",
    "\n",
    "        path_tmp = os.path.join(wd_tmp,data_dir[i])\n",
    "        metaData_tmp = pd.read_pickle(path_tmp)\n",
    "        trials.append(len(metaData_tmp)*2)\n",
    "        print(sum(trials))\n",
    "        ids.append(data_dir[i][:4])\n",
    "        print(ids)\n",
    "    if timestamps.shape[0] != sum(trials):\n",
    "        print('Corrupted timestamps....')\n",
    "\n",
    "        plt.plot(np.diff(timestamps),'o-')\n",
    "        #plt.plot((timestamps-timestamps[0]),'o-')\n",
    "        plt.show()\n",
    "\n",
    "       \n",
    "    else:\n",
    "\n",
    "        for i in range(count):\n",
    "            ts_dict[ids[i]] = timestamps[:trials[i]]\n",
    "            timestamps = np.delete(timestamps, [range(trials[i])])    \n",
    "    return timestamps,ts_dict"
   ]
  },
  {
   "cell_type": "code",
   "execution_count": null,
   "metadata": {
    "collapsed": true
   },
   "outputs": [],
   "source": []
  },
  {
   "cell_type": "markdown",
   "metadata": {},
   "source": [
    "## for deleting timestamps use ts+1 // ts = first wrong ts\n"
   ]
  },
  {
   "cell_type": "code",
   "execution_count": 9,
   "metadata": {
    "scrolled": false
   },
   "outputs": [
    {
     "name": "stdout",
     "output_type": "stream",
     "text": [
      "2\n",
      "280\n",
      "['001_']\n",
      "560\n",
      "['001_', '002_']\n"
     ]
    }
   ],
   "source": [
    "#timestamps_off,ts_dict_off = clean_up(working_directory,timestamps_off,fail = 404)\n",
    "timestamps_on,ts_dict_on = clean_up(working_directory,timestamps_on,fail = None)\n"
   ]
  },
  {
   "cell_type": "code",
   "execution_count": 10,
   "metadata": {},
   "outputs": [
    {
     "data": {
      "text/plain": [
       "(0,)"
      ]
     },
     "execution_count": 10,
     "metadata": {},
     "output_type": "execute_result"
    }
   ],
   "source": [
    "#timestamps_on = timestamps_on[:280]\n",
    "\n",
    "timestamps_on.shape"
   ]
  },
  {
   "cell_type": "code",
   "execution_count": 11,
   "metadata": {
    "collapsed": true,
    "scrolled": true
   },
   "outputs": [],
   "source": [
    "ids = list(ts_dict_on.keys())"
   ]
  },
  {
   "cell_type": "code",
   "execution_count": 12,
   "metadata": {},
   "outputs": [
    {
     "data": {
      "text/plain": [
       "['001_', '002_']"
      ]
     },
     "execution_count": 12,
     "metadata": {},
     "output_type": "execute_result"
    }
   ],
   "source": [
    "ids"
   ]
  },
  {
   "cell_type": "code",
   "execution_count": 13,
   "metadata": {},
   "outputs": [
    {
     "data": {
      "text/plain": [
       "280"
      ]
     },
     "execution_count": 13,
     "metadata": {},
     "output_type": "execute_result"
    }
   ],
   "source": [
    "ts_dict_on['002_'].size"
   ]
  },
  {
   "cell_type": "code",
<<<<<<< HEAD
   "execution_count": 14,
=======
   "execution_count": 50,
>>>>>>> 5044f88e516dffcce568e01f1abddff9142fae96
   "metadata": {
    "collapsed": true
   },
   "outputs": [],
   "source": [
    "wd_tmp = os.path.join(working_directory,'NationalInstruments')\n",
    "    \n",
    "data_dir = [f for f in os.listdir(wd_tmp) if not '.npy'  in f]\n",
    "    #print(data_dir)\n",
    "count = 0\n",
    "\n",
    "for i in data_dir:\n",
    "    if 'sweepParameter' in i:\n",
    "        count += 1\n",
    "    else:\n",
    "        count = count"
   ]
  },
  {
   "cell_type": "code",
   "execution_count": 15,
   "metadata": {},
   "outputs": [
    {
     "data": {
      "text/plain": [
       "['001_2019-06-29_09-47-32_sweepParameter',\n",
       " '002_2019-06-29_10-39-11_sweepParameter',\n",
       " 'AI_files_001',\n",
       " 'AI_files_002']"
      ]
     },
     "execution_count": 15,
     "metadata": {},
     "output_type": "execute_result"
    }
   ],
   "source": [
    "data_dir"
   ]
  },
  {
   "cell_type": "code",
   "execution_count": 18,
   "metadata": {},
   "outputs": [],
   "source": [
    "sweepParameters_path = []\n",
    "inputData_path = []\n",
    "for i in range(count):\n",
    "    sweepParameters_path.append(os.path.join(wd_tmp,data_dir[i]))\n",
    "    inputData_path.append(os.path.join(wd_tmp,data_dir[count+(i)],'temp_AI.npy'))\n",
    "    "
   ]
  },
  {
   "cell_type": "code",
   "execution_count": 19,
   "metadata": {},
   "outputs": [
    {
     "data": {
      "text/plain": [
       "['D:/Work/Recordings/DATA/Neuropixel/190629/2019-06-29_09-49-09\\\\NationalInstruments\\\\001_2019-06-29_09-47-32_sweepParameter',\n",
       " 'D:/Work/Recordings/DATA/Neuropixel/190629/2019-06-29_09-49-09\\\\NationalInstruments\\\\002_2019-06-29_10-39-11_sweepParameter']"
      ]
     },
     "execution_count": 19,
     "metadata": {},
     "output_type": "execute_result"
    }
   ],
   "source": [
    "sweepParameters_path"
   ]
  },
  {
   "cell_type": "code",
   "execution_count": 20,
   "metadata": {},
   "outputs": [
    {
     "data": {
      "text/plain": [
       "['D:/Work/Recordings/DATA/Neuropixel/190629/2019-06-29_09-49-09\\\\NationalInstruments\\\\AI_files_001\\\\temp_AI.npy',\n",
       " 'D:/Work/Recordings/DATA/Neuropixel/190629/2019-06-29_09-49-09\\\\NationalInstruments\\\\AI_files_002\\\\temp_AI.npy']"
      ]
     },
     "execution_count": 20,
     "metadata": {},
     "output_type": "execute_result"
    }
   ],
   "source": [
    "inputData_path"
   ]
  },
  {
   "cell_type": "code",
   "execution_count": 23,
   "metadata": {
    "scrolled": false
   },
   "outputs": [
    {
     "data": {
      "image/png": "iVBORw0KGgoAAAANSUhEUgAAAXcAAAD8CAYAAACMwORRAAAABHNCSVQICAgIfAhkiAAAAAlwSFlz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\n",
      "text/plain": [
       "<Figure size 432x288 with 1 Axes>"
      ]
     },
     "metadata": {},
     "output_type": "display_data"
    }
   ],
   "source": [
    "% matplotlib inline\n",
    "input_Data = np.load(inputData_path[0])\n",
    "feedback = input_Data[0,:,:]\n",
    "    \n",
    "for i in range(140)[1:]:\n",
    "    plt.plot(feedback[:,i])\n",
    "plt.show()"
   ]
  },
  {
   "cell_type": "code",
   "execution_count": null,
   "metadata": {},
   "outputs": [],
   "source": [
    "input_Data.shape"
   ]
  },
  {
   "cell_type": "code",
   "execution_count": null,
   "metadata": {
    "scrolled": true
   },
   "outputs": [],
   "source": [
    "metaData = pd.read_pickle(sweepParameters_path[1])\n",
    "metaData"
   ]
  },
  {
   "cell_type": "code",
   "execution_count": 33,
   "metadata": {},
   "outputs": [],
   "source": [
    "for i in range(2):\n",
    "    metaData = pd.read_pickle(sweepParameters_path[i])\n",
    "    \n",
    "    pre = metaData['Pre Stimulus Time'][0]\n",
    "    post = metaData['Sweeplength'][0] - metaData['Stimulus Duration'][0]\n",
    "    repetion = metaData['Repititions'][0]\n",
    "    sweepIDs = np.unique(metaData['sweepID'])\n",
    "    sweeplength = metaData['Sweeplength'][0]\n",
    "    \n",
    "    \n",
    "        \n",
    "    input_Data = np.load(inputData_path[i])\n",
    "    if i ==1:\n",
    "        input_Data = input_Data[:,:,1:]\n",
    "    \n",
    "    #bodytemp = input_Data[1,:,:]\n",
    "    #feedback_force = input_Data[2,:,:]\n",
    "    #feedback = input_Data[0,:,:]\n",
    "    #bodytemp = input_Data[0,:,:]\n",
    "    #feedback_force = input_Data[1,:,:]\n",
    "    #feedback_3 = input_Data[2,:,:]\n",
    "    #feedback_4 = input_Data[3,:,:]\n",
    "    #feedback_5 = input_Data[4,:,:]\n",
    "    #feedback_1 = input_Data[5,:,:]\n",
    "    #feedback_2 = input_Data[6,:,:]\n",
    "     \n",
    "    \n",
    "    \n",
    "    ts_sweepstart = ts_dict_on[ids[i]][::2]\n",
    "    #ts_sweepstart = ts_sweepstart -1\n",
    "    ts_stimstart = ts_dict_on[ids[i]][1::2]\n",
    "    #ts_stimstart = ts_stimstart -4\n",
    "    \n",
    "    \n",
    "    Data = {}\n",
    "    Data['Timestamps'] = {}\n",
    "    #Data['Feedback'] = {}\n",
    "    Data['Feedback_3'] = {}\n",
    "    Data['Feedback_4'] = {}\n",
    "    Data['Feedback_Force'] = {}\n",
    "\n",
    "    for ii in range(len(sweepIDs)):\n",
    "        Data['Timestamps'][str(ii) + '_sweepstart'] = ts_sweepstart[metaData['sweepID'] == float(ii)]\n",
    "        Data['Timestamps'][str(ii) + '_stimstart'] = ts_stimstart[metaData['sweepID'] == float(ii)]\n",
    "        #Data['Feedback'][str(ii) + '_feedback'] = feedback[:,np.where(metaData['sweepID'] == float(ii))]\n",
    "        Data['Feedback_3'][str(ii) + '_feedback'] = feedback_3[:,np.where(metaData['sweepID'] == float(ii))]\n",
    "        Data['Feedback_4'][str(ii) + '_feedback'] = feedback_4[:,np.where(metaData['sweepID'] == float(ii))]\n",
    "        Data['Feedback_Force'][str(ii) + '_feedback_force'] = feedback_force[:,np.where(metaData['sweepID'] == float(ii))]\n",
    "    stimData = pd.DataFrame.from_dict(Data,orient = 'columns')\n",
    "    stimData.to_pickle(wd_tmp+'/'+ids[i]+'stimData.pkl')"
   ]
  },
  {
   "cell_type": "code",
   "execution_count": 31,
   "metadata": {},
   "outputs": [
    {
     "data": {
      "text/plain": [
       "(20,)"
      ]
     },
     "execution_count": 31,
     "metadata": {},
     "output_type": "execute_result"
    }
   ],
   "source": [
    "stimData[\"Timestamps\"][\"2_stimstart\"].shape"
   ]
  },
  {
   "cell_type": "code",
   "execution_count": 34,
   "metadata": {},
   "outputs": [
    {
     "data": {
      "image/png": "iVBORw0KGgoAAAANSUhEUgAAAXcAAAD8CAYAAACMwORRAAAABHNCSVQICAgIfAhkiAAAAAlwSFlz\nAAALEgAACxIB0t1+/AAAADl0RVh0U29mdHdhcmUAbWF0cGxvdGxpYiB2ZXJzaW9uIDIuMi4yLCBo\ndHRwOi8vbWF0cGxvdGxpYi5vcmcvhp/UCwAAIABJREFUeJzs3Xd4VMX6wPHvbMlueu+FEFoInYTe\npFhAFBCxI14b2MtPvfZ29eq116sXQbGAHZVmAemd0CGhQ3rvySabLfP7Iwgsm0hLSMjO53nyPHtm\n5px9096czJkipJQoiqIorYumuQNQFEVRGp9K7oqiKK2QSu6KoiitkEruiqIorZBK7oqiKK2QSu6K\noiitkEruiqIorZBK7oqiKK2QSu6KoiitkK653jgoKEjGxsY219sriqJckDZv3lwopQw+VbtmS+6x\nsbEkJyc319sriqJckIQQaafTTnXLKIqitEIquSuKorRCKrkriqK0Qiq5K4qitEIquSuKorRCKrkr\niqK0Qiq5K4qitEIukdzt0s5P+3/CYrc0dyiKoijnhUsk94WHFvLs2mf5dOenzR2KoijKeeESyb3M\nXAZAibmkmSNRFEU5P1wiuSuKoria007uQgitEGKrEGJBPXW3CCEKhBDbjn7c3rhhKoqiKGfiTBYO\newBIBXwaqP9WSnnvuYekKIqinKvTunMXQkQBlwMzmjacpiWlbO4QFEVRzovT7ZZ5B3gMsP9Nm4lC\niB1CiB+EENHnHlrjEUI0dwiKoijn1SmTuxBiLJAvpdz8N83mA7FSyu7AEuDzBq51pxAiWQiRXFBQ\ncFYBK4qiKKd2Onfug4ArhRBHgG+AEUKIr05sIKUsklKajx5+AiTWdyEp5XQpZZKUMik4+JQbiSiK\noihn6ZTJXUr5hJQySkoZC1wHLJVS3nRiGyFE+AmHV1L34FVRFEVpJme9zZ4Q4kUgWUo5D7hfCHEl\nYAWKgVsaJ7zGJVEPVBVFcQ1nlNyllMuB5UdfP3tC+RPAE40ZmKIoinL21AxVRVGUVkgld0VRlFZI\nJXdFUZRWyKWSu5qhqiiKq3CJ5C5QM1QVRXEtLpHcFUVRXI1K7oqiKK2QSu6KoiitkEsldzVDVVEU\nV+ESyV0t+asoiqtxieSuKIrialRyVxRFaYVUclcURWmFVHJXFEVphVwiuasZqoqiuBqXSO6Koiiu\nRiV3RVGUVkgld0VRlFbIpZK7WvJXURRX4VLJXVEUxVW4VHJXyxAoiuIqXCq5K4qiuAqV3BVFUVqh\n007uQgitEGKrEGJBPXUGIcS3QogDQogNQojYxgyysagHqoqiuIozuXN/AEhtoO42oERK2R54G/jP\nuQbWmNQMVUVRXM1pJXchRBRwOTCjgSbjgM+Pvv4BGCnU00tFUZRmc7p37u8AjwH2BuojgQwAKaUV\nKAMCzzk6RVEU5aycMrkLIcYC+VLKzX/XrJ4ypw5uIcSdQohkIURyQUHBGYSpKIqinInTuXMfBFwp\nhDgCfAOMEEJ8dVKbTCAaQAihA3yB4pMvJKWcLqVMklImBQcHn1PgZ0Ptoaooiqs4ZXKXUj4hpYyS\nUsYC1wFLpZQ3ndRsHjDl6Ourj7ZpMZlUdf8riuJqdGd7ohDiRSBZSjkPmAl8KYQ4QN0d+3WNFJ+i\nKIpyFs4ouUsplwPLj75+9oTyGmBSYwamKIqinD01Q1VRFKUVcqnkrh6oKoriKlwquSuKorgKldwV\nRVFaIZXcFUVRWiGV3BVFUVohl0ruLWhelaIoSpNyieSuZqgqiuJqXCK5K83j6Z93ct/XW5s7DEVx\nSSq5K03mq/XpzN+e3dxhKIpLUsldURSlFVLJXVEUpRVyieSu9lBVFMXVuERyVxRFcTUquSvKSaS0\nYbeb+Wr7Tu6ZPZLvZ07HJiXFxcUcOHCAXYW7mjtERTmls96sQ1EaQ155DUFeBrSaltN19tK8p5lT\nuZl21bns8R/JL4F+HHprFHuq22L13cFWXxs3hl3FbYlDCQ4YhBDqHklpeVwquaslf1uW3LIa+r/y\nJ/cMb8ejl8Y3dzgA/LrkEz70uRZ8riX5hPK3e7/p0O6rzHuI+30OBZ5WgniMS4dcjn9A2PkNVlH+\nhkvccqgHqi1TQYUZgBX7Cpo5kjpFRbk8kjPz9NpGfcg/vW7lPfMAXqv4lre+Hc13s7uyZ98samz2\nJo5UUU7Npe7cFaUhUkq67MiFqI9P+5wa75HUeI+kHPi6+HN+qNmF2DiL2xbNIGn8d3QREBgZgtA1\n/GuWui8VPz8/wkPCG+GzUJTjXCK5q+6Ylq0lrOe25N9Xw8Bnzvr8yoApx16/Hgkxf4yjJKAPiT9o\nGd49j/1/JjAqsQ97dZ7s27maQ55a3NwPcMhzIwDmlH8z9/6hdI30PefPRVHARZL7X1T3TMvSUtZz\ns9vtTD6HxF6f9A6fALA88OiO8pfCV39VDhnr1N7H/R1un5XDF1OuoWOUX6PGorgml+hz/4u6g1fq\n89Gct5o7BMqDH+TIwL5c9v7K5g5FaSVOmdyFEEYhxEYhxHYhxG4hxAv1tLlFCFEghNh29OP2pgn3\n7Kg79patubtl/hU5qnkDOIF5lI/ad0BpFKdz524GRkgpewA9gcuEEP3rafetlLLn0Y8ZjRqlojSR\n4sqa5g7BgU3nx68zvmjuMJRW4JTJXdapPHqoP/qhbi2UVmHSjKkN1m2JDeDr9iF0NOqZ71XJLduz\nCC7ZAMDgbauaLKZb2/egOLuqya6vuIbT6nMXQmiFENuAfGCxlHJDPc0mCiF2CCF+EEJEN2qUitIE\ncs0Wdvd4yKk8NiOZIwO7ENE2huHREawc0IU+fQbz0v2Xcm87ODiwA7On3cV9Uf54VB5skti+/NeK\nJrmu4jpOK7lLKW1Syp5AFNBXCNH1pCbzgVgpZXdgCfB5fdcRQtwphEgWQiQXFJz/iSuqL7Nlaq7v\nyj3zv6m3fMHECRgNeqdynUbH1B5T8TR4YnDX8VSHNhy8fAJPHdhKQHnj/jzv9vqSbXtzGvWaims5\no9EyUspS6kZ2XXZSeZGU0nz08BMgsYHzp0spk6SUScHBwWcR7tlRe6iemwP5FeSVN37fdHN/W9YE\ndnMqMy7JIsgz8LSvITQa7rvjH2wZO5IJm5cyIGUTN61bRJu9X9Jv7V1EHXyx/vNspehqj9S9Z8Vi\np/p5Y/7JvDd/Ou04FOVkpxznLoQIBixSylIhhDswCvjPSW3CpZR/3WZcCaQ2eqRKsxn1Vt3wvCOv\nXt7MkTSeeSmbAa1DWXTaE3xw21f1n3AKRq2GN+6aisFgYMPhIn6YmUyhHIG2HDrmLqainRWv6hw8\nzSEM2rGRLj529mTawE/P0PBc3hA/sn6g4+zYuRe58ZTNhlarbeBdFaVhpzOJKRz4XAihpe5O/zsp\n5QIhxItAspRyHnC/EOJKwAoUA7c0VcBK69Mc3WXTcnD6v/XRzMvoF3f6d+0n8/T0BGBQh9Bjfwhr\nLDbgMox6Lell5aSXVbIkz8oO4Op/XkVCly5YaksJ/H0e3oUfUxE07dj1csOTeOqTF3l1mtPoY0U5\npVMmdynlDqBXPeXPnvD6CeCJxg1Nae2abf6BpRq7xvFuOKg2h4vub3jkzNky6o+/T4yvDzG+Pgx+\n/nmHNgb3QGaO/wcTZ7zNmhOSO8CygFAqzVa8DC41mVxpBGqGquJyVs58zanssj+2EOxtaIZojvt2\nykYCsh50KEsLHsjOrWnNFJFyIXOJ5K5mqConmhLm/PNw+5Axzf7gXac3coXG6lS+cO1tzRCNcqFz\nieSutEzNkUt35B+m2vdKh7IhBzfQaVzP8x9MPV69fiU++W84lM3o9Q7paRnNFJFyoVLJXXEpz9Qz\ntv2Lm29t9rv2vwihoaPZebDZ7YvVpCblzKjkrjS78zVYprrGzIa40U7l7m7OE5aa07yb1mKoWu1Q\ntqtNOyrzipspIuVC5FLJXc1QbVnO983y2987LzXwtmfLWjgMQKMx4F003aHMrnNn5ptzmyki5UKk\nxlcpLmNLkPNomA4HvufzDQtIL2lHYWAUSbaviei6gi7t56LNqyFg7UNQU47msZ3Y7Wa0WuN5iXXp\n2B/pvsNx8bDXL+7G3SUl6P39z0sMyoVNJXfFNUjJauMUh6Lp6fdSFp1DVFjdokkn2n3gKgD8o2pp\nf9hE5RtxZBbqMKRE8+UNU5kYGEi/4cMROk2T9NeHBHbggexreTfi+PQRq87Aw7P/w/v3vtro76e0\nPiq5Ky5hwRevQMwYhzLP6FMvzFXi78Ymf7ejR3ZCO6QwOvRJigviWPHmp/iFRBDWrgPuoVGQm4XP\ngFvRNNKEo0kR1/DuSWU/drqY9xvl6kprp5K70upJKXmTMIeyJ+TzZ3WtA3F1SwwYgw9hDz5EMVBs\nA7IhLK+Grz9dSWKwgb67fkDev43d2VXEhbqzq6SEvh2TqM3MonrLZnyvvPJv3weg/fCJBMweSXHE\nm8fK7LpANu/cQGK3fmcVv+I6XCq5qxmqrumND58ntcsEh7Ku7Gz098kNNdIxdB0VwJ9Dg0j4ph/F\n2QPoqltOX2BR+yto+9pG9vZ+DG3OElbmbgFfPb0NkoMZm7hp1G3EjnDc8u/dal8mn/Q+S7e/QGK3\nRY0ev9K6uMRomZYyhlmpX1P/0d1kWn3qRk0gJd6bDhHrKPHVIYExB+YTOF4QHzqfmAOf8h9e5h7v\n/xDS6UMGjNrI9C8XYsnPd7jGxaP+D7/c5x3K3oz8N6uKys/fJ6JckFzqzl1pWc7HshBSSlb2edOh\n7Ap5/tZJT4n3PqnEStu0jeREubNMG+RQM27cz7z2SQeeeuru44Wxg/jfzKlc69irxKQdh8gd3jJm\n1Sotk0vcuSuuq+fSX53KrmFOM0Ry3OE2Hti1zn/YKn00xLZbQFah40Jh0eM+Q29peePxlZZNJXel\n2TXl3LI8TYTDcXu5Fw32pnvDcxQWspeX35xLra32WFlcUh9u/cZ5jMytbzxyPkNTLjAquSvNpqkf\nhRwo3utU9hxPH3tdkx1DTsbxro2s7Gie+/NJfj80yum882nixR/w5euOiXvAMOe15hcl3kRVVZVT\nuaKAi/S5qyV/XdOsXx6FWMc9TP+6ay/d15N+w59Dp2+DT5A7+upSLN0M3HyTL1LeirTYMdVWUl6w\nhR8/LqXWdyXVHla2H+pLoraSpLZLEV23NFns71UO5kabHaO27v7rsilDif5pLhl+cQ7tvvx4OtP+\nz3lZBUVxieSutGxN0itjt/O9p+MDyyvkXPZsv5RRk0YxcsRVju19Qvhr+TAhBMJNi5ebL15ew7nj\nnjK0IWPIysvF/bF76OTVB+Ncd74vupMrhzmuAdNY3hrxBCu2hnNp0pBjZZ+228uYrFosxvhjZcX6\n2Uj5oBoRpjhR3TJKs2nKdPTz+1MpC77foeyB/JkkjrmZTlFXNXBW/YwxvuiNBmLbtOH/vl3AoJdu\nZ38vD4YaTaTueZpDlTeTbwqkujKAnIN9qSgLO/VFT0PZHsdlBjon3MvF2csdyt7rNoOFM9VywIoz\ndeeutEov+zn/aC8/PIF7r+t/ztf2D4/kH29/fFLpc6z74Wv8vC3oew6jcvrdtPVLYY7tcvzTx4PG\njk+XXyguiSOsNplrNIsQQImvjuzSeLyiDx6b/fqXwIg9LPjjIcZe8jYAOp03o3RdOHn60v1BK7jc\nNgxRzwic821vYhKBd95J0NQ7mzsUl6eSu9LsGnspZoupmIwYxweQXeU27nr0nUZ9n5MNuPr64wev\nLATgkaxyDhZn0DEiDpN2KAVF1WjNQznsPoCoyGmU5+QSqvdl2c/XEcA+p2v6L66ES44f3zDlPh5e\nts2hjcl3HAeSN9GhX98m+bzOhL2qioK331bJvQVQ3TJKs2mqbuI/Z9/sVHbp+h1odef/XsYY6UOX\nbl3QB7rj62ekfTt/2ib0Ia7t/bi5udGmTQxBEb5MuvtXDmbEO51fM3op6zckO5SN3fmdU7srDz6L\ntLfcIZ7K+aeSu9Lq3NL+JYfjBLmTzpc90EzRnL7bJs+vtzxv7ndYbcc3zn5l7CME529yaFMS/ioF\nX33VpPEpF5ZTJnchhFEIsVEIsV0IsVsI8UI9bQxCiG+FEAeEEBuEELFNEazSOjVmp8yaHWlOZXcs\nWc3Y3m0a8V2ahlajoeOa4U7lXpf+yH8+eOzYcXBcALf+udap3cNFHzRpfMqF5XTu3M3ACCllD6An\ncJkQ4uSnUrcBJVLK9sDbwH8aN0yldWr8fpndnzznVOYx0rmbpqWKfPxjwvKclxro3+0Xh+OL/Mc7\ntdkY0ZGy4twmi025sJwyucs6lUcP9Uc/Tr7ZGgd8fvT1D8BI0QIH3qo9VFs3u93OzjGOMzZDbdlc\nPuzcR8icLxq9juUZ99db9+cvy4+97vHC5XQ84Dh5qTzkEZ75YkRThqdcQE6rz10IoRVCbAPygcVS\nyg0nNYkEMgCklFagDAhszEDPRQv8O6OcqJH+5q7euIXvjU85lHVPKUCn057W+TabnZLc5p/OP+3/\nHqH7rnqW9PW+jWpzXd+7xqhjkr6XU5O58S9SWqDu3pXTHAoppbQBPYUQfsBPQoiuUspdJzSpL3s6\n/coKIe4E7gSIiYk5i3CV1qSx/+Y+uu8XiJ7oUPbFvTdhLSmhdONarJ0Tsf++kMM+Mfyo8cRAKZd0\n8GJpkZ7AbbsoqIKKXEH8cOjfOZDZWWn8uDyCO/1NzOoYx8xdGryMNqqv1xGQHYV3QhgRHm7MXDGe\nHzWTmTd4InqNwGyyoDNowGpGi40DZRDiY8TboCOzMpMIEUr17iIqewTi76bDoHG8x9JqtVQET0Zn\n+Qmr3rFu6udr+eLOoQDcO+VNvvzyGdKjrz5WbzW055d3ZzDlpadRXNsZjQ2TUpYKIZYDlwEnJvdM\nIBrIFELoAF+guJ7zpwPTAZKSklQfidJoaopzSTspsV+VNo9Fb35D3MxfOOQXjvA34F1eQYZnMEsT\nbyRcU87+7WYK7Z501FYQoS0nIATyd8O83Zl4A0N0GmpNxXRNruFRuy9B1VVY/6uhv34xYz6NZmdI\nON9XX0E/wy6+nLkAU6GNT7qPY4JhFyaNnq/aD2fa7nn4llVRbjPw0eWjmfnLDCLXzaUWHYc1Whbc\nch1hnRPRH0jljrunotVqibviCUL+O4sNSf4On9OU9v/AYt+DXqNHCMG7HgYc95iCf44cy/V5pbiF\n+jXtF11p0U6Z3IUQwYDlaGJ3B0bh/MB0HjAFWAdcDSyVqoNbOYXG/An5+t174SLHu9XwTRVsCvZk\n03XXOrUf73Bv0rB22rp7lO66XLrj2N2xKDQDyGCAR91xettYaAsTjl7bw27hzn1/YNcbKQkyAnBn\n8io2RAq4+vgfIllmouqrH3AP1PLn4r1cclkCeAXzou0ZLsV5BMxd737MjIfuA6D/hKeY8v3DfB56\ni0ObrR/dTb/nm3fdeqV5nU6feziwTAixA9hEXZ/7AiHEi0KIv3b5nQkECiEOAA8DjzdNuOdG7aHa\nes3vZXUqswV71tOy5XETdmo6BFMSEED5O49jLSkB4LUnHiIk3+zUfqJ2PjUWGwBCq6HosMGpzbhh\njyEzNjdt4EqLdjqjZXZIKXtJKbtLKbtKKV88Wv6slHLe0dc1UspJUsr2Usq+UspDTR34mVBL/rZM\njdXn/mfyj6z1fd6h7NbVCxrn4ufZrv69+eOWSceO3dxfd2rj1vUgy946Przzf/e/SHy68z6xO+Y4\n/8eiuA41Q1W54P2+4jenMjeb8538heLzbleRnZcFQKdx12M86ObUZii/Um6uG1Gj9TQwPPVzpzZX\nJjxA6uHspg1WabFUclea3bl0llmtVr7ofY9D2YMHT16x8cLSWZfPjLeOPxMIvWK5U5v1ffz59ofj\n/fH3TX4cn4K3HNqYvYbw2S9q1qqrUsldaTaN0Suz4reVztctcm+EKzevVP0BPvvmSwDah4ViK3V+\nfhAXPpPKqv0ABHSZyOMpHZzafNHjGoozc5o2WKVFcqnkrh6otj7vVeY5lVVX+zZDJI2rk66AXclp\nZJXkA9Cr30/1tlv2273HXgcmjKu3zaev3t34ASotnksld6VlOttRs6aaKjaEdnYom7rmx3rbbrBE\nU2yvu6O3WLX0cBPkG2qYVdOH7PJgAqvtWKWgoDCIxB1ZRFvqFiCTAjaYI1le246OaccXJdOW1P3q\n5BXX9Yfb5fFRxWab/tjrI7a6cepV8njZ6fL2svLhc/MACI5sx9C1RU5tPPwPkJOaCsCVk7pxQ/Lb\nTm3emOi83o7S+qnkrjSbc10W4odnbnK+pvX4UgOpZV2ZVN6HIZVeDO3Wkei+nbhh4mj+9dQTTHjy\nOV65+3G+ntybcR36oSm7iCuTJvPC4CLaXnUZY299gjG9evLg8IvpJmsIi/oMTy9PgrOCiChI4NFL\nq8izabnCP5nxgYsREXuZ2z6R6X1GE1FdRXRtNTVCx8rENnzVcSReB3cwq6YPs2r6cI1tHuFWHSna\nnVSW5xElvkZfWOn0uQBs8tbx2b66h6uHR/633jaL3/j52NfzhsturbfNrN/UJtquRu3EpFywHhvj\neEeakH8QgO9ruhPovYtZz/cmzjeOLlzOyHrO9/X1Y4CvH3QJP6H0Of7aVju0XUcAXhs6iNS1E0l3\nK2balAS0eg1wDR+NOX5WD7vkUauNMrudyMv7UV1Zy9cvbODuP62MuCUMY8zLDDNoWDzrECmGyWCN\nYYS9O+OeimbDunFw6G0yKwc4xThIf4Q3P9vA9S+Oo+OAG9j97u/4dHMc9hhw8TKyl/QhYtQokroN\no/v/7mZHR8edkF4wBzNFSrXOkgtRyV1pdmfTKbPrz+9B4/gAcWjqTiwWI+91qKLDpFuI8Wm89Ys6\nD4yg88CIBuuFRuDlpsPr6LG7lxu3vj7EoU0CcFGfOGAUVosNrU6DEILxV8Er95eTG/QxYfahTte+\n2rCDf925g5c/e57Rd3/MmlVdHerdQw7y/dxveGDUKADmXfkqsXscp5pU+4zh6bf/wcsPzzrTT125\nQLlUt4xaEaFlOZd7yAcK36+3vGN8IiNvm9yoib0p6PRah7voJ967hou0zzB69fZ626eF1vXdG/Xu\niHKjU33Xq5ZhqqlbB94Y7kP3omSnNl92GsKuLc7lSuvkEsld/SvauuQXpbM75D2HsinrFyCzi5ky\n+eJmiurcjX9wMEfadGSR2Xkv1fbGEn69ZhLSYsHb78l6z//s5ePj/WfbI/Es+dKhvtYjkey06xo3\naKXFconkrrRsZ/oP1Zvv/9uprMTqyROPTG2kiJqH0VOPsUsC/0yeWW/9H/G9yfrXP0kadgOpO4Y4\n1Q/q/gfLUg4A4DdsKOM3O69Lc4/tEhYv/b1xA1daJJXclWZzNv9QleQU0nHIPoeyy6wL8LeVYuzY\npZEiaz6XTruWjLBeGKurnep8NWZm4IWUFq6a+qFTfVGgGwdnv0ytzY4+1JPbo/9BQrnjptkVgXfy\n886VVNfamuxzUFoGldyVC8rbs2bzlMZxmn3bdTU8/1jrmKhj9DBy82vP4emeXP+/NBoN7372P0IN\nHmh3xjlVtx25kk9euAfsduJv70WHdaVObX7sPom33npOPYNqArVHjpAa35mavXubO5QLP7kX1Foo\ntRxfJKqsbJvTD211aTU6uw6JRNrsZK/ZRdGGQ/ycV0JudQUAVpudvPK6B1LSLpF2SanFyuSNKRTU\nWjCbTJQX5Du9vyk5GXttrUOZrcpCxcpdlP+2lZrlS7CnpUDuTmwp67EWOd6RVdls5Jst5/x1sNgs\nWCxWLLU27PYzvysrsVgx2+3H4yozk7bLedJMfaylNadMFHabndqahhfzmp9fSqX1pLilhPQN8EFf\nqCnnz9nPM73/MIcmkTKD4NoQjO4hpxVrY6oqM7Pgg+2YTQ1//2w2O3b78a/NuoNF2OwS2wllyUeK\nHdoEhHuS0P4Z8vzS673m1iOSG955mz4DbsWt1u5Uf0n7X/jsv//jp7k/8MyEB7h1y71Obd7vdzX5\nOYUOZRUF67CV142px1wJxYfZV1VDudVGbW0tpaWOfyhstmrsdsef/ROlp6eTl50JdjtWayW1tYUN\ntrXZqjGbj/9+1drtFJ/we11ZWkNlaTU1VY5fa7O5gMK0PDK2Of5u2mwmp9gsZluDP6d2e+3ffi4O\n18mronqP415EJlMa23dMpXTJIgDK5s07rWs1JdFcf72TkpJkcvKZP7kvq7Yw4Yk5XGP4hajK7sgq\nyfIof8JtO9gXEkRoXglhUUX4+xTjlXY1puJI8mQt0rKKsPSDBFf7kx/iS++ICXjq3Pln8EdcUjyU\nRTYvbrcGY3er4nuL4Ebhxq+aHGwaydXoOCQOcrhKi7clkT9iMxi+cwHVYTFIUyw1QTFU1RhID1zE\nQ5U70ZueYbFxLzHmCDxrfUkw6MiT+9ni5c9bgxL4YdF3vKmPJzC0mlBtGVv9Ypiweyk6aWF2RAID\ni3MQJkF+kD85ujASi4LoVraWdT5WxshtLJETyAhMJaxYEGAPQmfcQXBlNjYmEV4bQluPcBblfUq1\npYKKuJ6YNVV4+bTl0+6DuXr9D/SoOcLn+ktoE7GDuCJ3dPoO+OSFYbaaKA5dj66kNxEVBsyigoHu\nVWyv9iRd74M5eiOaMom3PoQNPkaSig7jZagmyTSK37wqWeq3iAfbHCbP1Ikfc/woSR9ChMgnPiaT\nS9M6MddtK4GmNqQYwkjkEIUelRTYvdG4FREqbFRHR0ChJz1TrCTHtGdjvDfTt+1ni3kRYd4WFvTp\nxXwPx32HPqq4g42bxxLm7U//TpeTvDANX0/B/tgj3DwmjsqA3pQf3Mdrh5+lX8RI7uh4KZgqOJQp\n2eIXQp9gfzztaexf8yXxve/FVuOGxWwnLtTCl9m7uapTH8K9wrGVm6nVVHMoJ4eMko3kHw7ELdsX\n+4FDaPp1Q9vGDZ23loXFexhjEoy9eAyH0/bzy4f7KPHIpH23cNz1BazauZPoKh3LPbox2d/KJr8E\nYlNnsjMgD0IiaFfhT6eUdMwJScwJzaL3/gB0DYwrGlJZgqY0DfsNO53qwla0ZVnZBLralhPlt5/B\nI2Y5tXl1y+sU2v0QNSZs+0qRpew5AAAgAElEQVRx9w6li1tvqnz28qt7KJbwvQyvNhHaaSOlJWHY\n7FqK//Cjw/W7sds07D08gp5FsaT5bMTuW0NVZQBpOV3peHAL7oZh7ImuS+YHrXZuGTEbgN2rbyY+\n8WsMm2OozZJs6CTYrzMyPteTDGNbcnU2wnOXss3LhK8cTfsAEzH2baRkJGIKCsRXU87wPT7s6HEE\nY+4e/iiZwNCuGaSZwvCu0KJ3L8Ldup02o+qGgv6xry1tihMYp1/L7NL+ZNk60jkkixL3g+TZLiJ2\n2yYqjNA2ZB+x8bns2pTIXkNHbDo3erlvpNxSQlSbckRub0o9b6S6qooSmyDe/xfMhnz2Hm7Hld5B\nULSW3X596JDpTUaNGY1HBtnhOnTasWzyLCa8NIsO5nJMZfnkd+nO41PuwcPt7EaiCyE2SymTTtnu\nQkvuTz//MEFVIVT6umMP7M5/4/25b+VqVrYNZXt0B7ql5TA4bR12qUEjg6gx5fHZmIl0L0jBZjNQ\nrXPDKvRcXvw7gVkxvHTRcAD+sWYhuT4BXJMfxE8dDzHGfx552y4n11jO+sT27LN2oUrvTrCpBGwG\nfE1FjCpJIbT9CtYeuoJs3xh2h0byxJ5nWOR5M9uj68ZgR9ZmkuUWxbhtq/ilp/NDsL8M27uVFZ16\nEWnJpsruSYXek6Qj+9gQl8A1B1cTZduJ1u8IFVm92BHRnrWhSWjsNobnr+HPsKFcdDiX23Pzebq/\nJzZTMB0y9mLQBZNgmIe3qYbtEZ34ybtu7ZFuJans9O/cYCx6aSbSnEOONgKz3o3ZciIv5f6H1PD2\n3LP2Gw60DeX38OF0lrtIFV3pknWI3ul7WdQ/iWfMz/Ogsa4/eGzVaoZbfsa8fhwx/X9kR1ksy2P6\nMjBtB3FtNnO/+OSU3+9bVy/g16Q+DDEs4Ttxo1P9M1t+Y0TeKmqsN/NBbDIvZF/pUG8REr0UjO39\nO9XyIFdVPshWr0z2uyXTpvoAmTp3rsnyY1reJEqpotLNhkmXT0dTewA2+FWS7+7BFTkadvuU0aW8\nbt2aJ7obcZMVBK6Zg6HL9VitS/HSllFkPURVRHtEUV+qNMmsDgshgK4Ue0QTv/t7vA3hjCkqY2Tl\nUBZG6Bib7fjfygK/lYwtrRvrXi3MPNFuK10z69+0O8zuR7Z/HMN61D/7tHjtbfSq7I8BHRU6GDHS\nx6nNbavmE5lbRH5I3ZZ8kbYAsrTFBARmoBF2Oic4L8z2d1avupEe0psdmlJ0OgshoQdp23abUzur\nVc/6TRMpNXoxttcMp/qSpU8S4FPISpMJg8FEaNgB0tO6ERiUQVFhNEOGzj7WNisznjD/THJLo8jP\ni6NX70V/G+O+vQPwzOhMxKhPySYSN2pxw4wv5Vhq3ShZ0pOQMRvrrr08iZwETy4uDqMk/lt8Uq9l\nmaaYxE6LsaJj2dqbCBi4i94kk77sIYZYOvNdGw2LgmqJrEnjUHg449atx2bT4+5eRnTUbg5vi2ev\nLYov3nrsjL62f2m1yX3OfW/z8FXDmyAi5UIzNf8T7th6dkP7nuxu5N87apjezo07D57ev+PNZbs2\njU36Aw3WdwkoI6Br/d0AOdkdsNl15OW2560+t9TbZtqKn4mL20Rk1B4OHOhDbOw2dLoz6yq0ocGG\nlm+5iRH8gT8l6LBgR4MBMwLIJoKPeICpvI8OG/8n6pYjnibf4whxeFHBVhJ5kuepwR03apEI3Kmm\nDB/8KcWKlkyi+YCH6cN6urGdmUzjSuaiwc5n3IlZGHlT3sth4thOL8LJZgBrqEXPATphpBo/SthL\nPN8J5yUs/nKNnM1aBpMp2gAwVb7PYdrxhxhTb/sr5E/MFyfvaFvn7ooPGOC1gjnczK/iCrplZbH4\npsvP6Gv8l1ab3G/67xcs6dy9CSJSLjTfLNlLe1vDs0Zbk9mGVVSLhv8IJSQsIzAo82+vsXjTLczq\ne4VT+cs5zxAUlo4X9a9vUx8bGgRQjg8f8iApottpn6vUyR3e86zOO93kfsEtP+AWkQ2o5O7qrpZf\nE2sb3dxhnDfXmgcyy7i8wfqUlOEMGfplg/UAI/p8wSyck/tT4f8C4FH5Ep3ZjYH6/4j8zmgyicGT\nqgbvUJWW44JL7gaf8uYOQWkBJq9vgw7tqRu2Ejq0+NjdKdc4j3//y5bNl9M7cWGD9VrsdJIp7BUJ\n9da/Lp4GoLfcRHv2HuuyiJQZZInoc4heaQ4X3FDIysrA5g5BaWb3y9fxrmjf3GGcd9fUDvzb+qqq\nAPbtdV5Z8kSP8yKBsuBv22wRfRz6olVivzBdcMk9tsZ5rLniWiJW9cZHXvhb6Z2NJEu7v63Py/v7\nP3puWHiPaY0ZktJCXXDJPb7g9B/6KC1HmMxulOs8u3Mjo6r7Nsq1GsOrnQ1N/h4LM6ZTYambNNPT\nFsutNSP+tv26tdec8ppfyYmNEpvScp2yz10IEQ18AYQBdmC6lPLdk9pcBPwCHD5aNFdK+WLjhlon\n+3AHJneeSRQZhJGDFhsZtCGGI9wjZjJO/kgiGyghgB5s5RbxLQD/lg/zpHiLNvIQacJx2vYtuz9h\nVpc7ALhfvkFWRjyjon9k98FJ+LVbx0ui7oHTc3kLsIes51/ipXpju6hqO/H6jXzsdgcT89YzP6QX\nI/gDO1oS9+h5pXPdioVtLUc4rI89dt7lOzdycXYtB/vtY6lvEg/xHxZxJXPFtQ7X71GQyn6fOEwG\n54QydN82VnZ0fPo+MutPOkTsxoQHeqzMFI53bLHyEMNZwmeibmOHSzOr+D2qbiPmd+Q0HhQf01Ye\n4CX+ScrKBDyGmvDJ1xJ0eCrX96+7g5xSsAhrZiSze/U4dt1hBWu5YmsVj1xS9/m+9tkv9OrhTn6v\n+461qcCbaWIWbjY7/7d0Dt92GcahCOd//y9JWccfCXVdDV9Yr6F8+wT+tGym0JyFrz4Im7QyOPp6\nXutUhBsGKnUGvMqXsiJmPHaDP7VUEX/oZXZ2eBaD3Ugbk510zSY65f3KjAOPAPBygoG79ldzb7uP\nqJKCYUe8uYaxmHWBzInVs1H7GWOqrmdzoAczNtb1eddo7IzvdB9S401b37FcWzaYgcPyuWrzfMK9\nbKS79yJCDqJaU0P/Yj0bArWYtVClFXTOW8744gF8EbSAlaGe7PcoY0Cxllw2UuU7lGxjEFq3zpgM\nwTz6cV0/+JLsL5nQ5gEANAiurejFQrmaSh/njbOtVgO7do6ga7elTnV/EcAz8ukGf5aVpjVu9yo4\ny9Eyp+uUQyGFEOFAuJRyixDCG9gMjJdSppzQ5iLgESnl2NN947MdCpm3N5WPZz9BD/N+bHlerO2Q\nxEvaOayKjEIbaUKkdOJIqT8RFhPD3Jaxzz0Wr6pqntIOBVlGkrWWne4ZTK610yasgBXGbnyQMpax\nIgdvw0EsFcGEGEpYqz/IAM8s4noYSKvsRcKmBBZnb8BmDOWioCDWuq8m1rMj62UXkr2S6VlUy80m\n+MlNyyO1hylhAsU5e9geYMeqC8csYjnQqwj/jaWM9N/Akb5e9N9eQrvydH7Ov5b5HSpoXxnBF9U9\nGGhew8CMQv4YEERY1U5uEHDAaCDbWEF2Th86GcvZqN9KuHsoq9rcwEX7K7BmFZPRxYPhub/ySuL9\n3PPbR3QyXUpIQBVPuwXSy7iP0qABaDhIQFUNc7pfwYsbXsVm9SDb3Jk0TTVXea3gUHpXwvw7Ib1S\nCdq+h9SoELK9POlhGUyu10Ls9gQS3Naz1a8X2qISKqoSOOKVw5pe4xl24FdCDu+lyK0dbqHBjMvc\nwXchOQSVh9DOlI13hAcr2oxgmQzgiu3fMdKWw379CDwisllUVkWauJUw7zIuLk/H5BdO5p4dROnK\ncff2oMy/hD5ztewJKqn358I3zp/h179IdWAZHh6xWLZuo8OwoeTP+IACvzaUDRrCkuzt9BRReHjU\n4llTyn92vUy10cJbQ9/C02REK2vxCfYjecUqBo+4khKTnXnpBVwbZaCywIy3NYucaj9Mxiq2ZhVi\nkFVcNrAL2cWLybeH8tKWD7ltT19G33wnWuFHitxBXkkyg/SDyM57H33wZH47okG3cA6THnsGrbWa\n8C6J7E87hNlL4KczULM/A58gPR6+Wtb+eAc7Fze8rILOYxRCH4rJOx+3Sj0WTzsVHlVsq/Xj9v1/\nsG9gFImJC461F9VwYm+WBG4S9e8529Re/fALHr/n5nrreqXvJTIvizu/mcOvowfR3nMf3X7OZV9E\nN+594GGenvEe3w8WRJdvoHNlP37pEE/3fSvIDu3Llq51k9i+eP5JdrRrxxuTbwPAp+BTfOyjsWps\nFAaEYdXWf1979/ffsbZ7F7Z1OvUidP6l6ZT4xeBfMI9+KYf5bdgDDvWGqnXY3RKx6N3wrqokJnsH\nuzsMJLCqkJWDexPoF3AmX7JjmmycuxDiF+ADKeXiE8ou4jwld4CS8irWr1vN0MgosFjY555JabUb\nA+OHY621k7M/lbAO8dg3f8aRxT8zi0t4+tl/sGtJDr36x+JWa8cQ6U11QR56n0AqrHa8jDr02uO9\nVBa7BZvdhq5MUrEyE12AEa+hUX99vgCkVlYzfNNepneJ5YpgX8COEFqkXWItrkHnZ0DoHHu+Sk21\nVNXaCPMGS+5uhFckBt/j27xZbXY0QqDROE45LywsxMvLC6PRWHf9wmr0IR71niOlBCkRmoZ73WyV\nlWg8PZEmE3azGV1A3Q+atEnsNVa0nnUbOtvKyxEGA5p6/lv4673MZjNGo/MGEn/FZrba6fXcQny9\nPdn01Cg+WXmIlxelsuSyUnSxAzhc40W3KF/Si02EeBuoqLHy70WprNpfyP6XRx/7vmxbuo19n/xG\nhn11ve+VeNUrXHTt6Y+3th1dg0eraXmjbmprTXxy9zhqKur/uus9L0fr1unYsV1YMEQvpcbizcVf\nH53q3yUB/86H0XYrxxYsCXtQz38nP8Sj+W+T0dUPk8aHZcVdmNV9ylnH6VG+DpNP3X9WF+9NI66k\njKi0nQSl7cEg3DDbarjr8ZcZv/x3Hvh2Fhatlp9GX86t4lJKCjexVruK6rhbKfAPwE4+Qda1XJM1\ngZ3u+3G36/ijbANhWisL4kO5KL2AETWJTO36Pq9kTKRtdUde7tqBtoWp/NixK8/o72f31m6UtBvB\neMsCEmp6kbX4W5bE92dNXDjpmiAiC3cT4tmWP6N6kVi6Fk9bO3LQ88nefxJpL+Ldmsl4VefjVmsg\nuX0XrB5b8NB2xd29DQ8OGcrHG1cT8MPnRA6/gx3aAB4e1hU3fwPegUbe3pOGPT2duA6+pNZUMsSm\np1NsLFqdhm0lAqvOwsKiWqZFB9PV2+Osv+ZNktyFELHASqCrlLL8hPKLgB+BTCCbukS/u57z7wTu\nBIiJiUlMO2E3+aZSW2NFq9eg1V5wjxeUerz8+iMYk/fUW+cTE8Mdr9e/ifSFZuYTQyk95LxcQI87\nUtnw5734lfRwKF/T08acaRfz80WD6ZTrvODbvo49qR6XRdfhj9NRk4AIDKak2EZNlQWbsZzxyV+T\nF1z/zEsAYStFauuWKAitySTPGEVQRSYvbH+M4vzeLEoaTrvqQr7qdCm32zbgVruaK/auwbvGl0M+\n3nQIf4TXq4LY51PGu20XYjQPweNADeETJ5FnqcAqrQQKX6iG1XvzWJJRynPju2PUWCBlHilR3Yj0\nisTP6IeUEltxDZbCatw71d2UWE0VmPfvx7NH7wY/h8rKg2g0IXh4eDtXWs1YrVb2H07HaDQSGhqK\nm5sbOl3LGy3e6MldCOEFrABellLOPanOB7BLKSuFEGOAd6WUHeq7zl/O5c5dcW13vTaQ9pvr/5c2\nblQsE+744DxH1LhMB9P56EnnJYyD4rpgjfKkZudgh/LlnuXMeHUsnqKa/V2dHzZvGNyXa+7qh67b\ntbi51T+UuLS8nPt/foTYLC+m93fsLhmZ8xtTxPfE9ZrNt8Kd63yNtAsLxVZWhtbX1/E6Fiu+OkFu\n7i+Ehl6JzVa36qpe749NSgSgUTujnZNGTe5CCD2wAPhdSvnWabQ/AiRJKRtc41Mld+VsHc4+woKn\nZlBrcl6QyrdtFTc/twg39wt3qOSih28lNctxyK/e08KlL33BrNc2ElXj+BB1eTc9398zhG//N4Lu\nb+c41g3qyl33jodezouuNcRis2Eqq6Cg5GdSCj0Z2/dqlZBbkNNN7qfsqxB1HcwzgdSGErsQIuxo\nO4QQfY9e9/QWA1eUM9Q2IpaCgf3qrSs77MmsJ6dCbf0rKbZ0UkqOFDnfE7XtOYi2YcFOid3sv4M5\n0wYBUHDEcXij++BH6HxV/hkldgC9VotvgB/t293Clf0mqcR+gTqdjuhBwGRghBBi29GPMUKIaUIc\nG1t3NbBLCLEdeA+4TqptXpQm9NTNl6DzaFtvXUV2Mave6weVfz8TsyV69e4lVNc4bsDRZmQmY+97\nhulz5zi1f/Bf96LXaigpymfMAcc/Ct8mBTB09GKncxTXcMrkLqVcLaUUUsruUsqeRz8WSSk/llJ+\nfLTNB1LKLlLKHlLK/lLKtU0fuuLKDAYDYd0aHia4cVMsL/z42nmM6NzZ7XaMXs5dlZ7RGoQQDHjp\nXac6zdEHfusW/Yh55zcOdb0vNaDRuDVNsEqLp4aQKBesSQ8+STt9ElpDYr31PXV/UvNcDGRtPs+R\nnZ0Frz6GPX2NU/mll9ZtHLFiyD8cyo39jt+pH9zm/F/KiDaXNnKEyoVEJXflgqXRaOlw98V0tunr\nrT8wL4JPKi7HNn1Uo71nfnkN5pP2ej3WA3l4Fax8A/vRPXgBKNzPmuVzyclJJfvgAbblbj12nrW0\nGtPBNWSYqvkt9SAW32VO7xerNaDR6Hj6y08xWOId6q6bNB4Au93KqIVfO9SVv9GjRY7fV86fljeI\nU1HOQJeBg3ht/kt0P1R/IqvNyuAdBhH69rWMnfwC32Wv5PZut6MR9d/XWEtr2LA4HWOvAD77dTt9\n/XOQq2qo1e5jhPv3rLN1Js0wgZD8CspNS9Hq22A0F6Lv6UZAWjSlAzcz+JefOJjXljabkzkSE8v6\nke3ouPs9NmkzuFtXzSJtEvmZVZRlJOIu2lEU8Q7+paOpyg53imfinLoZpCHrTA7leXIHnl51a8wc\n3P+503ldL1LLCrg6ldyVC96nLy/g2dv/QUBVcYNtaouz+N+jP5AbuJCv/PezatgtrM0rI95UwxjL\nZ0TEBbFvfgDVhSkMDj9Au52ZtN2byImdHT9TNyXdyC/8NYPPZkmjSgPsqKKUEtxWS7b3MVHunsZu\nS90KjUH79pNb4UWMthPzbRrqlmhyB1KoIAW3UqjCYeoIAG0Mx6eKaO2Oa7B37HPk2OtfFtZw8oZt\nnl6utySy4kgld+WCp9Vomfzcq6x96P8o0VfU26Zknx861hNlCqQgI5X4Hf8kHjB6uFNqqqaUujVr\n9MCGw6FsIPSsYqmtcCNtaaRTGYC0nVkvaN+AuiGIu3bvdaq7+qZ/HntdUurY3772g2k0vP254ipU\nn7vSKsS3iWBlUAf0Xme2/VuNqeGdjZrTyPg0Yt6pm1by/mcrHepqKMNorOvCqampYcryXcfqDN2u\n5R8j7kNRVHJXWo3/vvskUh8BounXWG9qe6OPLwfbvdJxg44rxh6fhfr2sx9hyz++jNP0Yd5o/mbB\nOMV1qJ8CpdXwcDdSU/oRHt53NHco5yRmeDbjJ9fdtedmOC+u13Fs3bozUkpGbHRcsz0vcpdTe8U1\nqeSutCqPfDUXmfcOnYtjmzuUszZp6mYMhmAAZryzxKEuzTvr2Ov3vlmKT+4Bh/oPx37Y9AEqFwSV\n3JVWRavTMeTBm4nOXoPR/+HmDueMGUIS4YS1XPyrHJdYCOp3fM2cHTtXONQtuvEuPPRnv0640rqo\n5K60Ot1G3MD8Hn3R2swYfJtmM2id0Yp/x9KzOtc3toLQ3oW4+dQ6lLsHVTPt7WePHc+Y7rzcwKMT\npx57fdevCx3qeg6MPLm54sJUcldapZuffYh83WKExgOt8ew21L5kzHYiL/HErUdHanr4ETgsiyE9\ni/AYCF2n7Mdb60fnxAg0Xp4EhXThxk4plHTtyr6Q0dAhhsquZiLbFmMQ8RTr+lITH87KTlO43X0b\nV1v3EjjIgiV8FFqf/qR0DmDV6Ch0uuOTsfK2Oy4gttmw79guYACe1Y4Tm0aOVJteK8epce5KqxQV\nH4+Pbzv6//486/s9j87QHSktgBaN1o8AQya1oVuRZhPVpaPwsq6lrCqFIfpyooOzsQdVQpYHncxL\ncRO1MG019pAEZEkxnVNMeA6KRjOi7t7o+P5F/+HEeaH5pny25G3huraXOQa3zYqxzUBu8G8DQG21\niV2lqXQKOr68QKXVRpqhDX4n5O+HRrU59vqHjamcuMunxkfdtSuOVHJXWq2pT9/Mh9lZuANC48OJ\nq5IXm6NY4GXkmQntiNNGYv3sHaKCd8HDqaAzwmttYewLkHTrsXM0AIHBeA85vfcP8QjhspMTO0DP\n6x0O3dw96O3uuPjZp9+/Sg/TAIeyLmMuOfY6d8Y7Dsn9w/GJvHd6YSkuQnXLKK2Wu5c3E27sQd8N\nT9ZbPzYliLWffk5YxzCiXlkDz5eBTwR4BNS9PiGxn2+aFY6bkVg9/0SjPd5l0zOz0qH+5fvr/xwV\n16WSu9KqtRs0nBXtQkhInVVvvXvFeNJTN57foE7BbrcjTvrVHH3TNcde79uWS+ChLceOjb1uwdvL\ncS9TRVHJXWndvEJIHDmIWuuBBps8/Gk2m/IPnceg/t59jzgvodChZ/djr3/40LED5v7L69/0WnFt\nKrkrrd6wOx9hV1QAAcUp9dYPr/Ah95FlpObXX38+2ew2Ophvdyhz1+UcGyUjpeSaan+H+vvbOy5P\noCigkrviAjRaLdf+8wlyxa8EFm6rt026R1teemUrVnvzbv27O2MXepvjJtjjpwQfe/3hks1Ykj91\nqL+4//DzEptyYVHJXXEJUb0H4RkYQkZopwbbDKwO597Zv9Gce7v/NGOlU1lAn+OjZDwXOe7WVB2g\nZqQq9VPJXXEZt38wAy/tbmLS5jXYptsaA+/+4Lyz0fkgpSSooItDmU1b4nBsKc1wOC5/JaLJ41Iu\nTCq5Ky5Do9Fy13uPUdDmCiKyVzfYzu3rvVSnOG+Q0dQWzXnDqeyae44ne3NtIUPWLXaoHzL4+yaP\nS7kwnTK5CyGihRDLhBCpQojdQogH6mkjhBDvCSEOCCF2CCF6N024inLubnp3EEEl6/GuSK+3XoZc\nzKK31mHaWn//fFM5sspxIlOWexFhCcdnre7dt8mh/scJ16HVGs9LbMqF53Tu3K3A/0kpOwP9gXuE\nEAkntRkNdDj6cSfwUaNGqSiNyM1gJDkMfAu/a7BNhtGTJU+9gN1ma7w3zkyGskxkVSmlJXnYpR2L\nzQLA5/fd5tQ8t7u7w/GhObMcjisafnygKKdefkBKmQPkHH1dIYRIBSKBE8eNjQO+kHVPotYLIfyE\nEOFHz1WUFueBb+bz+O23ce2GurVnTqa3BpLW5i42D7yIXkv+RKMVaDz09V9s/xLsMX05mPY+bQPG\nU1hqoCJnO4VrPmC+KYROXE1+gT8F+moq7K9Tax9JWWAVSUVd8LbrWOZeyXDLjU6XvWXs8XUObDYb\nofuCHeqnjp98Tl8DpXU7o7VlhBCxQC9gw0lVkcCJT3oyj5ap5K60SBqtloeeepIFz69Ga63GpnN3\nbiN1rBg4lU3Pfk+RLpDHXxxOyf4/MO0xsDUqloG7C1l25DVmBXchpHAvMVG/4burJ7m+24kr6g88\nQyRQCXgAbWo9gaNL9p6wp/Xwai+n9z7olctNfseHRKbs2YLfrj+PHdt0BuL84hrla6G0Tqed3IUQ\nXsCPwINSyvKTq+s5xWk8mRDiTuq6bYiJiTmDMBWl8YW378iYhyv56eO8en+AAdyrI5CAu3subz43\ni1q3EvQWLzJXF7G9dC2FERcxMj0AD1MUFL4AcDSxn5uhYSZ89cd/Pf/4YecJq0/CnIl9+Pc5v4vS\nmp1WchdC6KlL7LOllHPraZIJRJ9wHAVkn9xISjkdmA6QlJTUvLNFFAWI6NkTa/kNhFm6UBQ8qMF2\n7tVhUB127DgBwGMCwWe3X8ffktgZe8/NDmUFbjsdjp980nkjD0U50emMlhHATCBVSvlWA83mATcf\nHTXTHyhT/e3KhUBoNPS+4jLSImIZsvqx5g4HgEWe6ejc3Y4dm2ttTPn8t2PH2pAEvAxq8pLy905n\ntMwgYDIwQgix7ejHGCHENCHEX3uYLQIOAQeAT4C7myZcRWl8Q2+8BV3+DxyMjKP31obuX86f6Xdd\n5XC8e57jXqn2JOeHr4pyslMmdynlaimlkFJ2l1L2PPqxSEr5sZTy46NtpJTyHillOyllNyllctOH\nriiN54EvvycragRaSwnRGUubLY7FbQ8R1d7PoSxt4W8Ox7sSVI+mcmpqhqqiADo3N+6ZMZVNfV6k\nTfpvpz6hkdmFhYLQ1Vw3+lKnuvh18x2OJ9w87nyFpVzAVHJXlKOEEIS3XcWR6KFEZS6j+47/Nur1\nbRozFT77ATDpyygOTCZVX06V1xF2BO2GiKFc2y3K4Zzy3esdjk1xfdG6qd0xlVNTPyWKcoKrHn+e\nN7dczsAj4Fd+iISUWaQk3HLG18nxyEOjz8OglVh1VQTlDyQmrIIoUzzfs4LBnmb+1WMI+f6hXG8N\n4X/D+tQ7SWrzl9sIO+E4a1IciU6tFMWZaK7lTZOSkmRysuqaV1oes8nEx/d8wiXrPnYolwiyIgZz\nqO0V1Lrp0EgDVm0Vi/wKGacxE7/v/9u79+CoqjuA499fNiSgvIK85CUPYYg8ahAp+IjRGRHBB04t\ng9iCFCcVX9XWjnS0iJ1OR3HUUXlYUOoLFVELjNURKoiMj2CAAKFBgRAFwSSIEJAEyOb0j3vA3ewj\nu5sNm737+8zs7N1zz3dCqBEAAAonSURBVD177i/3/mZz7ms1BUPGsb1VFrmXZjN5WB8qtu9hT5qH\n8ZUHWZ5zPr9sH3jBUji7J82mZuO/Tn/uu7mIzMzMuKynSk4issEYM7zBeprclQrkra1l8e3zuPiL\n0LdJOnbFn+jUfgCHJq9g6KDAOzo21pov19H1t/l+ZdnbS+L+PSq5RJrcdcxdqSA86elUVq9k9RXP\nhaxz1tonSRPhk+I9Ies0xvpl3/h93j0u8GCrUqFoclcqhPsWL8PTqoyPcp8IWefIsnzGb7qbF165\nhU2bJoesF4tJx7v4fR561/i4tq/cTZO7UiF40tO5ffZkJO0sVl/y55D1vFXfMeZ/d7K1qJgTJ36I\ny3cfr9jF0ffu9Svr0TcvLm2r1KDJXakw0jMy6DakFDJ6UzQh+KmRx1Y/iveHXVxZ8iRzbv99XL73\nrZkP+31eMkmff6Oio8ldqQaMv9N5kMbBCsN7o4PfQ/3YusepLpjHdxffwNuzb6WurrZR3zn8Y/+n\nQF1105RGtadSjyZ3pRogIkyfm0d65x20pjs1GcFPRfSWF3NPYRUjD97Brqdfjfn7vEGe/pQ7ZHTM\n7anUpMldqQikedKY+tcp/FTxDi/dFPp+7dUFczF1XlpVnk9V4WLwRv8L/pnn/O9OuWHSr6NuQylN\n7kpFKKNFS3Lyt3Fd7ir+m3dfyHpHV0znyLJ8qt7uxaFHLoMoryW5cslGv88Dc5vmVEvlbprclYrC\n4EHPkiZwwYTZfDry0bB1a4oWc7T2CUof+1vE7Zft3kbLH7/3K8u5PL73uFGpQZO7UlHo0mXc6en2\noxeGrXuybC21+zfT4lAey+b9iqqqLTR0Rfjr7/rf8mDfwMvweAKf76pUQzS5KxWlS0Z9DEBW11KK\n7mxJae/rQtatLpjL0eV30P2Fb/n0zYmUfTMfY+qC1jWmjtbF/gdT113fO17dVilGk7tSUWrV6ufH\nBXceXMW3PYdRPXRA2GVaHzvKkNJ/su1pw2sPTuV49eGAOgtWvcjVn6/xK5s17aH4dFqlHE3uSsUg\nM/PnG/Fefk8Fm7pnN7jMyX0b6ffhHC4/MIqnp01hb3k5lTUnTs//xUcVfvVbjbq3fhNKRUyTu1Ix\n6NrlhtPT5Qeepff1S9l7deD92H3VrHfG06s/e4Z27Yawe8FO/vGGc7HSF8tfo93y1/zq/2fE2oA2\nlIqU3vJXqRh4vTV8vHZQQPnZ88+m3daTEbXh6ZRNxsDreNm7kgmfbfafmd6SHhvW0iazbTy6q1wk\n0lv+6pOYlIqBx9MyaHnNhJ+oquxFz++/Dzrfl7eyhOrKEiYEmVc27n6yNbGrRtBhGaXiyHsOpM38\nlkX5t1EyYFLM7Rwe2y+OvVKpSJO7UjEaMjj4xUUCjLlwAfu7XRpz2xOviH1ZpSCC5C4ii0SkQkSK\nQ8zPE5HDIlJkXzPj302lmp9OncLfzOs3j3fj6743hK0TzOvXjIm1S0qdFskv95eAhra2dcaYC+0r\n8mutlUpiIhJ2fps2/eg1fwYzxz9AwUUPRtzu/bNCPxhEqUg1eEDVGPOJiPRu+q4olXw6dx5LRcX7\nAPTv/zC9ek71m59zXhZLH5tGVdURbl04n9kLqxpss0NWtybpq0ot8RpzHyUim0XkAxEJPD/MEpF8\nESkUkcLKyso4fbVSiZM98DE8ntYM6D+Tnj1uC1mvbds2LL33U169+saw7S39Y+jbCSsVjYjOc7e/\n3N8zxgwOMq8tUGeMOSoiY4FnjDH9G2pTz3NXqWrfpk2sXLKdgSv/Trtj/veZyd5ekqBeqWRxxs5z\nN8ZU+Uy/LyLzRKSjMeZAY9tWyo265eRwW04O68cOYs/W1Wxtdw4Dygo5/+K8RHdNuUijk7uIdAXK\njTFGREbgDPXE5xHwSrnYiNyhkDsU55yb4M9mVSpWDSZ3EXkDyAM6ishe4BGgBYAx5nngZmC6iNQC\n1cBEk6h7GiillAIiO1vmlgbmzwHmxK1HSimlGk2vUFVKKRfS5K6UUi6kyV0ppVxIk7tSSrmQJnel\nlHIhTe5KKeVCCXvMnohUAt/EuHhHQK+ADaRxCaQxCaQxCZRMMTnPGNOpoUoJS+6NISKFkdxbIdVo\nXAJpTAJpTAK5MSY6LKOUUi6kyV0ppVwoWZP7gkR3oJnSuATSmATSmARyXUyScsxdKaVUeMn6y10p\npVQYSZfcRWSMiHwlIjtFZEai+9PURKRMRLaKSJGIFNqyDiKySkR22PcsWy4i8qyNzRYRGebTzhRb\nf4eITEnU+sRCRBaJSIWIFPuUxS0GInKRjfFOu2z4J183AyFiMktEvrPbSpF9MtqpeX+x6/eViFzj\nUx50fxKRPiJSYGO1REQyztzaxUZEeorIGhEpEZFtIvIHW56a24oxJmlegAfYBfQFMoDNwAWJ7lcT\nr3MZ0LFe2Wxghp2eATxup8cCHwACjAQKbHkHoNS+Z9nprESvWxQxyAWGAcVNEQNgPTDKLvMBcG2i\n1znGmMwCHghS9wK7r2QCfew+5Am3PwFv4TybAeB5YHqi1zmCmJwLDLPTbYCv7bqn5LaSbL/cRwA7\njTGlxpgTwJtA+CcOu9ONwMt2+mVgvE/5K8bxBdBeRM4FrgFWGWMOGmN+BFYBY850p2NljPkEOFiv\nOC4xsPPaGmM+N87e+4pPW81WiJiEciPwpjHmuDFmN7ATZ18Kuj/ZX6NXAW/b5X3j22wZY/YbYzba\n6SNACdCdFN1Wki25dwf2+Hzea8vczAArRWSDiOTbsi7GmP3gbNBAZ1seKj5ujFu8YtDdTtcvT1Z3\n2yGGRaeGH4g+JucAh4wxtfXKk4aI9AZygAJSdFtJtuQebHzL7af7XGqMGQZcC9wlIrlh6oaKTyrF\nLdoYuCk284F+wIXAfuBJW55SMRGR1sA7wH3GmKpwVYOUuSYuyZbc9wI9fT73APYlqC9nhDFmn32v\nAP6N8690uf0XEfteYauHio8b4xavGOy10/XLk44xptwY4zXG1AELcbYViD4mB3CGKNLrlTd7ItIC\nJ7EvNsa8a4tTcltJtuT+JdDfHsnPACYCKxLcpyYjImeLSJtT08BooBhnnU8dwZ8CLLfTK4DJ9iyA\nkcBh+2/oh8BoEcmy/6qPtmXJLC4xsPOOiMhIO9Y82aetpHIqgVk34Wwr4MRkoohkikgfoD/OgcGg\n+5MdT14D3GyX941vs2X/fi8CJcaYp3xmpea2kugjutG+cI5wf41zlP+hRPenide1L84ZDJuBbafW\nF2dM9CNgh33vYMsFmGtjsxUY7tPW73AOpO0EpiZ63aKMwxs4wwwncX49TYtnDIDhOIlwF87D3iXR\n6xxjTF6167wFJ3Gd61P/Ibt+X+Fzhkeo/clue+ttrJYCmYle5whichnOMMkWoMi+xqbqtqJXqCql\nlAsl27CMUkqpCGhyV0opF9LkrpRSLqTJXSmlXEiTu1JKuZAmd6WUciFN7kop5UKa3JVSyoX+D2Nx\nGY5X3aVEAAAAAElFTkSuQmCC\n",
      "text/plain": [
       "<Figure size 432x288 with 1 Axes>"
      ]
     },
     "metadata": {},
     "output_type": "display_data"
    }
   ],
   "source": [
    "for i in range(20):\n",
    "    plt.plot(stimData[\"Feedback\"][\"0_feedback\"][:,0,i])\n",
    "    plt.plot(stimData[\"Feedback\"][\"1_feedback\"][:,0,i])\n",
    "    plt.plot(stimData[\"Feedback\"][\"2_feedback\"][:,0,i])\n",
    "    plt.plot(stimData[\"Feedback\"][\"3_feedback\"][:,0,i])\n",
    "    plt.plot(stimData[\"Feedback\"][\"4_feedback\"][:,0,i])\n",
    "    plt.plot(stimData[\"Feedback\"][\"5_feedback\"][:,0,i])\n",
    "    plt.plot(stimData[\"Feedback\"][\"6_feedback\"][:,0,i])\n",
    "    \n",
    "    \n",
    "plt.show()"
   ]
  },
  {
   "cell_type": "code",
   "execution_count": null,
   "metadata": {
    "scrolled": false
   },
   "outputs": [],
   "source": [
    "metaData.shape"
   ]
  },
  {
   "cell_type": "code",
   "execution_count": null,
   "metadata": {},
   "outputs": [],
   "source": [
    "input_Data.shape"
   ]
  },
  {
   "cell_type": "code",
   "execution_count": null,
   "metadata": {
    "collapsed": true
   },
   "outputs": [],
   "source": []
  }
 ],
 "metadata": {
  "kernelspec": {
   "display_name": "Python 3",
   "language": "python",
   "name": "python3"
  },
  "language_info": {
   "codemirror_mode": {
    "name": "ipython",
    "version": 3
   },
   "file_extension": ".py",
   "mimetype": "text/x-python",
   "name": "python",
   "nbconvert_exporter": "python",
   "pygments_lexer": "ipython3",
   "version": "3.6.8"
  }
 },
 "nbformat": 4,
 "nbformat_minor": 2
}
