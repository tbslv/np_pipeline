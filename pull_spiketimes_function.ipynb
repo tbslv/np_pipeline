{
 "cells": [
  {
   "cell_type": "code",
   "execution_count": 1,
   "metadata": {
    "collapsed": true
   },
   "outputs": [],
   "source": [
    "import numpy as np\n",
    "import os\n",
    "import glob\n",
    "import matplotlib.pyplot as plt"
   ]
  },
  {
   "cell_type": "code",
   "execution_count": 182,
   "metadata": {},
   "outputs": [],
   "source": [
    "datasets = os.listdir( r'Y:\\Data\\Neuropixel_M1')"
   ]
  },
  {
   "cell_type": "code",
   "execution_count": 183,
   "metadata": {},
   "outputs": [
    {
     "data": {
      "text/plain": [
       "['2019-08-28_14-02-10',\n",
       " '2019-08-29_14-34-57',\n",
       " '2019-08-29_16-01-12',\n",
       " '2019-08-30_15-46-45',\n",
       " '2019-08-30_17-28-19']"
      ]
     },
     "execution_count": 183,
     "metadata": {},
     "output_type": "execute_result"
    }
   ],
   "source": [
    "datasets"
   ]
  },
  {
   "cell_type": "code",
   "execution_count": 184,
   "metadata": {
    "collapsed": true
   },
   "outputs": [],
   "source": [
    "path = r'Y:\\Data\\Neuropixel_M1\\2019-08-28_14-02-10\\MUA-Analysis\\-5'"
   ]
  },
  {
   "cell_type": "markdown",
   "metadata": {},
   "source": [
    "slicelengths:\n",
    "2019-08-28_14-02-10 = 100\n",
    "\n",
    "2019-08-29_14-34-57 = 100\n",
    "\n",
    "2019-08-29_16-01-12 = 100\n",
    "\n",
    "2019-08-30_15-46-45 -5 = 100\n",
    "2019-08-30_15-46-45 -4 = 10\n",
    "\n",
    "2019-08-30_17-28-19 = 100"
   ]
  },
  {
   "cell_type": "code",
   "execution_count": 185,
   "metadata": {
    "scrolled": false
   },
   "outputs": [],
   "source": [
    "def pull_spiketimes(path,chs=384,slicelength = 100):\n",
    "\n",
    "    \"\"\"\n",
    "    path(str): path to folder with sliced spiketimes\n",
    "\n",
    "    \"\"\"\n",
    "\n",
    "    files = glob.glob(path+'\\*.npy')\n",
    "    #files = files[:]\n",
    "\n",
    "    all_trials = {}\n",
    "    for ch in range(chs):\n",
    "        all_trials[str(ch)]= np.array([])\n",
    "    print('dict created....')\n",
    "    for trial in range(len(files)):\n",
    "        test0 = np.load(os.path.join(path,files[trial]))      \n",
    "        for ch in range(test0.shape[0]):\n",
    "            tmp = test0[ch]+slicelength*30000*trial\n",
    "            all_trials[str(ch)] = np.hstack((all_trials[str(ch)],tmp))\n",
    "\n",
    "    print('dict filled....')\n",
    "\n",
    "    return all_trials"
   ]
  },
  {
   "cell_type": "code",
   "execution_count": 186,
   "metadata": {},
   "outputs": [
    {
     "name": "stdout",
     "output_type": "stream",
     "text": [
      "dict created....\n",
      "dict filled....\n"
     ]
    }
   ],
   "source": [
    "spikes = pull_spiketimes(path)"
   ]
  },
  {
   "cell_type": "code",
   "execution_count": 214,
   "metadata": {},
   "outputs": [],
   "source": [
    "timestamps = np.load(r\"Y:\\Data\\Neuropixel_M1\\2019-08-28_14-02-10\\experiment1\\recording1\\events\\Neuropix-PXI-100.0\\timestamps_I.npy\")"
   ]
  },
  {
   "cell_type": "code",
   "execution_count": 217,
   "metadata": {},
   "outputs": [
    {
     "data": {
      "text/plain": [
       "5595.5717000000004"
      ]
     },
     "execution_count": 217,
     "metadata": {},
     "output_type": "execute_result"
    }
   ],
   "source": [
    "timestamps[-1]"
   ]
  },
  {
   "cell_type": "code",
   "execution_count": 221,
   "metadata": {
    "collapsed": true
   },
   "outputs": [],
   "source": [
    "timestamps2 = np.load(r\"Y:\\Data\\Neuropixel_M1\\2019-08-28_14-02-10\\experiment1\\recording1\\events\\Neuropix-PXI-100.0\\timestamps_II.npy\")"
   ]
  },
  {
   "cell_type": "code",
   "execution_count": 222,
   "metadata": {},
   "outputs": [
    {
     "data": {
      "text/plain": [
       "array([ 5724.41236667,  5729.41236667,  5734.41236667,  5739.41233333,\n",
       "        5744.41233333,  5749.41233333,  5754.4123    ,  5759.4123    ,\n",
       "        5764.41226667,  5769.41226667,  5774.41226667,  5779.41223333,\n",
       "        5784.41223333,  5789.4122    ,  5794.4122    ,  5799.4122    ,\n",
       "        5804.41216667,  5809.41216667,  5814.41216667,  5819.41213333,\n",
       "        5824.41213333,  5829.4121    ,  5834.4121    ,  5839.4121    ,\n",
       "        5844.41206667,  5849.41206667,  5854.41206667,  5859.41203333,\n",
       "        5864.41203333,  5869.412     ,  5874.412     ,  5879.412     ,\n",
       "        5884.41196667,  5889.41196667,  5894.41196667,  5899.41193333,\n",
       "        5904.41193333,  5909.4119    ,  5914.4119    ,  5919.4119    ,\n",
       "        5924.41186667,  5929.41186667,  5934.41183333,  5939.41183333,\n",
       "        5944.41183333,  5949.4118    ,  5954.4118    ,  5959.4118    ,\n",
       "        5964.41176667,  5969.41176667,  5974.41173333,  5979.41173333,\n",
       "        5984.41173333,  5989.4117    ,  5994.4117    ,  5999.4117    ,\n",
       "        6004.41166667,  6009.41166667,  6014.41163333,  6019.41163333,\n",
       "        6024.41163333,  6029.4116    ,  6034.4116    ,  6039.4116    ,\n",
       "        6044.41156667,  6049.41156667,  6054.41153333,  6059.41153333,\n",
       "        6064.41153333,  6069.4115    ,  6074.4115    ,  6079.41146667,\n",
       "        6084.41146667,  6089.41146667,  6094.41143333,  6099.41143333,\n",
       "        6104.41143333,  6109.4114    ,  6114.4114    ,  6119.41136667,\n",
       "        6124.41136667,  6129.41136667,  6134.41133333,  6139.41133333,\n",
       "        6144.41133333,  6149.4113    ,  6154.4113    ,  6159.41126667,\n",
       "        6164.41126667,  6169.41126667,  6174.41123333,  6179.41123333,\n",
       "        6184.41123333,  6189.4112    ,  6194.4112    ,  6199.41116667,\n",
       "        6204.41116667,  6209.41116667,  6214.41113333])"
      ]
     },
     "execution_count": 222,
     "metadata": {},
     "output_type": "execute_result"
    }
   ],
   "source": [
    "timestamps2"
   ]
  },
  {
   "cell_type": "code",
   "execution_count": 223,
   "metadata": {
    "collapsed": true
   },
   "outputs": [],
   "source": [
    "timestamps3 = np.load(r\"Y:\\Data\\Neuropixel_M1\\2019-08-28_14-02-10\\experiment1\\recording1\\events\\Neuropix-PXI-100.0\\timestamps_III.npy\")"
   ]
  },
  {
   "cell_type": "code",
   "execution_count": 224,
   "metadata": {},
   "outputs": [
    {
     "data": {
      "text/plain": [
       "array([ 6414.13936667,  6419.13936667,  6424.13933333,  6429.13933333,\n",
       "        6434.13933333,  6439.1393    ,  6444.1393    ,  6449.13926667,\n",
       "        6454.13926667,  6459.13926667,  6464.13923333,  6469.13923333,\n",
       "        6474.13923333,  6479.1392    ,  6484.1392    ,  6489.13916667,\n",
       "        6494.13916667,  6499.13916667,  6504.13913333,  6509.13913333,\n",
       "        6514.13913333,  6519.1391    ,  6524.1391    ,  6529.13906667,\n",
       "        6534.13906667,  6539.13906667,  6544.13903333,  6549.13903333,\n",
       "        6554.13903333,  6559.139     ,  6564.139     ,  6569.13896667,\n",
       "        6574.13896667,  6579.13896667,  6584.13893333,  6589.13893333,\n",
       "        6594.13893333,  6599.1389    ,  6604.1389    ,  6609.13886667,\n",
       "        6614.13886667,  6619.13886667,  6624.13883333,  6629.13883333,\n",
       "        6634.13883333,  6639.1388    ,  6644.1388    ,  6649.13876667,\n",
       "        6654.13876667,  6659.13876667,  6664.13873333,  6669.13873333,\n",
       "        6674.13873333,  6679.1387    ,  6684.1387    ,  6689.13866667,\n",
       "        6694.13866667,  6699.13866667,  6704.13863333,  6709.13863333,\n",
       "        6714.13863333,  6719.1386    ,  6724.1386    ,  6729.13856667,\n",
       "        6734.13856667,  6739.13856667,  6744.13853333,  6749.13853333,\n",
       "        6754.13853333,  6759.1385    ,  6764.1385    ,  6769.1385    ,\n",
       "        6774.13846667,  6779.13846667,  6784.13843333,  6789.13843333,\n",
       "        6794.13843333,  6799.1384    ,  6804.1384    ,  6809.1384    ,\n",
       "        6814.13836667,  6819.13836667,  6824.13833333,  6829.13833333,\n",
       "        6834.13833333,  6839.1383    ,  6844.1383    ,  6849.1383    ,\n",
       "        6854.13826667,  6859.13826667,  6864.13823333,  6869.13823333,\n",
       "        6874.13823333,  6879.1382    ,  6884.1382    ,  6889.1382    ,\n",
       "        6894.13816667,  6899.13816667,  6904.13816667,  6909.13813333])"
      ]
     },
     "execution_count": 224,
     "metadata": {},
     "output_type": "execute_result"
    }
   ],
   "source": [
    "timestamps3"
   ]
  },
  {
   "cell_type": "code",
   "execution_count": 225,
   "metadata": {
    "collapsed": true
   },
   "outputs": [],
   "source": [
    "timestamps4 = np.load(r\"Y:\\Data\\Neuropixel_M1\\2019-08-28_14-02-10\\experiment1\\recording1\\events\\Neuropix-PXI-100.0\\timestamps_IV.npy\")"
   ]
  },
  {
   "cell_type": "code",
   "execution_count": 227,
   "metadata": {},
   "outputs": [
    {
     "data": {
      "text/plain": [
       "(100,)"
      ]
     },
     "execution_count": 227,
     "metadata": {},
     "output_type": "execute_result"
    }
   ],
   "source": [
    "timestamps4.shape"
   ]
  },
  {
   "cell_type": "code",
   "execution_count": null,
   "metadata": {
    "collapsed": true
   },
   "outputs": [],
   "source": []
  }
 ],
 "metadata": {
  "kernelspec": {
   "display_name": "Python 3",
   "language": "python",
   "name": "python3"
  },
  "language_info": {
   "codemirror_mode": {
    "name": "ipython",
    "version": 3
   },
   "file_extension": ".py",
   "mimetype": "text/x-python",
   "name": "python",
   "nbconvert_exporter": "python",
   "pygments_lexer": "ipython3",
   "version": "3.6.3"
  }
 },
 "nbformat": 4,
 "nbformat_minor": 2
}
