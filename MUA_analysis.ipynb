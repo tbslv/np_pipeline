{
 "cells": [
  {
   "cell_type": "code",
   "execution_count": 1,
   "metadata": {
    "collapsed": true
   },
   "outputs": [],
   "source": [
    "import time\n",
    "import numpy as np\n",
    "from scipy.signal import butter, filtfilt\n",
    "import pickle\n",
    "import matplotlib.pyplot as plt\n",
    "import seaborn as sns\n",
    "import pandas as pd\n",
    "import os\n",
    "from joblib import Parallel, delayed\n",
    "import multiprocessing\n",
    "from time import time\n",
    "import gc\n",
    "import scipy.io as sio\n",
    "import glob\n",
    "\n",
    "\n",
    "from MUA_helper import (make_NP_array_from_linear_data, cleanAxes, placeAxesOnGrid,filter_detect,butter_bandpass,\n",
    "                        butter_bandpass_filter,basic_peak_detector,get_prepare_PSTHs,plot_save,plot_save_single)"
   ]
  },
  {
   "cell_type": "code",
   "execution_count": 2,
   "metadata": {
    "collapsed": true,
    "scrolled": false
   },
   "outputs": [],
   "source": [
    "def get_spiketimes(raw_data_path, data_folder,timestamps, thresh=-5):\n",
    "                           \n",
    "    print (\"create a memmap\")\n",
    "    \n",
    "    for trial in range(len(timestamps)):\n",
    "        \n",
    "        mm = np.memmap(raw_data_path, dtype=np.int16, mode='r')    \n",
    "        start = int(timestamps[trial])\n",
    "        end = int(start+ sweeplength)\n",
    "\n",
    "\n",
    "\n",
    "        mm = mm[start*sampling_rate*n_ch:end*sampling_rate*n_ch]\n",
    "        mm = mm.reshape((n_ch,-1), order='F')\n",
    "        print( mm.shape)\n",
    "\n",
    "        slices = np.arange(0, mm.shape[1], sweeplength*sampling_rate)\n",
    "        slices = np.append(slices, mm.shape[1])\n",
    "\n",
    "        #print (\"delet the memmap ...\")\n",
    "        #del mm\n",
    "\n",
    "        #print (\"extract spiketimes in {} slices of 10 min each\".format(str((len(slices)-1))))\n",
    "\n",
    "        for i in range(len(slices)-1):\n",
    "\n",
    "            save_to = data_folder+'{0:03d}_{0:03d}.npy'.format(trial,i)\n",
    "\n",
    "            if os.path.isfile(save_to):\n",
    "                print (\"%d. slice already exists\"%i)\n",
    "                continue \n",
    "\n",
    "            start, stop = slices[i:i+2]\n",
    "\n",
    "            start = int(start)\n",
    "            stop = int(stop)\n",
    "\n",
    "            print (\"start the %d. slice\"%i)\n",
    "            startTime = time()\n",
    "            spiketimes = in_the_loop(mm,start, stop,thresh)\n",
    "            print (\"for one slice: %.2f\"%((time()-startTime)))\n",
    "\n",
    "            np.save(save_to, np.array(spiketimes))\n",
    "            print (\"%d. slice saved\"%i)\n",
    "\n",
    "            gc.collect()\n",
    "       \n",
    "    print (\"done for the whole recording\")\n",
    "\n",
    "#%%\n",
    "def in_the_loop(mm, start, stop,thresh):\n",
    "    gc.collect()\n",
    "    \n",
    "    #print (\"create a memmap\")\n",
    "    #mm = np.memmap(raw_data_path, dtype=np.int16, mode='r')    \n",
    "    #mm = mm.reshape((n_ch,-1), order='F')\n",
    "    \n",
    "    print (\"load data into RAM ...\")\n",
    "    data = mm[:, start:stop].copy()\n",
    "    print (data.shape)\n",
    "    \n",
    "    print (\"delet the memmap ...\")\n",
    "    del mm    \n",
    "    \n",
    "    #print (\"subtract the common average reference ... \") \n",
    "#    startTime = time()\n",
    "    #data -= np.median(data, axis=0).astype(int)[np.newaxis,:]\n",
    "#    print \"vectorized: %.2f\"%(time()-startTime)\n",
    "    \n",
    "    #print (\"offset correction for Phase3A probes ...\")\n",
    "#    startTime = time()\n",
    "    #data -= np.median(data, axis=1).astype(int)[:,np.newaxis]\n",
    "#    print \"vectorized: %.2f\"%(time()-startTime)\n",
    "    \n",
    "    # scaling factor of the probe (irrelevant with relative threshold)\n",
    "#    data = data * 0.195 \n",
    "       \n",
    "    print (\"filter and detect spikes ...\" )       \n",
    "    spiketimes = Parallel(n_jobs=num_cores, verbose=10)(delayed(filter_detect)(data[ch,:], start, sampling_rate, thresh) for ch in range(n_ch))\n",
    "\n",
    "\n",
    "    return spiketimes"
   ]
  },
  {
   "cell_type": "code",
   "execution_count": 3,
   "metadata": {
    "scrolled": true
   },
   "outputs": [
    {
     "name": "stdout",
     "output_type": "stream",
     "text": [
      "10\n",
      "create a memmap\n",
      "(384, 600000)\n",
      "start the 0. slice\n",
      "load data into RAM ...\n",
      "(384, 600000)\n",
      "delet the memmap ...\n",
      "filter and detect spikes ...\n"
     ]
    },
    {
     "name": "stderr",
     "output_type": "stream",
     "text": [
      "[Parallel(n_jobs=10)]: Done   5 tasks      | elapsed:    9.6s\n",
      "[Parallel(n_jobs=10)]: Done  12 tasks      | elapsed:   18.8s\n",
      "[Parallel(n_jobs=10)]: Done  21 tasks      | elapsed:   18.9s\n",
      "[Parallel(n_jobs=10)]: Done  30 tasks      | elapsed:   19.0s\n",
      "[Parallel(n_jobs=10)]: Done  41 tasks      | elapsed:   19.0s\n",
      "[Parallel(n_jobs=10)]: Done  52 tasks      | elapsed:   19.1s\n",
      "[Parallel(n_jobs=10)]: Batch computation too fast (0.1957s.) Setting batch_size=2.\n",
      "[Parallel(n_jobs=10)]: Done  65 tasks      | elapsed:   19.2s\n",
      "[Parallel(n_jobs=10)]: Batch computation too fast (0.1802s.) Setting batch_size=4.\n",
      "[Parallel(n_jobs=10)]: Done  85 tasks      | elapsed:   19.4s\n",
      "[Parallel(n_jobs=10)]: Done 119 tasks      | elapsed:   19.7s\n",
      "[Parallel(n_jobs=10)]: Done 179 tasks      | elapsed:   20.1s\n",
      "[Parallel(n_jobs=10)]: Done 247 tasks      | elapsed:   20.6s\n",
      "[Parallel(n_jobs=10)]: Done 384 out of 384 | elapsed:   21.6s finished\n"
     ]
    },
    {
     "name": "stdout",
     "output_type": "stream",
     "text": [
      "for one slice: 28.05\n",
      "0. slice saved\n",
      "(384, 600000)\n",
      "start the 0. slice\n",
      "load data into RAM ...\n",
      "(384, 600000)\n",
      "delet the memmap ...\n",
      "filter and detect spikes ...\n"
     ]
    },
    {
     "name": "stderr",
     "output_type": "stream",
     "text": [
      "[Parallel(n_jobs=10)]: Done   5 tasks      | elapsed:    9.4s\n",
      "[Parallel(n_jobs=10)]: Done  12 tasks      | elapsed:   18.7s\n",
      "[Parallel(n_jobs=10)]: Done  21 tasks      | elapsed:   18.7s\n",
      "[Parallel(n_jobs=10)]: Done  30 tasks      | elapsed:   18.8s\n",
      "[Parallel(n_jobs=10)]: Done  41 tasks      | elapsed:   18.9s\n",
      "[Parallel(n_jobs=10)]: Done  52 tasks      | elapsed:   19.0s\n",
      "[Parallel(n_jobs=10)]: Batch computation too fast (0.1963s.) Setting batch_size=2.\n",
      "[Parallel(n_jobs=10)]: Done  65 tasks      | elapsed:   19.1s\n",
      "[Parallel(n_jobs=10)]: Batch computation too fast (0.1782s.) Setting batch_size=4.\n",
      "[Parallel(n_jobs=10)]: Done  85 tasks      | elapsed:   19.2s\n",
      "[Parallel(n_jobs=10)]: Done 119 tasks      | elapsed:   19.5s\n",
      "[Parallel(n_jobs=10)]: Done 179 tasks      | elapsed:   20.0s\n",
      "[Parallel(n_jobs=10)]: Done 247 tasks      | elapsed:   20.5s\n",
      "[Parallel(n_jobs=10)]: Done 384 out of 384 | elapsed:   21.4s finished\n"
     ]
    },
    {
     "name": "stdout",
     "output_type": "stream",
     "text": [
      "for one slice: 27.87\n",
      "0. slice saved\n",
      "(384, 600000)\n",
      "start the 0. slice\n",
      "load data into RAM ...\n",
      "(384, 600000)\n",
      "delet the memmap ...\n",
      "filter and detect spikes ...\n"
     ]
    },
    {
     "name": "stderr",
     "output_type": "stream",
     "text": [
      "[Parallel(n_jobs=10)]: Done   5 tasks      | elapsed:    9.5s\n",
      "[Parallel(n_jobs=10)]: Done  12 tasks      | elapsed:   18.9s\n",
      "[Parallel(n_jobs=10)]: Done  21 tasks      | elapsed:   18.9s\n",
      "[Parallel(n_jobs=10)]: Done  30 tasks      | elapsed:   19.0s\n",
      "[Parallel(n_jobs=10)]: Done  41 tasks      | elapsed:   19.1s\n",
      "[Parallel(n_jobs=10)]: Done  52 tasks      | elapsed:   19.2s\n",
      "[Parallel(n_jobs=10)]: Batch computation too fast (0.1934s.) Setting batch_size=2.\n",
      "[Parallel(n_jobs=10)]: Done  65 tasks      | elapsed:   19.3s\n",
      "[Parallel(n_jobs=10)]: Batch computation too fast (0.1817s.) Setting batch_size=4.\n",
      "[Parallel(n_jobs=10)]: Done  83 tasks      | elapsed:   19.4s\n",
      "[Parallel(n_jobs=10)]: Done 113 tasks      | elapsed:   19.7s\n",
      "[Parallel(n_jobs=10)]: Done 173 tasks      | elapsed:   20.1s\n",
      "[Parallel(n_jobs=10)]: Done 241 tasks      | elapsed:   20.6s\n",
      "[Parallel(n_jobs=10)]: Done 309 tasks      | elapsed:   21.1s\n",
      "[Parallel(n_jobs=10)]: Done 365 out of 384 | elapsed:   21.5s remaining:    1.0s\n",
      "[Parallel(n_jobs=10)]: Done 384 out of 384 | elapsed:   21.7s finished\n"
     ]
    },
    {
     "name": "stdout",
     "output_type": "stream",
     "text": [
      "for one slice: 28.18\n",
      "0. slice saved\n",
      "(384, 600000)\n",
      "start the 0. slice\n",
      "load data into RAM ...\n",
      "(384, 600000)\n",
      "delet the memmap ...\n",
      "filter and detect spikes ...\n"
     ]
    },
    {
     "name": "stderr",
     "output_type": "stream",
     "text": [
      "[Parallel(n_jobs=10)]: Done   5 tasks      | elapsed:    9.4s\n",
      "[Parallel(n_jobs=10)]: Done  12 tasks      | elapsed:   18.7s\n",
      "[Parallel(n_jobs=10)]: Done  21 tasks      | elapsed:   18.7s\n",
      "[Parallel(n_jobs=10)]: Done  30 tasks      | elapsed:   18.8s\n",
      "[Parallel(n_jobs=10)]: Done  41 tasks      | elapsed:   18.9s\n",
      "[Parallel(n_jobs=10)]: Done  52 tasks      | elapsed:   19.0s\n",
      "[Parallel(n_jobs=10)]: Batch computation too fast (0.1908s.) Setting batch_size=2.\n",
      "[Parallel(n_jobs=10)]: Done  65 tasks      | elapsed:   19.1s\n",
      "[Parallel(n_jobs=10)]: Batch computation too fast (0.1742s.) Setting batch_size=4.\n",
      "[Parallel(n_jobs=10)]: Done  85 tasks      | elapsed:   19.2s\n",
      "[Parallel(n_jobs=10)]: Done 119 tasks      | elapsed:   19.5s\n",
      "[Parallel(n_jobs=10)]: Done 179 tasks      | elapsed:   19.9s\n",
      "[Parallel(n_jobs=10)]: Done 247 tasks      | elapsed:   20.4s\n",
      "[Parallel(n_jobs=10)]: Done 384 out of 384 | elapsed:   21.3s finished\n"
     ]
    },
    {
     "name": "stdout",
     "output_type": "stream",
     "text": [
      "for one slice: 27.87\n",
      "0. slice saved\n",
      "(384, 600000)\n",
      "start the 0. slice\n",
      "load data into RAM ...\n",
      "(384, 600000)\n",
      "delet the memmap ...\n",
      "filter and detect spikes ...\n"
     ]
    },
    {
     "name": "stderr",
     "output_type": "stream",
     "text": [
      "[Parallel(n_jobs=10)]: Done   5 tasks      | elapsed:    9.5s\n",
      "[Parallel(n_jobs=10)]: Done  12 tasks      | elapsed:   18.8s\n",
      "[Parallel(n_jobs=10)]: Done  21 tasks      | elapsed:   18.9s\n",
      "[Parallel(n_jobs=10)]: Done  30 tasks      | elapsed:   18.9s\n",
      "[Parallel(n_jobs=10)]: Done  41 tasks      | elapsed:   19.0s\n",
      "[Parallel(n_jobs=10)]: Done  52 tasks      | elapsed:   19.1s\n",
      "[Parallel(n_jobs=10)]: Batch computation too fast (0.1968s.) Setting batch_size=2.\n",
      "[Parallel(n_jobs=10)]: Done  65 tasks      | elapsed:   19.2s\n",
      "[Parallel(n_jobs=10)]: Batch computation too fast (0.1762s.) Setting batch_size=4.\n",
      "[Parallel(n_jobs=10)]: Done  85 tasks      | elapsed:   19.4s\n",
      "[Parallel(n_jobs=10)]: Done 119 tasks      | elapsed:   19.6s\n",
      "[Parallel(n_jobs=10)]: Done 179 tasks      | elapsed:   20.1s\n",
      "[Parallel(n_jobs=10)]: Done 247 tasks      | elapsed:   20.5s\n",
      "[Parallel(n_jobs=10)]: Done 384 out of 384 | elapsed:   21.5s finished\n"
     ]
    },
    {
     "name": "stdout",
     "output_type": "stream",
     "text": [
      "for one slice: 28.07\n",
      "0. slice saved\n",
      "(384, 600000)\n",
      "start the 0. slice\n",
      "load data into RAM ...\n",
      "(384, 600000)\n",
      "delet the memmap ...\n",
      "filter and detect spikes ...\n"
     ]
    },
    {
     "name": "stderr",
     "output_type": "stream",
     "text": [
      "[Parallel(n_jobs=10)]: Done   5 tasks      | elapsed:    9.4s\n",
      "[Parallel(n_jobs=10)]: Done  12 tasks      | elapsed:   18.8s\n",
      "[Parallel(n_jobs=10)]: Done  21 tasks      | elapsed:   18.9s\n",
      "[Parallel(n_jobs=10)]: Done  30 tasks      | elapsed:   18.9s\n",
      "[Parallel(n_jobs=10)]: Done  41 tasks      | elapsed:   19.0s\n",
      "[Parallel(n_jobs=10)]: Done  52 tasks      | elapsed:   19.1s\n",
      "[Parallel(n_jobs=10)]: Batch computation too fast (0.1925s.) Setting batch_size=2.\n",
      "[Parallel(n_jobs=10)]: Done  65 tasks      | elapsed:   19.2s\n",
      "[Parallel(n_jobs=10)]: Batch computation too fast (0.1702s.) Setting batch_size=4.\n",
      "[Parallel(n_jobs=10)]: Done  85 tasks      | elapsed:   19.3s\n",
      "[Parallel(n_jobs=10)]: Done 119 tasks      | elapsed:   19.6s\n",
      "[Parallel(n_jobs=10)]: Done 179 tasks      | elapsed:   20.0s\n",
      "[Parallel(n_jobs=10)]: Done 247 tasks      | elapsed:   20.5s\n",
      "[Parallel(n_jobs=10)]: Done 384 out of 384 | elapsed:   21.5s finished\n"
     ]
    },
    {
     "name": "stdout",
     "output_type": "stream",
     "text": [
      "for one slice: 28.14\n",
      "0. slice saved\n",
      "(384, 600000)\n",
      "start the 0. slice\n",
      "load data into RAM ...\n",
      "(384, 600000)\n",
      "delet the memmap ...\n",
      "filter and detect spikes ...\n"
     ]
    },
    {
     "name": "stderr",
     "output_type": "stream",
     "text": [
      "[Parallel(n_jobs=10)]: Done   5 tasks      | elapsed:    9.5s\n",
      "[Parallel(n_jobs=10)]: Done  12 tasks      | elapsed:   18.8s\n",
      "[Parallel(n_jobs=10)]: Done  21 tasks      | elapsed:   18.9s\n",
      "[Parallel(n_jobs=10)]: Done  30 tasks      | elapsed:   19.0s\n",
      "[Parallel(n_jobs=10)]: Done  41 tasks      | elapsed:   19.0s\n",
      "[Parallel(n_jobs=10)]: Done  52 tasks      | elapsed:   19.1s\n",
      "[Parallel(n_jobs=10)]: Batch computation too fast (0.1976s.) Setting batch_size=2.\n",
      "[Parallel(n_jobs=10)]: Done  65 tasks      | elapsed:   19.2s\n",
      "[Parallel(n_jobs=10)]: Batch computation too fast (0.1802s.) Setting batch_size=4.\n",
      "[Parallel(n_jobs=10)]: Done  85 tasks      | elapsed:   19.4s\n",
      "[Parallel(n_jobs=10)]: Done 119 tasks      | elapsed:   19.7s\n",
      "[Parallel(n_jobs=10)]: Done 179 tasks      | elapsed:   20.1s\n",
      "[Parallel(n_jobs=10)]: Done 247 tasks      | elapsed:   20.6s\n",
      "[Parallel(n_jobs=10)]: Done 384 out of 384 | elapsed:   21.5s finished\n"
     ]
    },
    {
     "name": "stdout",
     "output_type": "stream",
     "text": [
      "for one slice: 28.24\n",
      "0. slice saved\n",
      "(384, 600000)\n",
      "start the 0. slice\n",
      "load data into RAM ...\n",
      "(384, 600000)\n",
      "delet the memmap ...\n",
      "filter and detect spikes ...\n"
     ]
    },
    {
     "name": "stderr",
     "output_type": "stream",
     "text": [
      "[Parallel(n_jobs=10)]: Done   5 tasks      | elapsed:    9.5s\n",
      "[Parallel(n_jobs=10)]: Done  12 tasks      | elapsed:   19.0s\n",
      "[Parallel(n_jobs=10)]: Done  21 tasks      | elapsed:   19.0s\n",
      "[Parallel(n_jobs=10)]: Done  30 tasks      | elapsed:   19.1s\n",
      "[Parallel(n_jobs=10)]: Done  41 tasks      | elapsed:   19.2s\n",
      "[Parallel(n_jobs=10)]: Done  52 tasks      | elapsed:   19.3s\n",
      "[Parallel(n_jobs=10)]: Batch computation too fast (0.1994s.) Setting batch_size=2.\n",
      "[Parallel(n_jobs=10)]: Done  65 tasks      | elapsed:   19.4s\n",
      "[Parallel(n_jobs=10)]: Batch computation too fast (0.1912s.) Setting batch_size=4.\n",
      "[Parallel(n_jobs=10)]: Done  85 tasks      | elapsed:   19.5s\n",
      "[Parallel(n_jobs=10)]: Done 119 tasks      | elapsed:   19.8s\n",
      "[Parallel(n_jobs=10)]: Done 179 tasks      | elapsed:   20.3s\n",
      "[Parallel(n_jobs=10)]: Done 247 tasks      | elapsed:   20.8s\n",
      "[Parallel(n_jobs=10)]: Done 384 out of 384 | elapsed:   21.7s finished\n"
     ]
    },
    {
     "name": "stdout",
     "output_type": "stream",
     "text": [
      "for one slice: 28.33\n",
      "0. slice saved\n",
      "(384, 600000)\n",
      "start the 0. slice\n",
      "load data into RAM ...\n",
      "(384, 600000)\n",
      "delet the memmap ...\n",
      "filter and detect spikes ...\n"
     ]
    },
    {
     "name": "stderr",
     "output_type": "stream",
     "text": [
      "[Parallel(n_jobs=10)]: Done   5 tasks      | elapsed:    9.6s\n",
      "[Parallel(n_jobs=10)]: Done  12 tasks      | elapsed:   19.0s\n",
      "[Parallel(n_jobs=10)]: Done  21 tasks      | elapsed:   19.1s\n",
      "[Parallel(n_jobs=10)]: Done  30 tasks      | elapsed:   19.1s\n",
      "[Parallel(n_jobs=10)]: Done  41 tasks      | elapsed:   19.2s\n",
      "[Parallel(n_jobs=10)]: Done  52 tasks      | elapsed:   19.3s\n",
      "[Parallel(n_jobs=10)]: Batch computation too fast (0.1960s.) Setting batch_size=2.\n",
      "[Parallel(n_jobs=10)]: Done  65 tasks      | elapsed:   19.4s\n",
      "[Parallel(n_jobs=10)]: Batch computation too fast (0.1802s.) Setting batch_size=4.\n",
      "[Parallel(n_jobs=10)]: Done  85 tasks      | elapsed:   19.5s\n",
      "[Parallel(n_jobs=10)]: Done 119 tasks      | elapsed:   19.8s\n",
      "[Parallel(n_jobs=10)]: Done 179 tasks      | elapsed:   20.3s\n",
      "[Parallel(n_jobs=10)]: Done 247 tasks      | elapsed:   20.8s\n",
      "[Parallel(n_jobs=10)]: Done 384 out of 384 | elapsed:   21.7s finished\n"
     ]
    },
    {
     "name": "stdout",
     "output_type": "stream",
     "text": [
      "for one slice: 28.35\n",
      "0. slice saved\n",
      "(384, 600000)\n",
      "start the 0. slice\n",
      "load data into RAM ...\n",
      "(384, 600000)\n",
      "delet the memmap ...\n",
      "filter and detect spikes ...\n"
     ]
    },
    {
     "name": "stderr",
     "output_type": "stream",
     "text": [
      "[Parallel(n_jobs=10)]: Done   5 tasks      | elapsed:    9.5s\n",
      "[Parallel(n_jobs=10)]: Done  12 tasks      | elapsed:   18.8s\n",
      "[Parallel(n_jobs=10)]: Done  21 tasks      | elapsed:   18.9s\n",
      "[Parallel(n_jobs=10)]: Done  30 tasks      | elapsed:   18.9s\n",
      "[Parallel(n_jobs=10)]: Done  41 tasks      | elapsed:   19.0s\n",
      "[Parallel(n_jobs=10)]: Done  52 tasks      | elapsed:   19.1s\n",
      "[Parallel(n_jobs=10)]: Batch computation too fast (0.1909s.) Setting batch_size=2.\n",
      "[Parallel(n_jobs=10)]: Done  65 tasks      | elapsed:   19.2s\n",
      "[Parallel(n_jobs=10)]: Batch computation too fast (0.1722s.) Setting batch_size=4.\n",
      "[Parallel(n_jobs=10)]: Done  85 tasks      | elapsed:   19.3s\n",
      "[Parallel(n_jobs=10)]: Done 119 tasks      | elapsed:   19.6s\n",
      "[Parallel(n_jobs=10)]: Done 179 tasks      | elapsed:   20.1s\n",
      "[Parallel(n_jobs=10)]: Done 247 tasks      | elapsed:   20.5s\n",
      "[Parallel(n_jobs=10)]: Done 384 out of 384 | elapsed:   21.4s finished\n"
     ]
    },
    {
     "name": "stdout",
     "output_type": "stream",
     "text": [
      "for one slice: 28.15\n",
      "0. slice saved\n",
      "(384, 600000)\n",
      "start the 0. slice\n",
      "load data into RAM ...\n",
      "(384, 600000)\n",
      "delet the memmap ...\n",
      "filter and detect spikes ...\n"
     ]
    },
    {
     "name": "stderr",
     "output_type": "stream",
     "text": [
      "[Parallel(n_jobs=10)]: Done   5 tasks      | elapsed:    9.4s\n",
      "[Parallel(n_jobs=10)]: Done  12 tasks      | elapsed:   18.8s\n",
      "[Parallel(n_jobs=10)]: Done  21 tasks      | elapsed:   18.9s\n",
      "[Parallel(n_jobs=10)]: Done  30 tasks      | elapsed:   19.0s\n",
      "[Parallel(n_jobs=10)]: Done  41 tasks      | elapsed:   19.1s\n",
      "[Parallel(n_jobs=10)]: Done  52 tasks      | elapsed:   19.1s\n",
      "[Parallel(n_jobs=10)]: Batch computation too fast (0.1998s.) Setting batch_size=2.\n",
      "[Parallel(n_jobs=10)]: Done  65 tasks      | elapsed:   19.2s\n",
      "[Parallel(n_jobs=10)]: Batch computation too fast (0.1812s.) Setting batch_size=4.\n",
      "[Parallel(n_jobs=10)]: Done  85 tasks      | elapsed:   19.4s\n",
      "[Parallel(n_jobs=10)]: Done 119 tasks      | elapsed:   19.7s\n",
      "[Parallel(n_jobs=10)]: Done 179 tasks      | elapsed:   20.2s\n",
      "[Parallel(n_jobs=10)]: Done 247 tasks      | elapsed:   20.6s\n",
      "[Parallel(n_jobs=10)]: Done 384 out of 384 | elapsed:   21.6s finished\n"
     ]
    },
    {
     "name": "stdout",
     "output_type": "stream",
     "text": [
      "for one slice: 28.32\n",
      "0. slice saved\n",
      "(384, 600000)\n",
      "start the 0. slice\n",
      "load data into RAM ...\n",
      "(384, 600000)\n",
      "delet the memmap ...\n",
      "filter and detect spikes ...\n"
     ]
    },
    {
     "name": "stderr",
     "output_type": "stream",
     "text": [
      "[Parallel(n_jobs=10)]: Done   5 tasks      | elapsed:    9.5s\n",
      "[Parallel(n_jobs=10)]: Done  12 tasks      | elapsed:   18.9s\n",
      "[Parallel(n_jobs=10)]: Done  21 tasks      | elapsed:   19.0s\n",
      "[Parallel(n_jobs=10)]: Done  30 tasks      | elapsed:   19.0s\n",
      "[Parallel(n_jobs=10)]: Done  41 tasks      | elapsed:   19.1s\n",
      "[Parallel(n_jobs=10)]: Done  52 tasks      | elapsed:   19.2s\n",
      "[Parallel(n_jobs=10)]: Batch computation too fast (0.1913s.) Setting batch_size=2.\n",
      "[Parallel(n_jobs=10)]: Done  65 tasks      | elapsed:   19.3s\n",
      "[Parallel(n_jobs=10)]: Batch computation too fast (0.1862s.) Setting batch_size=4.\n",
      "[Parallel(n_jobs=10)]: Done  84 tasks      | elapsed:   19.5s\n",
      "[Parallel(n_jobs=10)]: Done 116 tasks      | elapsed:   19.8s\n",
      "[Parallel(n_jobs=10)]: Done 176 tasks      | elapsed:   20.2s\n",
      "[Parallel(n_jobs=10)]: Done 244 tasks      | elapsed:   20.7s\n",
      "[Parallel(n_jobs=10)]: Done 384 out of 384 | elapsed:   21.7s finished\n"
     ]
    },
    {
     "name": "stdout",
     "output_type": "stream",
     "text": [
      "for one slice: 28.36\n",
      "0. slice saved\n",
      "(384, 600000)\n",
      "start the 0. slice\n",
      "load data into RAM ...\n",
      "(384, 600000)\n",
      "delet the memmap ...\n",
      "filter and detect spikes ...\n"
     ]
    },
    {
     "name": "stderr",
     "output_type": "stream",
     "text": [
      "[Parallel(n_jobs=10)]: Done   5 tasks      | elapsed:    9.5s\n",
      "[Parallel(n_jobs=10)]: Done  12 tasks      | elapsed:   19.1s\n",
      "[Parallel(n_jobs=10)]: Done  21 tasks      | elapsed:   19.1s\n",
      "[Parallel(n_jobs=10)]: Done  30 tasks      | elapsed:   19.2s\n",
      "[Parallel(n_jobs=10)]: Done  41 tasks      | elapsed:   19.3s\n",
      "[Parallel(n_jobs=10)]: Done  52 tasks      | elapsed:   19.4s\n",
      "[Parallel(n_jobs=10)]: Batch computation too fast (0.1958s.) Setting batch_size=2.\n",
      "[Parallel(n_jobs=10)]: Done  65 tasks      | elapsed:   19.5s\n",
      "[Parallel(n_jobs=10)]: Batch computation too fast (0.1852s.) Setting batch_size=4.\n",
      "[Parallel(n_jobs=10)]: Done  84 tasks      | elapsed:   19.7s\n",
      "[Parallel(n_jobs=10)]: Done 116 tasks      | elapsed:   19.9s\n",
      "[Parallel(n_jobs=10)]: Done 176 tasks      | elapsed:   20.4s\n",
      "[Parallel(n_jobs=10)]: Done 244 tasks      | elapsed:   20.9s\n",
      "[Parallel(n_jobs=10)]: Done 384 out of 384 | elapsed:   21.9s finished\n"
     ]
    },
    {
     "name": "stdout",
     "output_type": "stream",
     "text": [
      "for one slice: 28.57\n",
      "0. slice saved\n",
      "(384, 600000)\n",
      "start the 0. slice\n",
      "load data into RAM ...\n",
      "(384, 600000)\n",
      "delet the memmap ...\n",
      "filter and detect spikes ...\n"
     ]
    },
    {
     "name": "stderr",
     "output_type": "stream",
     "text": [
      "[Parallel(n_jobs=10)]: Done   5 tasks      | elapsed:   12.8s\n",
      "[Parallel(n_jobs=10)]: Done  12 tasks      | elapsed:   22.1s\n",
      "[Parallel(n_jobs=10)]: Done  21 tasks      | elapsed:   22.2s\n",
      "[Parallel(n_jobs=10)]: Done  30 tasks      | elapsed:   22.3s\n",
      "[Parallel(n_jobs=10)]: Done  41 tasks      | elapsed:   22.3s\n",
      "[Parallel(n_jobs=10)]: Done  52 tasks      | elapsed:   22.4s\n",
      "[Parallel(n_jobs=10)]: Batch computation too fast (0.1954s.) Setting batch_size=2.\n",
      "[Parallel(n_jobs=10)]: Done  65 tasks      | elapsed:   22.5s\n",
      "[Parallel(n_jobs=10)]: Batch computation too fast (0.1732s.) Setting batch_size=4.\n",
      "[Parallel(n_jobs=10)]: Done  85 tasks      | elapsed:   22.7s\n",
      "[Parallel(n_jobs=10)]: Done 119 tasks      | elapsed:   23.0s\n",
      "[Parallel(n_jobs=10)]: Done 179 tasks      | elapsed:   23.4s\n",
      "[Parallel(n_jobs=10)]: Done 247 tasks      | elapsed:   23.9s\n",
      "[Parallel(n_jobs=10)]: Done 384 out of 384 | elapsed:   24.8s finished\n"
     ]
    },
    {
     "name": "stdout",
     "output_type": "stream",
     "text": [
      "for one slice: 31.78\n",
      "0. slice saved\n",
      "(384, 600000)\n",
      "start the 0. slice\n",
      "load data into RAM ...\n",
      "(384, 600000)\n",
      "delet the memmap ...\n",
      "filter and detect spikes ...\n"
     ]
    },
    {
     "name": "stderr",
     "output_type": "stream",
     "text": [
      "[Parallel(n_jobs=10)]: Done   5 tasks      | elapsed:    9.4s\n",
      "[Parallel(n_jobs=10)]: Done  12 tasks      | elapsed:   19.1s\n",
      "[Parallel(n_jobs=10)]: Done  21 tasks      | elapsed:   19.2s\n",
      "[Parallel(n_jobs=10)]: Done  30 tasks      | elapsed:   19.3s\n",
      "[Parallel(n_jobs=10)]: Done  41 tasks      | elapsed:   19.3s\n",
      "[Parallel(n_jobs=10)]: Done  52 tasks      | elapsed:   19.4s\n",
      "[Parallel(n_jobs=10)]: Batch computation too fast (0.1905s.) Setting batch_size=2.\n",
      "[Parallel(n_jobs=10)]: Done  65 tasks      | elapsed:   19.5s\n",
      "[Parallel(n_jobs=10)]: Batch computation too fast (0.1912s.) Setting batch_size=4.\n",
      "[Parallel(n_jobs=10)]: Done  84 tasks      | elapsed:   19.7s\n",
      "[Parallel(n_jobs=10)]: Done 116 tasks      | elapsed:   20.0s\n",
      "[Parallel(n_jobs=10)]: Done 176 tasks      | elapsed:   20.4s\n",
      "[Parallel(n_jobs=10)]: Done 244 tasks      | elapsed:   20.9s\n",
      "[Parallel(n_jobs=10)]: Done 384 out of 384 | elapsed:   21.9s finished\n"
     ]
    },
    {
     "name": "stdout",
     "output_type": "stream",
     "text": [
      "for one slice: 28.53\n",
      "0. slice saved\n",
      "(384, 600000)\n",
      "start the 0. slice\n",
      "load data into RAM ...\n",
      "(384, 600000)\n",
      "delet the memmap ...\n",
      "filter and detect spikes ...\n"
     ]
    },
    {
     "name": "stderr",
     "output_type": "stream",
     "text": [
      "[Parallel(n_jobs=10)]: Done   5 tasks      | elapsed:    9.5s\n",
      "[Parallel(n_jobs=10)]: Done  12 tasks      | elapsed:   18.8s\n",
      "[Parallel(n_jobs=10)]: Done  21 tasks      | elapsed:   18.9s\n",
      "[Parallel(n_jobs=10)]: Done  30 tasks      | elapsed:   18.9s\n",
      "[Parallel(n_jobs=10)]: Done  41 tasks      | elapsed:   19.0s\n",
      "[Parallel(n_jobs=10)]: Done  52 tasks      | elapsed:   19.1s\n",
      "[Parallel(n_jobs=10)]: Batch computation too fast (0.1970s.) Setting batch_size=2.\n",
      "[Parallel(n_jobs=10)]: Done  65 tasks      | elapsed:   19.2s\n",
      "[Parallel(n_jobs=10)]: Batch computation too fast (0.1802s.) Setting batch_size=4.\n",
      "[Parallel(n_jobs=10)]: Done  85 tasks      | elapsed:   19.4s\n",
      "[Parallel(n_jobs=10)]: Done 119 tasks      | elapsed:   19.7s\n",
      "[Parallel(n_jobs=10)]: Done 179 tasks      | elapsed:   20.1s\n",
      "[Parallel(n_jobs=10)]: Done 247 tasks      | elapsed:   20.5s\n",
      "[Parallel(n_jobs=10)]: Done 384 out of 384 | elapsed:   21.5s finished\n"
     ]
    },
    {
     "name": "stdout",
     "output_type": "stream",
     "text": [
      "for one slice: 28.12\n",
      "0. slice saved\n",
      "(384, 600000)\n",
      "start the 0. slice\n",
      "load data into RAM ...\n",
      "(384, 600000)\n",
      "delet the memmap ...\n",
      "filter and detect spikes ...\n"
     ]
    },
    {
     "name": "stderr",
     "output_type": "stream",
     "text": [
      "[Parallel(n_jobs=10)]: Done   5 tasks      | elapsed:    9.5s\n",
      "[Parallel(n_jobs=10)]: Done  12 tasks      | elapsed:   18.8s\n",
      "[Parallel(n_jobs=10)]: Done  21 tasks      | elapsed:   18.9s\n",
      "[Parallel(n_jobs=10)]: Done  30 tasks      | elapsed:   18.9s\n",
      "[Parallel(n_jobs=10)]: Done  41 tasks      | elapsed:   19.0s\n",
      "[Parallel(n_jobs=10)]: Done  52 tasks      | elapsed:   19.1s\n",
      "[Parallel(n_jobs=10)]: Batch computation too fast (0.1897s.) Setting batch_size=2.\n",
      "[Parallel(n_jobs=10)]: Done  65 tasks      | elapsed:   19.2s\n",
      "[Parallel(n_jobs=10)]: Batch computation too fast (0.1732s.) Setting batch_size=4.\n",
      "[Parallel(n_jobs=10)]: Done  85 tasks      | elapsed:   19.3s\n",
      "[Parallel(n_jobs=10)]: Done 119 tasks      | elapsed:   19.6s\n",
      "[Parallel(n_jobs=10)]: Done 179 tasks      | elapsed:   20.0s\n",
      "[Parallel(n_jobs=10)]: Done 247 tasks      | elapsed:   20.5s\n",
      "[Parallel(n_jobs=10)]: Done 384 out of 384 | elapsed:   21.4s finished\n"
     ]
    },
    {
     "name": "stdout",
     "output_type": "stream",
     "text": [
      "for one slice: 28.13\n",
      "0. slice saved\n",
      "(384, 600000)\n",
      "start the 0. slice\n",
      "load data into RAM ...\n",
      "(384, 600000)\n",
      "delet the memmap ...\n",
      "filter and detect spikes ...\n"
     ]
    },
    {
     "name": "stderr",
     "output_type": "stream",
     "text": [
      "[Parallel(n_jobs=10)]: Done   5 tasks      | elapsed:    9.6s\n",
      "[Parallel(n_jobs=10)]: Done  12 tasks      | elapsed:   18.8s\n",
      "[Parallel(n_jobs=10)]: Done  21 tasks      | elapsed:   18.9s\n",
      "[Parallel(n_jobs=10)]: Done  30 tasks      | elapsed:   19.0s\n",
      "[Parallel(n_jobs=10)]: Done  41 tasks      | elapsed:   19.1s\n",
      "[Parallel(n_jobs=10)]: Done  52 tasks      | elapsed:   19.1s\n",
      "[Parallel(n_jobs=10)]: Batch computation too fast (0.1923s.) Setting batch_size=2.\n",
      "[Parallel(n_jobs=10)]: Done  65 tasks      | elapsed:   19.2s\n",
      "[Parallel(n_jobs=10)]: Batch computation too fast (0.1832s.) Setting batch_size=4.\n",
      "[Parallel(n_jobs=10)]: Done  84 tasks      | elapsed:   19.4s\n",
      "[Parallel(n_jobs=10)]: Done 116 tasks      | elapsed:   19.7s\n",
      "[Parallel(n_jobs=10)]: Done 176 tasks      | elapsed:   20.1s\n",
      "[Parallel(n_jobs=10)]: Done 244 tasks      | elapsed:   20.6s\n",
      "[Parallel(n_jobs=10)]: Done 384 out of 384 | elapsed:   21.6s finished\n"
     ]
    },
    {
     "name": "stdout",
     "output_type": "stream",
     "text": [
      "for one slice: 28.27\n",
      "0. slice saved\n",
      "(384, 600000)\n",
      "start the 0. slice\n",
      "load data into RAM ...\n",
      "(384, 600000)\n",
      "delet the memmap ...\n",
      "filter and detect spikes ...\n"
     ]
    },
    {
     "name": "stderr",
     "output_type": "stream",
     "text": [
      "[Parallel(n_jobs=10)]: Done   5 tasks      | elapsed:    9.4s\n",
      "[Parallel(n_jobs=10)]: Done  12 tasks      | elapsed:   18.7s\n",
      "[Parallel(n_jobs=10)]: Done  21 tasks      | elapsed:   18.8s\n",
      "[Parallel(n_jobs=10)]: Done  30 tasks      | elapsed:   18.8s\n",
      "[Parallel(n_jobs=10)]: Done  41 tasks      | elapsed:   18.9s\n",
      "[Parallel(n_jobs=10)]: Done  52 tasks      | elapsed:   19.0s\n",
      "[Parallel(n_jobs=10)]: Batch computation too fast (0.1927s.) Setting batch_size=2.\n",
      "[Parallel(n_jobs=10)]: Done  65 tasks      | elapsed:   19.1s\n",
      "[Parallel(n_jobs=10)]: Batch computation too fast (0.1732s.) Setting batch_size=4.\n",
      "[Parallel(n_jobs=10)]: Done  85 tasks      | elapsed:   19.3s\n",
      "[Parallel(n_jobs=10)]: Done 119 tasks      | elapsed:   19.5s\n",
      "[Parallel(n_jobs=10)]: Done 179 tasks      | elapsed:   20.0s\n",
      "[Parallel(n_jobs=10)]: Done 247 tasks      | elapsed:   20.4s\n",
      "[Parallel(n_jobs=10)]: Done 384 out of 384 | elapsed:   21.4s finished\n"
     ]
    },
    {
     "name": "stdout",
     "output_type": "stream",
     "text": [
      "for one slice: 28.05\n",
      "0. slice saved\n",
      "(384, 600000)\n",
      "start the 0. slice\n",
      "load data into RAM ...\n",
      "(384, 600000)\n",
      "delet the memmap ...\n",
      "filter and detect spikes ...\n"
     ]
    },
    {
     "name": "stderr",
     "output_type": "stream",
     "text": [
      "[Parallel(n_jobs=10)]: Done   5 tasks      | elapsed:    9.4s\n",
      "[Parallel(n_jobs=10)]: Done  12 tasks      | elapsed:   18.7s\n",
      "[Parallel(n_jobs=10)]: Done  21 tasks      | elapsed:   18.8s\n",
      "[Parallel(n_jobs=10)]: Done  30 tasks      | elapsed:   18.9s\n",
      "[Parallel(n_jobs=10)]: Done  41 tasks      | elapsed:   18.9s\n",
      "[Parallel(n_jobs=10)]: Done  52 tasks      | elapsed:   19.0s\n",
      "[Parallel(n_jobs=10)]: Batch computation too fast (0.1965s.) Setting batch_size=2.\n",
      "[Parallel(n_jobs=10)]: Done  65 tasks      | elapsed:   19.1s\n",
      "[Parallel(n_jobs=10)]: Batch computation too fast (0.1812s.) Setting batch_size=4.\n",
      "[Parallel(n_jobs=10)]: Done  85 tasks      | elapsed:   19.3s\n",
      "[Parallel(n_jobs=10)]: Done 119 tasks      | elapsed:   19.6s\n",
      "[Parallel(n_jobs=10)]: Done 179 tasks      | elapsed:   20.0s\n",
      "[Parallel(n_jobs=10)]: Done 247 tasks      | elapsed:   20.5s\n",
      "[Parallel(n_jobs=10)]: Done 384 out of 384 | elapsed:   21.5s finished\n"
     ]
    },
    {
     "name": "stdout",
     "output_type": "stream",
     "text": [
      "for one slice: 28.13\n",
      "0. slice saved\n",
      "done for the whole recording\n",
      "create a memmap\n",
      "(384, 600000)\n",
      "start the 0. slice\n",
      "load data into RAM ...\n",
      "(384, 600000)\n",
      "delet the memmap ...\n",
      "filter and detect spikes ...\n"
     ]
    },
    {
     "name": "stderr",
     "output_type": "stream",
     "text": [
      "[Parallel(n_jobs=10)]: Done   5 tasks      | elapsed:    9.4s\n",
      "[Parallel(n_jobs=10)]: Done  12 tasks      | elapsed:   18.7s\n",
      "[Parallel(n_jobs=10)]: Done  21 tasks      | elapsed:   18.8s\n",
      "[Parallel(n_jobs=10)]: Done  30 tasks      | elapsed:   18.8s\n",
      "[Parallel(n_jobs=10)]: Done  41 tasks      | elapsed:   18.9s\n",
      "[Parallel(n_jobs=10)]: Done  52 tasks      | elapsed:   19.0s\n",
      "[Parallel(n_jobs=10)]: Batch computation too fast (0.1937s.) Setting batch_size=2.\n",
      "[Parallel(n_jobs=10)]: Done  65 tasks      | elapsed:   19.1s\n",
      "[Parallel(n_jobs=10)]: Batch computation too fast (0.1702s.) Setting batch_size=4.\n",
      "[Parallel(n_jobs=10)]: Done  85 tasks      | elapsed:   19.2s\n",
      "[Parallel(n_jobs=10)]: Done 119 tasks      | elapsed:   19.5s\n",
      "[Parallel(n_jobs=10)]: Done 179 tasks      | elapsed:   19.9s\n",
      "[Parallel(n_jobs=10)]: Done 247 tasks      | elapsed:   20.4s\n",
      "[Parallel(n_jobs=10)]: Done 384 out of 384 | elapsed:   21.3s finished\n"
     ]
    },
    {
     "name": "stdout",
     "output_type": "stream",
     "text": [
      "for one slice: 27.94\n",
      "0. slice saved\n",
      "(384, 600000)\n",
      "start the 0. slice\n",
      "load data into RAM ...\n",
      "(384, 600000)\n",
      "delet the memmap ...\n",
      "filter and detect spikes ...\n"
     ]
    },
    {
     "name": "stderr",
     "output_type": "stream",
     "text": [
      "[Parallel(n_jobs=10)]: Done   5 tasks      | elapsed:    9.5s\n",
      "[Parallel(n_jobs=10)]: Done  12 tasks      | elapsed:   18.8s\n",
      "[Parallel(n_jobs=10)]: Done  21 tasks      | elapsed:   18.9s\n",
      "[Parallel(n_jobs=10)]: Done  30 tasks      | elapsed:   19.0s\n",
      "[Parallel(n_jobs=10)]: Done  41 tasks      | elapsed:   19.0s\n",
      "[Parallel(n_jobs=10)]: Done  52 tasks      | elapsed:   19.1s\n",
      "[Parallel(n_jobs=10)]: Batch computation too fast (0.1980s.) Setting batch_size=2.\n",
      "[Parallel(n_jobs=10)]: Done  65 tasks      | elapsed:   19.2s\n",
      "[Parallel(n_jobs=10)]: Batch computation too fast (0.1822s.) Setting batch_size=4.\n",
      "[Parallel(n_jobs=10)]: Done  85 tasks      | elapsed:   19.4s\n",
      "[Parallel(n_jobs=10)]: Done 119 tasks      | elapsed:   19.7s\n",
      "[Parallel(n_jobs=10)]: Done 179 tasks      | elapsed:   20.1s\n",
      "[Parallel(n_jobs=10)]: Done 247 tasks      | elapsed:   20.6s\n",
      "[Parallel(n_jobs=10)]: Done 384 out of 384 | elapsed:   21.5s finished\n"
     ]
    },
    {
     "name": "stdout",
     "output_type": "stream",
     "text": [
      "for one slice: 28.26\n",
      "0. slice saved\n",
      "(384, 600000)\n",
      "start the 0. slice\n",
      "load data into RAM ...\n",
      "(384, 600000)\n",
      "delet the memmap ...\n",
      "filter and detect spikes ...\n"
     ]
    },
    {
     "name": "stderr",
     "output_type": "stream",
     "text": [
      "[Parallel(n_jobs=10)]: Done   5 tasks      | elapsed:    9.5s\n",
      "[Parallel(n_jobs=10)]: Done  12 tasks      | elapsed:   18.8s\n",
      "[Parallel(n_jobs=10)]: Done  21 tasks      | elapsed:   18.9s\n",
      "[Parallel(n_jobs=10)]: Done  30 tasks      | elapsed:   18.9s\n",
      "[Parallel(n_jobs=10)]: Done  41 tasks      | elapsed:   19.0s\n",
      "[Parallel(n_jobs=10)]: Done  52 tasks      | elapsed:   19.1s\n",
      "[Parallel(n_jobs=10)]: Batch computation too fast (0.1968s.) Setting batch_size=2.\n",
      "[Parallel(n_jobs=10)]: Done  65 tasks      | elapsed:   19.2s\n",
      "[Parallel(n_jobs=10)]: Batch computation too fast (0.1802s.) Setting batch_size=4.\n",
      "[Parallel(n_jobs=10)]: Done  85 tasks      | elapsed:   19.4s\n",
      "[Parallel(n_jobs=10)]: Done 119 tasks      | elapsed:   19.7s\n",
      "[Parallel(n_jobs=10)]: Done 179 tasks      | elapsed:   20.1s\n",
      "[Parallel(n_jobs=10)]: Done 247 tasks      | elapsed:   20.6s\n",
      "[Parallel(n_jobs=10)]: Done 384 out of 384 | elapsed:   21.5s finished\n"
     ]
    },
    {
     "name": "stdout",
     "output_type": "stream",
     "text": [
      "for one slice: 28.30\n",
      "0. slice saved\n",
      "(384, 600000)\n",
      "start the 0. slice\n",
      "load data into RAM ...\n",
      "(384, 600000)\n",
      "delet the memmap ...\n",
      "filter and detect spikes ...\n"
     ]
    },
    {
     "name": "stderr",
     "output_type": "stream",
     "text": [
      "[Parallel(n_jobs=10)]: Done   5 tasks      | elapsed:    9.5s\n",
      "[Parallel(n_jobs=10)]: Done  12 tasks      | elapsed:   18.8s\n",
      "[Parallel(n_jobs=10)]: Done  21 tasks      | elapsed:   18.9s\n",
      "[Parallel(n_jobs=10)]: Done  30 tasks      | elapsed:   19.0s\n",
      "[Parallel(n_jobs=10)]: Done  41 tasks      | elapsed:   19.0s\n",
      "[Parallel(n_jobs=10)]: Done  52 tasks      | elapsed:   19.1s\n",
      "[Parallel(n_jobs=10)]: Batch computation too fast (0.1996s.) Setting batch_size=2.\n",
      "[Parallel(n_jobs=10)]: Done  65 tasks      | elapsed:   19.2s\n",
      "[Parallel(n_jobs=10)]: Batch computation too fast (0.1842s.) Setting batch_size=4.\n",
      "[Parallel(n_jobs=10)]: Done  85 tasks      | elapsed:   19.4s\n",
      "[Parallel(n_jobs=10)]: Done 119 tasks      | elapsed:   19.7s\n",
      "[Parallel(n_jobs=10)]: Done 179 tasks      | elapsed:   20.1s\n",
      "[Parallel(n_jobs=10)]: Done 247 tasks      | elapsed:   20.6s\n",
      "[Parallel(n_jobs=10)]: Done 384 out of 384 | elapsed:   21.6s finished\n"
     ]
    },
    {
     "name": "stdout",
     "output_type": "stream",
     "text": [
      "for one slice: 28.31\n",
      "0. slice saved\n",
      "(384, 600000)\n",
      "start the 0. slice\n",
      "load data into RAM ...\n",
      "(384, 600000)\n",
      "delet the memmap ...\n",
      "filter and detect spikes ...\n"
     ]
    },
    {
     "name": "stderr",
     "output_type": "stream",
     "text": [
      "[Parallel(n_jobs=10)]: Done   5 tasks      | elapsed:    9.5s\n",
      "[Parallel(n_jobs=10)]: Done  12 tasks      | elapsed:   18.9s\n",
      "[Parallel(n_jobs=10)]: Done  21 tasks      | elapsed:   18.9s\n",
      "[Parallel(n_jobs=10)]: Done  30 tasks      | elapsed:   19.0s\n",
      "[Parallel(n_jobs=10)]: Done  41 tasks      | elapsed:   19.1s\n",
      "[Parallel(n_jobs=10)]: Done  52 tasks      | elapsed:   19.2s\n",
      "[Parallel(n_jobs=10)]: Batch computation too fast (0.1984s.) Setting batch_size=2.\n",
      "[Parallel(n_jobs=10)]: Done  65 tasks      | elapsed:   19.3s\n",
      "[Parallel(n_jobs=10)]: Batch computation too fast (0.1952s.) Setting batch_size=4.\n",
      "[Parallel(n_jobs=10)]: Done  85 tasks      | elapsed:   19.5s\n",
      "[Parallel(n_jobs=10)]: Done 119 tasks      | elapsed:   19.7s\n",
      "[Parallel(n_jobs=10)]: Done 179 tasks      | elapsed:   20.2s\n",
      "[Parallel(n_jobs=10)]: Done 247 tasks      | elapsed:   20.6s\n",
      "[Parallel(n_jobs=10)]: Done 384 out of 384 | elapsed:   21.6s finished\n"
     ]
    },
    {
     "name": "stdout",
     "output_type": "stream",
     "text": [
      "for one slice: 28.26\n",
      "0. slice saved\n",
      "(384, 600000)\n",
      "start the 0. slice\n",
      "load data into RAM ...\n",
      "(384, 600000)\n",
      "delet the memmap ...\n",
      "filter and detect spikes ...\n"
     ]
    },
    {
     "name": "stderr",
     "output_type": "stream",
     "text": [
      "[Parallel(n_jobs=10)]: Done   5 tasks      | elapsed:    9.8s\n",
      "[Parallel(n_jobs=10)]: Done  12 tasks      | elapsed:   19.2s\n",
      "[Parallel(n_jobs=10)]: Done  21 tasks      | elapsed:   19.3s\n",
      "[Parallel(n_jobs=10)]: Done  30 tasks      | elapsed:   19.3s\n",
      "[Parallel(n_jobs=10)]: Done  41 tasks      | elapsed:   19.4s\n",
      "[Parallel(n_jobs=10)]: Done  52 tasks      | elapsed:   19.5s\n",
      "[Parallel(n_jobs=10)]: Batch computation too fast (0.1907s.) Setting batch_size=2.\n",
      "[Parallel(n_jobs=10)]: Done  65 tasks      | elapsed:   19.6s\n",
      "[Parallel(n_jobs=10)]: Batch computation too fast (0.1822s.) Setting batch_size=4.\n",
      "[Parallel(n_jobs=10)]: Done  84 tasks      | elapsed:   19.8s\n",
      "[Parallel(n_jobs=10)]: Done 116 tasks      | elapsed:   20.0s\n",
      "[Parallel(n_jobs=10)]: Done 176 tasks      | elapsed:   20.5s\n",
      "[Parallel(n_jobs=10)]: Done 244 tasks      | elapsed:   21.0s\n",
      "[Parallel(n_jobs=10)]: Done 384 out of 384 | elapsed:   22.0s finished\n"
     ]
    },
    {
     "name": "stdout",
     "output_type": "stream",
     "text": [
      "for one slice: 28.65\n",
      "0. slice saved\n",
      "(384, 600000)\n",
      "start the 0. slice\n",
      "load data into RAM ...\n",
      "(384, 600000)\n",
      "delet the memmap ...\n",
      "filter and detect spikes ...\n"
     ]
    },
    {
     "name": "stderr",
     "output_type": "stream",
     "text": [
      "[Parallel(n_jobs=10)]: Done   5 tasks      | elapsed:    9.4s\n",
      "[Parallel(n_jobs=10)]: Done  12 tasks      | elapsed:   18.8s\n",
      "[Parallel(n_jobs=10)]: Done  21 tasks      | elapsed:   18.9s\n",
      "[Parallel(n_jobs=10)]: Done  30 tasks      | elapsed:   19.0s\n",
      "[Parallel(n_jobs=10)]: Done  41 tasks      | elapsed:   19.0s\n",
      "[Parallel(n_jobs=10)]: Done  52 tasks      | elapsed:   19.1s\n",
      "[Parallel(n_jobs=10)]: Batch computation too fast (0.1994s.) Setting batch_size=2.\n",
      "[Parallel(n_jobs=10)]: Done  65 tasks      | elapsed:   19.2s\n",
      "[Parallel(n_jobs=10)]: Batch computation too fast (0.1792s.) Setting batch_size=4.\n",
      "[Parallel(n_jobs=10)]: Done  85 tasks      | elapsed:   19.4s\n",
      "[Parallel(n_jobs=10)]: Done 119 tasks      | elapsed:   19.7s\n",
      "[Parallel(n_jobs=10)]: Done 179 tasks      | elapsed:   20.2s\n",
      "[Parallel(n_jobs=10)]: Done 247 tasks      | elapsed:   20.6s\n",
      "[Parallel(n_jobs=10)]: Done 384 out of 384 | elapsed:   21.6s finished\n"
     ]
    },
    {
     "name": "stdout",
     "output_type": "stream",
     "text": [
      "for one slice: 28.67\n",
      "0. slice saved\n",
      "(384, 600000)\n",
      "start the 0. slice\n",
      "load data into RAM ...\n",
      "(384, 600000)\n",
      "delet the memmap ...\n",
      "filter and detect spikes ...\n"
     ]
    },
    {
     "name": "stderr",
     "output_type": "stream",
     "text": [
      "[Parallel(n_jobs=10)]: Done   5 tasks      | elapsed:    9.6s\n",
      "[Parallel(n_jobs=10)]: Done  12 tasks      | elapsed:   18.9s\n",
      "[Parallel(n_jobs=10)]: Done  21 tasks      | elapsed:   19.0s\n",
      "[Parallel(n_jobs=10)]: Done  30 tasks      | elapsed:   19.1s\n",
      "[Parallel(n_jobs=10)]: Done  41 tasks      | elapsed:   19.2s\n",
      "[Parallel(n_jobs=10)]: Done  52 tasks      | elapsed:   19.2s\n",
      "[Parallel(n_jobs=10)]: Batch computation too fast (0.1973s.) Setting batch_size=2.\n",
      "[Parallel(n_jobs=10)]: Done  65 tasks      | elapsed:   19.3s\n",
      "[Parallel(n_jobs=10)]: Batch computation too fast (0.1792s.) Setting batch_size=4.\n",
      "[Parallel(n_jobs=10)]: Done  85 tasks      | elapsed:   19.5s\n",
      "[Parallel(n_jobs=10)]: Done 119 tasks      | elapsed:   19.8s\n",
      "[Parallel(n_jobs=10)]: Done 179 tasks      | elapsed:   20.3s\n",
      "[Parallel(n_jobs=10)]: Done 247 tasks      | elapsed:   20.7s\n",
      "[Parallel(n_jobs=10)]: Done 384 out of 384 | elapsed:   21.7s finished\n"
     ]
    },
    {
     "name": "stdout",
     "output_type": "stream",
     "text": [
      "for one slice: 28.33\n",
      "0. slice saved\n",
      "(384, 600000)\n",
      "start the 0. slice\n",
      "load data into RAM ...\n",
      "(384, 600000)\n",
      "delet the memmap ...\n",
      "filter and detect spikes ...\n"
     ]
    },
    {
     "name": "stderr",
     "output_type": "stream",
     "text": [
      "[Parallel(n_jobs=10)]: Done   5 tasks      | elapsed:    9.4s\n",
      "[Parallel(n_jobs=10)]: Done  12 tasks      | elapsed:   18.7s\n",
      "[Parallel(n_jobs=10)]: Done  21 tasks      | elapsed:   18.8s\n",
      "[Parallel(n_jobs=10)]: Done  30 tasks      | elapsed:   18.8s\n",
      "[Parallel(n_jobs=10)]: Done  41 tasks      | elapsed:   18.9s\n",
      "[Parallel(n_jobs=10)]: Batch computation too fast (0.1970s.) Setting batch_size=2.\n",
      "[Parallel(n_jobs=10)]: Done  52 tasks      | elapsed:   19.0s\n",
      "[Parallel(n_jobs=10)]: Done  65 tasks      | elapsed:   19.1s\n",
      "[Parallel(n_jobs=10)]: Batch computation too fast (0.1732s.) Setting batch_size=4.\n",
      "[Parallel(n_jobs=10)]: Done  86 tasks      | elapsed:   19.2s\n",
      "[Parallel(n_jobs=10)]: Done 122 tasks      | elapsed:   19.6s\n",
      "[Parallel(n_jobs=10)]: Done 182 tasks      | elapsed:   20.0s\n",
      "[Parallel(n_jobs=10)]: Done 250 tasks      | elapsed:   20.4s\n",
      "[Parallel(n_jobs=10)]: Done 326 out of 384 | elapsed:   21.0s remaining:    3.6s\n",
      "[Parallel(n_jobs=10)]: Done 384 out of 384 | elapsed:   21.3s finished\n"
     ]
    },
    {
     "name": "stdout",
     "output_type": "stream",
     "text": [
      "for one slice: 28.00\n",
      "0. slice saved\n",
      "(384, 600000)\n",
      "start the 0. slice\n",
      "load data into RAM ...\n",
      "(384, 600000)\n",
      "delet the memmap ...\n",
      "filter and detect spikes ...\n"
     ]
    },
    {
     "name": "stderr",
     "output_type": "stream",
     "text": [
      "[Parallel(n_jobs=10)]: Done   5 tasks      | elapsed:    9.5s\n",
      "[Parallel(n_jobs=10)]: Done  12 tasks      | elapsed:   18.7s\n",
      "[Parallel(n_jobs=10)]: Done  21 tasks      | elapsed:   18.8s\n",
      "[Parallel(n_jobs=10)]: Done  30 tasks      | elapsed:   18.9s\n",
      "[Parallel(n_jobs=10)]: Done  41 tasks      | elapsed:   19.0s\n",
      "[Parallel(n_jobs=10)]: Done  52 tasks      | elapsed:   19.0s\n",
      "[Parallel(n_jobs=10)]: Batch computation too fast (0.1973s.) Setting batch_size=2.\n",
      "[Parallel(n_jobs=10)]: Done  65 tasks      | elapsed:   19.1s\n",
      "[Parallel(n_jobs=10)]: Batch computation too fast (0.1752s.) Setting batch_size=4.\n",
      "[Parallel(n_jobs=10)]: Done  85 tasks      | elapsed:   19.3s\n",
      "[Parallel(n_jobs=10)]: Done 119 tasks      | elapsed:   19.6s\n",
      "[Parallel(n_jobs=10)]: Done 179 tasks      | elapsed:   20.0s\n",
      "[Parallel(n_jobs=10)]: Done 247 tasks      | elapsed:   20.5s\n",
      "[Parallel(n_jobs=10)]: Done 384 out of 384 | elapsed:   21.5s finished\n"
     ]
    },
    {
     "name": "stdout",
     "output_type": "stream",
     "text": [
      "for one slice: 28.15\n",
      "0. slice saved\n",
      "(384, 600000)\n",
      "start the 0. slice\n",
      "load data into RAM ...\n",
      "(384, 600000)\n",
      "delet the memmap ...\n",
      "filter and detect spikes ...\n"
     ]
    },
    {
     "name": "stderr",
     "output_type": "stream",
     "text": [
      "[Parallel(n_jobs=10)]: Done   5 tasks      | elapsed:    9.4s\n",
      "[Parallel(n_jobs=10)]: Done  12 tasks      | elapsed:   18.7s\n",
      "[Parallel(n_jobs=10)]: Done  21 tasks      | elapsed:   18.8s\n",
      "[Parallel(n_jobs=10)]: Done  30 tasks      | elapsed:   18.9s\n",
      "[Parallel(n_jobs=10)]: Done  41 tasks      | elapsed:   19.0s\n",
      "[Parallel(n_jobs=10)]: Done  52 tasks      | elapsed:   19.0s\n",
      "[Parallel(n_jobs=10)]: Batch computation too fast (0.1968s.) Setting batch_size=2.\n",
      "[Parallel(n_jobs=10)]: Done  65 tasks      | elapsed:   19.1s\n",
      "[Parallel(n_jobs=10)]: Batch computation too fast (0.1772s.) Setting batch_size=4.\n",
      "[Parallel(n_jobs=10)]: Done  85 tasks      | elapsed:   19.3s\n",
      "[Parallel(n_jobs=10)]: Done 119 tasks      | elapsed:   19.6s\n",
      "[Parallel(n_jobs=10)]: Done 179 tasks      | elapsed:   20.0s\n",
      "[Parallel(n_jobs=10)]: Done 247 tasks      | elapsed:   20.5s\n",
      "[Parallel(n_jobs=10)]: Done 384 out of 384 | elapsed:   21.5s finished\n"
     ]
    },
    {
     "name": "stdout",
     "output_type": "stream",
     "text": [
      "for one slice: 28.14\n",
      "0. slice saved\n",
      "(384, 600000)\n",
      "start the 0. slice\n",
      "load data into RAM ...\n",
      "(384, 600000)\n",
      "delet the memmap ...\n",
      "filter and detect spikes ...\n"
     ]
    },
    {
     "name": "stderr",
     "output_type": "stream",
     "text": [
      "[Parallel(n_jobs=10)]: Done   5 tasks      | elapsed:    9.5s\n",
      "[Parallel(n_jobs=10)]: Done  12 tasks      | elapsed:   18.7s\n",
      "[Parallel(n_jobs=10)]: Done  21 tasks      | elapsed:   18.8s\n",
      "[Parallel(n_jobs=10)]: Done  30 tasks      | elapsed:   18.9s\n",
      "[Parallel(n_jobs=10)]: Done  41 tasks      | elapsed:   18.9s\n",
      "[Parallel(n_jobs=10)]: Done  52 tasks      | elapsed:   19.0s\n",
      "[Parallel(n_jobs=10)]: Batch computation too fast (0.1971s.) Setting batch_size=2.\n",
      "[Parallel(n_jobs=10)]: Done  65 tasks      | elapsed:   19.1s\n",
      "[Parallel(n_jobs=10)]: Batch computation too fast (0.1792s.) Setting batch_size=4.\n",
      "[Parallel(n_jobs=10)]: Done  85 tasks      | elapsed:   19.3s\n",
      "[Parallel(n_jobs=10)]: Done 119 tasks      | elapsed:   19.6s\n",
      "[Parallel(n_jobs=10)]: Done 179 tasks      | elapsed:   20.0s\n",
      "[Parallel(n_jobs=10)]: Done 247 tasks      | elapsed:   20.5s\n",
      "[Parallel(n_jobs=10)]: Done 384 out of 384 | elapsed:   21.4s finished\n"
     ]
    },
    {
     "name": "stdout",
     "output_type": "stream",
     "text": [
      "for one slice: 28.10\n",
      "0. slice saved\n",
      "(384, 600000)\n",
      "start the 0. slice\n",
      "load data into RAM ...\n",
      "(384, 600000)\n",
      "delet the memmap ...\n",
      "filter and detect spikes ...\n"
     ]
    },
    {
     "name": "stderr",
     "output_type": "stream",
     "text": [
      "[Parallel(n_jobs=10)]: Done   5 tasks      | elapsed:    9.5s\n",
      "[Parallel(n_jobs=10)]: Done  12 tasks      | elapsed:   18.7s\n",
      "[Parallel(n_jobs=10)]: Done  21 tasks      | elapsed:   18.8s\n",
      "[Parallel(n_jobs=10)]: Done  30 tasks      | elapsed:   18.9s\n",
      "[Parallel(n_jobs=10)]: Done  41 tasks      | elapsed:   19.0s\n",
      "[Parallel(n_jobs=10)]: Done  52 tasks      | elapsed:   19.0s\n",
      "[Parallel(n_jobs=10)]: Batch computation too fast (0.1962s.) Setting batch_size=2.\n",
      "[Parallel(n_jobs=10)]: Done  65 tasks      | elapsed:   19.1s\n",
      "[Parallel(n_jobs=10)]: Batch computation too fast (0.1722s.) Setting batch_size=4.\n",
      "[Parallel(n_jobs=10)]: Done  85 tasks      | elapsed:   19.3s\n",
      "[Parallel(n_jobs=10)]: Done 119 tasks      | elapsed:   19.6s\n",
      "[Parallel(n_jobs=10)]: Done 179 tasks      | elapsed:   20.0s\n",
      "[Parallel(n_jobs=10)]: Done 247 tasks      | elapsed:   20.5s\n",
      "[Parallel(n_jobs=10)]: Done 384 out of 384 | elapsed:   21.4s finished\n"
     ]
    },
    {
     "name": "stdout",
     "output_type": "stream",
     "text": [
      "for one slice: 28.14\n",
      "0. slice saved\n",
      "(384, 600000)\n",
      "start the 0. slice\n",
      "load data into RAM ...\n",
      "(384, 600000)\n",
      "delet the memmap ...\n",
      "filter and detect spikes ...\n"
     ]
    },
    {
     "name": "stderr",
     "output_type": "stream",
     "text": [
      "[Parallel(n_jobs=10)]: Done   5 tasks      | elapsed:    9.4s\n",
      "[Parallel(n_jobs=10)]: Done  12 tasks      | elapsed:   18.7s\n",
      "[Parallel(n_jobs=10)]: Done  21 tasks      | elapsed:   18.8s\n",
      "[Parallel(n_jobs=10)]: Done  30 tasks      | elapsed:   18.8s\n",
      "[Parallel(n_jobs=10)]: Done  41 tasks      | elapsed:   18.9s\n",
      "[Parallel(n_jobs=10)]: Done  52 tasks      | elapsed:   19.0s\n",
      "[Parallel(n_jobs=10)]: Batch computation too fast (0.1932s.) Setting batch_size=2.\n",
      "[Parallel(n_jobs=10)]: Done  65 tasks      | elapsed:   19.1s\n",
      "[Parallel(n_jobs=10)]: Batch computation too fast (0.1832s.) Setting batch_size=4.\n",
      "[Parallel(n_jobs=10)]: Done  85 tasks      | elapsed:   19.3s\n",
      "[Parallel(n_jobs=10)]: Done 119 tasks      | elapsed:   19.6s\n",
      "[Parallel(n_jobs=10)]: Done 179 tasks      | elapsed:   20.0s\n",
      "[Parallel(n_jobs=10)]: Done 247 tasks      | elapsed:   20.5s\n",
      "[Parallel(n_jobs=10)]: Done 384 out of 384 | elapsed:   21.4s finished\n"
     ]
    },
    {
     "name": "stdout",
     "output_type": "stream",
     "text": [
      "for one slice: 28.14\n",
      "0. slice saved\n",
      "(384, 600000)\n",
      "start the 0. slice\n",
      "load data into RAM ...\n",
      "(384, 600000)\n",
      "delet the memmap ...\n",
      "filter and detect spikes ...\n"
     ]
    },
    {
     "name": "stderr",
     "output_type": "stream",
     "text": [
      "[Parallel(n_jobs=10)]: Done   5 tasks      | elapsed:    9.5s\n",
      "[Parallel(n_jobs=10)]: Done  12 tasks      | elapsed:   18.7s\n",
      "[Parallel(n_jobs=10)]: Done  21 tasks      | elapsed:   18.8s\n",
      "[Parallel(n_jobs=10)]: Done  30 tasks      | elapsed:   18.8s\n",
      "[Parallel(n_jobs=10)]: Done  41 tasks      | elapsed:   18.9s\n",
      "[Parallel(n_jobs=10)]: Done  52 tasks      | elapsed:   19.0s\n",
      "[Parallel(n_jobs=10)]: Batch computation too fast (0.1924s.) Setting batch_size=2.\n",
      "[Parallel(n_jobs=10)]: Done  65 tasks      | elapsed:   19.1s\n",
      "[Parallel(n_jobs=10)]: Batch computation too fast (0.1762s.) Setting batch_size=4.\n",
      "[Parallel(n_jobs=10)]: Done  85 tasks      | elapsed:   19.3s\n",
      "[Parallel(n_jobs=10)]: Done 119 tasks      | elapsed:   19.6s\n",
      "[Parallel(n_jobs=10)]: Done 179 tasks      | elapsed:   20.0s\n",
      "[Parallel(n_jobs=10)]: Done 247 tasks      | elapsed:   20.5s\n",
      "[Parallel(n_jobs=10)]: Done 384 out of 384 | elapsed:   21.4s finished\n"
     ]
    },
    {
     "name": "stdout",
     "output_type": "stream",
     "text": [
      "for one slice: 28.04\n",
      "0. slice saved\n",
      "(384, 600000)\n",
      "start the 0. slice\n",
      "load data into RAM ...\n",
      "(384, 600000)\n",
      "delet the memmap ...\n",
      "filter and detect spikes ...\n"
     ]
    },
    {
     "name": "stderr",
     "output_type": "stream",
     "text": [
      "[Parallel(n_jobs=10)]: Done   5 tasks      | elapsed:    9.4s\n",
      "[Parallel(n_jobs=10)]: Done  12 tasks      | elapsed:   18.7s\n",
      "[Parallel(n_jobs=10)]: Done  21 tasks      | elapsed:   18.8s\n",
      "[Parallel(n_jobs=10)]: Done  30 tasks      | elapsed:   18.9s\n",
      "[Parallel(n_jobs=10)]: Done  41 tasks      | elapsed:   19.0s\n",
      "[Parallel(n_jobs=10)]: Done  52 tasks      | elapsed:   19.0s\n",
      "[Parallel(n_jobs=10)]: Batch computation too fast (0.1952s.) Setting batch_size=2.\n",
      "[Parallel(n_jobs=10)]: Done  65 tasks      | elapsed:   19.1s\n",
      "[Parallel(n_jobs=10)]: Batch computation too fast (0.1772s.) Setting batch_size=4.\n",
      "[Parallel(n_jobs=10)]: Done  85 tasks      | elapsed:   19.3s\n",
      "[Parallel(n_jobs=10)]: Done 119 tasks      | elapsed:   19.6s\n",
      "[Parallel(n_jobs=10)]: Done 179 tasks      | elapsed:   20.0s\n",
      "[Parallel(n_jobs=10)]: Done 247 tasks      | elapsed:   20.5s\n",
      "[Parallel(n_jobs=10)]: Done 384 out of 384 | elapsed:   21.4s finished\n"
     ]
    },
    {
     "name": "stdout",
     "output_type": "stream",
     "text": [
      "for one slice: 28.11\n",
      "0. slice saved\n",
      "(384, 600000)\n",
      "start the 0. slice\n",
      "load data into RAM ...\n",
      "(384, 600000)\n",
      "delet the memmap ...\n",
      "filter and detect spikes ...\n"
     ]
    },
    {
     "name": "stderr",
     "output_type": "stream",
     "text": [
      "[Parallel(n_jobs=10)]: Done   5 tasks      | elapsed:    9.7s\n",
      "[Parallel(n_jobs=10)]: Done  12 tasks      | elapsed:   19.0s\n",
      "[Parallel(n_jobs=10)]: Done  21 tasks      | elapsed:   19.0s\n",
      "[Parallel(n_jobs=10)]: Done  30 tasks      | elapsed:   19.1s\n",
      "[Parallel(n_jobs=10)]: Done  41 tasks      | elapsed:   19.2s\n",
      "[Parallel(n_jobs=10)]: Done  52 tasks      | elapsed:   19.3s\n",
      "[Parallel(n_jobs=10)]: Batch computation too fast (0.1972s.) Setting batch_size=2.\n",
      "[Parallel(n_jobs=10)]: Done  65 tasks      | elapsed:   19.4s\n",
      "[Parallel(n_jobs=10)]: Batch computation too fast (0.1752s.) Setting batch_size=4.\n",
      "[Parallel(n_jobs=10)]: Done  85 tasks      | elapsed:   19.5s\n",
      "[Parallel(n_jobs=10)]: Done 119 tasks      | elapsed:   19.8s\n",
      "[Parallel(n_jobs=10)]: Done 179 tasks      | elapsed:   20.2s\n",
      "[Parallel(n_jobs=10)]: Done 247 tasks      | elapsed:   20.7s\n",
      "[Parallel(n_jobs=10)]: Done 384 out of 384 | elapsed:   21.7s finished\n"
     ]
    },
    {
     "name": "stdout",
     "output_type": "stream",
     "text": [
      "for one slice: 28.35\n",
      "0. slice saved\n",
      "(384, 600000)\n",
      "start the 0. slice\n",
      "load data into RAM ...\n",
      "(384, 600000)\n",
      "delet the memmap ...\n",
      "filter and detect spikes ...\n"
     ]
    },
    {
     "name": "stderr",
     "output_type": "stream",
     "text": [
      "[Parallel(n_jobs=10)]: Done   5 tasks      | elapsed:    9.4s\n",
      "[Parallel(n_jobs=10)]: Done  12 tasks      | elapsed:   18.7s\n",
      "[Parallel(n_jobs=10)]: Done  21 tasks      | elapsed:   18.8s\n",
      "[Parallel(n_jobs=10)]: Done  30 tasks      | elapsed:   18.8s\n",
      "[Parallel(n_jobs=10)]: Done  41 tasks      | elapsed:   18.9s\n",
      "[Parallel(n_jobs=10)]: Done  52 tasks      | elapsed:   19.0s\n",
      "[Parallel(n_jobs=10)]: Batch computation too fast (0.1920s.) Setting batch_size=2.\n",
      "[Parallel(n_jobs=10)]: Done  65 tasks      | elapsed:   19.1s\n",
      "[Parallel(n_jobs=10)]: Batch computation too fast (0.1752s.) Setting batch_size=4.\n",
      "[Parallel(n_jobs=10)]: Done  85 tasks      | elapsed:   19.2s\n",
      "[Parallel(n_jobs=10)]: Done 119 tasks      | elapsed:   19.5s\n",
      "[Parallel(n_jobs=10)]: Done 179 tasks      | elapsed:   19.9s\n",
      "[Parallel(n_jobs=10)]: Done 247 tasks      | elapsed:   20.4s\n",
      "[Parallel(n_jobs=10)]: Done 384 out of 384 | elapsed:   21.3s finished\n"
     ]
    },
    {
     "name": "stdout",
     "output_type": "stream",
     "text": [
      "for one slice: 27.96\n",
      "0. slice saved\n",
      "(384, 600000)\n",
      "start the 0. slice\n",
      "load data into RAM ...\n",
      "(384, 600000)\n",
      "delet the memmap ...\n",
      "filter and detect spikes ...\n"
     ]
    },
    {
     "name": "stderr",
     "output_type": "stream",
     "text": [
      "[Parallel(n_jobs=10)]: Done   5 tasks      | elapsed:    9.5s\n",
      "[Parallel(n_jobs=10)]: Done  12 tasks      | elapsed:   18.7s\n",
      "[Parallel(n_jobs=10)]: Done  21 tasks      | elapsed:   18.8s\n",
      "[Parallel(n_jobs=10)]: Done  30 tasks      | elapsed:   18.8s\n",
      "[Parallel(n_jobs=10)]: Done  41 tasks      | elapsed:   18.9s\n",
      "[Parallel(n_jobs=10)]: Done  52 tasks      | elapsed:   19.0s\n",
      "[Parallel(n_jobs=10)]: Batch computation too fast (0.1976s.) Setting batch_size=2.\n",
      "[Parallel(n_jobs=10)]: Done  65 tasks      | elapsed:   19.1s\n",
      "[Parallel(n_jobs=10)]: Batch computation too fast (0.1812s.) Setting batch_size=4.\n",
      "[Parallel(n_jobs=10)]: Done  85 tasks      | elapsed:   19.3s\n",
      "[Parallel(n_jobs=10)]: Done 119 tasks      | elapsed:   19.6s\n",
      "[Parallel(n_jobs=10)]: Done 179 tasks      | elapsed:   20.0s\n",
      "[Parallel(n_jobs=10)]: Done 247 tasks      | elapsed:   20.5s\n",
      "[Parallel(n_jobs=10)]: Done 384 out of 384 | elapsed:   21.4s finished\n"
     ]
    },
    {
     "name": "stdout",
     "output_type": "stream",
     "text": [
      "for one slice: 28.17\n",
      "0. slice saved\n",
      "(384, 600000)\n",
      "start the 0. slice\n",
      "load data into RAM ...\n",
      "(384, 600000)\n",
      "delet the memmap ...\n",
      "filter and detect spikes ...\n"
     ]
    },
    {
     "name": "stderr",
     "output_type": "stream",
     "text": [
      "[Parallel(n_jobs=10)]: Done   5 tasks      | elapsed:    9.5s\n",
      "[Parallel(n_jobs=10)]: Done  12 tasks      | elapsed:   18.7s\n",
      "[Parallel(n_jobs=10)]: Done  21 tasks      | elapsed:   18.8s\n",
      "[Parallel(n_jobs=10)]: Done  30 tasks      | elapsed:   18.9s\n",
      "[Parallel(n_jobs=10)]: Done  41 tasks      | elapsed:   19.0s\n",
      "[Parallel(n_jobs=10)]: Done  52 tasks      | elapsed:   19.0s\n",
      "[Parallel(n_jobs=10)]: Batch computation too fast (0.1964s.) Setting batch_size=2.\n",
      "[Parallel(n_jobs=10)]: Done  65 tasks      | elapsed:   19.1s\n",
      "[Parallel(n_jobs=10)]: Batch computation too fast (0.1822s.) Setting batch_size=4.\n",
      "[Parallel(n_jobs=10)]: Done  85 tasks      | elapsed:   19.3s\n",
      "[Parallel(n_jobs=10)]: Done 119 tasks      | elapsed:   19.6s\n",
      "[Parallel(n_jobs=10)]: Done 179 tasks      | elapsed:   20.0s\n",
      "[Parallel(n_jobs=10)]: Done 247 tasks      | elapsed:   20.5s\n",
      "[Parallel(n_jobs=10)]: Done 384 out of 384 | elapsed:   21.5s finished\n"
     ]
    },
    {
     "name": "stdout",
     "output_type": "stream",
     "text": [
      "for one slice: 28.09\n",
      "0. slice saved\n",
      "done for the whole recording\n",
      "create a memmap\n",
      "(384, 600000)\n",
      "start the 0. slice\n",
      "load data into RAM ...\n",
      "(384, 600000)\n",
      "delet the memmap ...\n",
      "filter and detect spikes ...\n"
     ]
    },
    {
     "name": "stderr",
     "output_type": "stream",
     "text": [
      "[Parallel(n_jobs=10)]: Done   5 tasks      | elapsed:    9.5s\n",
      "[Parallel(n_jobs=10)]: Done  12 tasks      | elapsed:   18.7s\n",
      "[Parallel(n_jobs=10)]: Done  21 tasks      | elapsed:   18.8s\n",
      "[Parallel(n_jobs=10)]: Done  30 tasks      | elapsed:   18.8s\n",
      "[Parallel(n_jobs=10)]: Done  41 tasks      | elapsed:   18.9s\n",
      "[Parallel(n_jobs=10)]: Done  52 tasks      | elapsed:   19.0s\n",
      "[Parallel(n_jobs=10)]: Batch computation too fast (0.1912s.) Setting batch_size=2.\n",
      "[Parallel(n_jobs=10)]: Done  65 tasks      | elapsed:   19.1s\n",
      "[Parallel(n_jobs=10)]: Batch computation too fast (0.1732s.) Setting batch_size=4.\n",
      "[Parallel(n_jobs=10)]: Done  85 tasks      | elapsed:   19.3s\n",
      "[Parallel(n_jobs=10)]: Done 119 tasks      | elapsed:   19.6s\n",
      "[Parallel(n_jobs=10)]: Done 179 tasks      | elapsed:   20.0s\n",
      "[Parallel(n_jobs=10)]: Done 247 tasks      | elapsed:   20.4s\n",
      "[Parallel(n_jobs=10)]: Done 384 out of 384 | elapsed:   21.3s finished\n"
     ]
    },
    {
     "name": "stdout",
     "output_type": "stream",
     "text": [
      "for one slice: 27.93\n",
      "0. slice saved\n",
      "(384, 600000)\n",
      "start the 0. slice\n",
      "load data into RAM ...\n",
      "(384, 600000)\n",
      "delet the memmap ...\n",
      "filter and detect spikes ...\n"
     ]
    },
    {
     "name": "stderr",
     "output_type": "stream",
     "text": [
      "[Parallel(n_jobs=10)]: Done   5 tasks      | elapsed:    9.5s\n",
      "[Parallel(n_jobs=10)]: Done  12 tasks      | elapsed:   18.8s\n",
      "[Parallel(n_jobs=10)]: Done  21 tasks      | elapsed:   18.8s\n",
      "[Parallel(n_jobs=10)]: Done  30 tasks      | elapsed:   18.9s\n",
      "[Parallel(n_jobs=10)]: Done  41 tasks      | elapsed:   19.0s\n",
      "[Parallel(n_jobs=10)]: Done  52 tasks      | elapsed:   19.1s\n",
      "[Parallel(n_jobs=10)]: Batch computation too fast (0.1932s.) Setting batch_size=2.\n",
      "[Parallel(n_jobs=10)]: Done  65 tasks      | elapsed:   19.2s\n",
      "[Parallel(n_jobs=10)]: Batch computation too fast (0.1812s.) Setting batch_size=4.\n",
      "[Parallel(n_jobs=10)]: Done  85 tasks      | elapsed:   19.3s\n",
      "[Parallel(n_jobs=10)]: Done 119 tasks      | elapsed:   19.6s\n",
      "[Parallel(n_jobs=10)]: Done 179 tasks      | elapsed:   20.0s\n",
      "[Parallel(n_jobs=10)]: Done 247 tasks      | elapsed:   20.5s\n",
      "[Parallel(n_jobs=10)]: Done 384 out of 384 | elapsed:   21.5s finished\n"
     ]
    },
    {
     "name": "stdout",
     "output_type": "stream",
     "text": [
      "for one slice: 28.13\n",
      "0. slice saved\n",
      "(384, 600000)\n",
      "start the 0. slice\n",
      "load data into RAM ...\n",
      "(384, 600000)\n",
      "delet the memmap ...\n",
      "filter and detect spikes ...\n"
     ]
    },
    {
     "name": "stderr",
     "output_type": "stream",
     "text": [
      "[Parallel(n_jobs=10)]: Done   5 tasks      | elapsed:    9.4s\n",
      "[Parallel(n_jobs=10)]: Done  12 tasks      | elapsed:   18.7s\n",
      "[Parallel(n_jobs=10)]: Done  21 tasks      | elapsed:   18.8s\n",
      "[Parallel(n_jobs=10)]: Done  30 tasks      | elapsed:   18.8s\n",
      "[Parallel(n_jobs=10)]: Done  41 tasks      | elapsed:   18.9s\n",
      "[Parallel(n_jobs=10)]: Done  52 tasks      | elapsed:   19.0s\n",
      "[Parallel(n_jobs=10)]: Batch computation too fast (0.1925s.) Setting batch_size=2.\n",
      "[Parallel(n_jobs=10)]: Done  65 tasks      | elapsed:   19.1s\n",
      "[Parallel(n_jobs=10)]: Batch computation too fast (0.1772s.) Setting batch_size=4.\n",
      "[Parallel(n_jobs=10)]: Done  85 tasks      | elapsed:   19.3s\n",
      "[Parallel(n_jobs=10)]: Done 119 tasks      | elapsed:   19.6s\n",
      "[Parallel(n_jobs=10)]: Done 179 tasks      | elapsed:   20.0s\n",
      "[Parallel(n_jobs=10)]: Done 247 tasks      | elapsed:   20.5s\n",
      "[Parallel(n_jobs=10)]: Done 384 out of 384 | elapsed:   21.4s finished\n"
     ]
    },
    {
     "name": "stdout",
     "output_type": "stream",
     "text": [
      "for one slice: 28.14\n",
      "0. slice saved\n",
      "(384, 600000)\n",
      "start the 0. slice\n",
      "load data into RAM ...\n",
      "(384, 600000)\n",
      "delet the memmap ...\n",
      "filter and detect spikes ...\n"
     ]
    },
    {
     "name": "stderr",
     "output_type": "stream",
     "text": [
      "[Parallel(n_jobs=10)]: Done   5 tasks      | elapsed:    9.5s\n",
      "[Parallel(n_jobs=10)]: Done  12 tasks      | elapsed:   18.7s\n",
      "[Parallel(n_jobs=10)]: Done  21 tasks      | elapsed:   18.8s\n",
      "[Parallel(n_jobs=10)]: Done  30 tasks      | elapsed:   18.9s\n",
      "[Parallel(n_jobs=10)]: Done  41 tasks      | elapsed:   18.9s\n",
      "[Parallel(n_jobs=10)]: Done  52 tasks      | elapsed:   19.0s\n",
      "[Parallel(n_jobs=10)]: Batch computation too fast (0.1957s.) Setting batch_size=2.\n",
      "[Parallel(n_jobs=10)]: Done  65 tasks      | elapsed:   19.1s\n",
      "[Parallel(n_jobs=10)]: Batch computation too fast (0.1732s.) Setting batch_size=4.\n",
      "[Parallel(n_jobs=10)]: Done  85 tasks      | elapsed:   19.3s\n",
      "[Parallel(n_jobs=10)]: Done 119 tasks      | elapsed:   19.6s\n",
      "[Parallel(n_jobs=10)]: Done 179 tasks      | elapsed:   20.0s\n",
      "[Parallel(n_jobs=10)]: Done 247 tasks      | elapsed:   20.5s\n",
      "[Parallel(n_jobs=10)]: Done 384 out of 384 | elapsed:   21.5s finished\n"
     ]
    },
    {
     "name": "stdout",
     "output_type": "stream",
     "text": [
      "for one slice: 28.12\n",
      "0. slice saved\n",
      "(384, 600000)\n",
      "start the 0. slice\n",
      "load data into RAM ...\n",
      "(384, 600000)\n",
      "delet the memmap ...\n",
      "filter and detect spikes ...\n"
     ]
    },
    {
     "name": "stderr",
     "output_type": "stream",
     "text": [
      "[Parallel(n_jobs=10)]: Done   5 tasks      | elapsed:    9.4s\n",
      "[Parallel(n_jobs=10)]: Done  12 tasks      | elapsed:   18.7s\n",
      "[Parallel(n_jobs=10)]: Done  21 tasks      | elapsed:   18.8s\n",
      "[Parallel(n_jobs=10)]: Done  30 tasks      | elapsed:   18.9s\n",
      "[Parallel(n_jobs=10)]: Done  41 tasks      | elapsed:   18.9s\n",
      "[Parallel(n_jobs=10)]: Done  52 tasks      | elapsed:   19.0s\n",
      "[Parallel(n_jobs=10)]: Batch computation too fast (0.1937s.) Setting batch_size=2.\n",
      "[Parallel(n_jobs=10)]: Done  65 tasks      | elapsed:   19.1s\n",
      "[Parallel(n_jobs=10)]: Batch computation too fast (0.1772s.) Setting batch_size=4.\n",
      "[Parallel(n_jobs=10)]: Done  85 tasks      | elapsed:   19.3s\n",
      "[Parallel(n_jobs=10)]: Done 119 tasks      | elapsed:   19.6s\n",
      "[Parallel(n_jobs=10)]: Done 179 tasks      | elapsed:   20.0s\n",
      "[Parallel(n_jobs=10)]: Done 247 tasks      | elapsed:   20.5s\n",
      "[Parallel(n_jobs=10)]: Done 384 out of 384 | elapsed:   21.5s finished\n"
     ]
    },
    {
     "name": "stdout",
     "output_type": "stream",
     "text": [
      "for one slice: 28.14\n",
      "0. slice saved\n",
      "(384, 600000)\n",
      "start the 0. slice\n",
      "load data into RAM ...\n",
      "(384, 600000)\n",
      "delet the memmap ...\n",
      "filter and detect spikes ...\n"
     ]
    },
    {
     "name": "stderr",
     "output_type": "stream",
     "text": [
      "[Parallel(n_jobs=10)]: Done   5 tasks      | elapsed:    9.6s\n",
      "[Parallel(n_jobs=10)]: Done  12 tasks      | elapsed:   18.9s\n",
      "[Parallel(n_jobs=10)]: Done  21 tasks      | elapsed:   19.0s\n",
      "[Parallel(n_jobs=10)]: Done  30 tasks      | elapsed:   19.0s\n",
      "[Parallel(n_jobs=10)]: Done  41 tasks      | elapsed:   19.1s\n",
      "[Parallel(n_jobs=10)]: Done  52 tasks      | elapsed:   19.2s\n",
      "[Parallel(n_jobs=10)]: Batch computation too fast (0.1904s.) Setting batch_size=2.\n",
      "[Parallel(n_jobs=10)]: Done  65 tasks      | elapsed:   19.3s\n",
      "[Parallel(n_jobs=10)]: Batch computation too fast (0.1722s.) Setting batch_size=4.\n",
      "[Parallel(n_jobs=10)]: Done  85 tasks      | elapsed:   19.4s\n",
      "[Parallel(n_jobs=10)]: Done 119 tasks      | elapsed:   19.7s\n",
      "[Parallel(n_jobs=10)]: Done 179 tasks      | elapsed:   20.2s\n",
      "[Parallel(n_jobs=10)]: Done 247 tasks      | elapsed:   20.6s\n",
      "[Parallel(n_jobs=10)]: Done 384 out of 384 | elapsed:   21.5s finished\n"
     ]
    },
    {
     "name": "stdout",
     "output_type": "stream",
     "text": [
      "for one slice: 28.25\n",
      "0. slice saved\n",
      "(384, 600000)\n",
      "start the 0. slice\n",
      "load data into RAM ...\n",
      "(384, 600000)\n",
      "delet the memmap ...\n",
      "filter and detect spikes ...\n"
     ]
    },
    {
     "name": "stderr",
     "output_type": "stream",
     "text": [
      "[Parallel(n_jobs=10)]: Done   5 tasks      | elapsed:    9.4s\n",
      "[Parallel(n_jobs=10)]: Done  12 tasks      | elapsed:   18.9s\n",
      "[Parallel(n_jobs=10)]: Done  21 tasks      | elapsed:   18.9s\n",
      "[Parallel(n_jobs=10)]: Done  30 tasks      | elapsed:   19.0s\n",
      "[Parallel(n_jobs=10)]: Done  41 tasks      | elapsed:   19.1s\n",
      "[Parallel(n_jobs=10)]: Done  52 tasks      | elapsed:   19.2s\n",
      "[Parallel(n_jobs=10)]: Batch computation too fast (0.1999s.) Setting batch_size=2.\n",
      "[Parallel(n_jobs=10)]: Done  65 tasks      | elapsed:   19.3s\n",
      "[Parallel(n_jobs=10)]: Batch computation too fast (0.1772s.) Setting batch_size=4.\n",
      "[Parallel(n_jobs=10)]: Done  85 tasks      | elapsed:   19.4s\n",
      "[Parallel(n_jobs=10)]: Done 119 tasks      | elapsed:   19.7s\n",
      "[Parallel(n_jobs=10)]: Done 179 tasks      | elapsed:   20.2s\n",
      "[Parallel(n_jobs=10)]: Done 247 tasks      | elapsed:   20.7s\n",
      "[Parallel(n_jobs=10)]: Done 384 out of 384 | elapsed:   21.7s finished\n"
     ]
    },
    {
     "name": "stdout",
     "output_type": "stream",
     "text": [
      "for one slice: 28.36\n",
      "0. slice saved\n",
      "(384, 600000)\n",
      "start the 0. slice\n",
      "load data into RAM ...\n",
      "(384, 600000)\n",
      "delet the memmap ...\n",
      "filter and detect spikes ...\n"
     ]
    },
    {
     "name": "stderr",
     "output_type": "stream",
     "text": [
      "[Parallel(n_jobs=10)]: Done   5 tasks      | elapsed:    9.4s\n",
      "[Parallel(n_jobs=10)]: Done  12 tasks      | elapsed:   18.7s\n",
      "[Parallel(n_jobs=10)]: Done  21 tasks      | elapsed:   18.8s\n",
      "[Parallel(n_jobs=10)]: Done  30 tasks      | elapsed:   18.8s\n",
      "[Parallel(n_jobs=10)]: Done  41 tasks      | elapsed:   18.9s\n",
      "[Parallel(n_jobs=10)]: Done  52 tasks      | elapsed:   19.0s\n",
      "[Parallel(n_jobs=10)]: Batch computation too fast (0.1918s.) Setting batch_size=2.\n",
      "[Parallel(n_jobs=10)]: Done  65 tasks      | elapsed:   19.1s\n",
      "[Parallel(n_jobs=10)]: Batch computation too fast (0.1742s.) Setting batch_size=4.\n",
      "[Parallel(n_jobs=10)]: Done  85 tasks      | elapsed:   19.3s\n",
      "[Parallel(n_jobs=10)]: Done 119 tasks      | elapsed:   19.5s\n",
      "[Parallel(n_jobs=10)]: Done 179 tasks      | elapsed:   20.0s\n",
      "[Parallel(n_jobs=10)]: Done 247 tasks      | elapsed:   20.4s\n",
      "[Parallel(n_jobs=10)]: Done 384 out of 384 | elapsed:   21.4s finished\n"
     ]
    },
    {
     "name": "stdout",
     "output_type": "stream",
     "text": [
      "for one slice: 28.04\n",
      "0. slice saved\n",
      "(384, 600000)\n",
      "start the 0. slice\n",
      "load data into RAM ...\n",
      "(384, 600000)\n",
      "delet the memmap ...\n",
      "filter and detect spikes ...\n"
     ]
    },
    {
     "name": "stderr",
     "output_type": "stream",
     "text": [
      "[Parallel(n_jobs=10)]: Done   5 tasks      | elapsed:    9.4s\n",
      "[Parallel(n_jobs=10)]: Done  12 tasks      | elapsed:   18.7s\n",
      "[Parallel(n_jobs=10)]: Done  21 tasks      | elapsed:   18.8s\n",
      "[Parallel(n_jobs=10)]: Done  30 tasks      | elapsed:   18.8s\n",
      "[Parallel(n_jobs=10)]: Done  41 tasks      | elapsed:   18.9s\n",
      "[Parallel(n_jobs=10)]: Done  52 tasks      | elapsed:   19.0s\n",
      "[Parallel(n_jobs=10)]: Batch computation too fast (0.1938s.) Setting batch_size=2.\n",
      "[Parallel(n_jobs=10)]: Done  65 tasks      | elapsed:   19.1s\n",
      "[Parallel(n_jobs=10)]: Batch computation too fast (0.1802s.) Setting batch_size=4.\n",
      "[Parallel(n_jobs=10)]: Done  85 tasks      | elapsed:   19.3s\n",
      "[Parallel(n_jobs=10)]: Done 119 tasks      | elapsed:   19.6s\n",
      "[Parallel(n_jobs=10)]: Done 179 tasks      | elapsed:   20.0s\n",
      "[Parallel(n_jobs=10)]: Done 247 tasks      | elapsed:   20.5s\n",
      "[Parallel(n_jobs=10)]: Done 384 out of 384 | elapsed:   21.5s finished\n"
     ]
    },
    {
     "name": "stdout",
     "output_type": "stream",
     "text": [
      "for one slice: 28.10\n",
      "0. slice saved\n",
      "(384, 600000)\n",
      "start the 0. slice\n",
      "load data into RAM ...\n",
      "(384, 600000)\n",
      "delet the memmap ...\n",
      "filter and detect spikes ...\n"
     ]
    },
    {
     "name": "stderr",
     "output_type": "stream",
     "text": [
      "[Parallel(n_jobs=10)]: Done   5 tasks      | elapsed:    9.5s\n",
      "[Parallel(n_jobs=10)]: Done  12 tasks      | elapsed:   18.7s\n",
      "[Parallel(n_jobs=10)]: Done  21 tasks      | elapsed:   18.8s\n",
      "[Parallel(n_jobs=10)]: Done  30 tasks      | elapsed:   18.9s\n",
      "[Parallel(n_jobs=10)]: Done  41 tasks      | elapsed:   18.9s\n",
      "[Parallel(n_jobs=10)]: Done  52 tasks      | elapsed:   19.0s\n",
      "[Parallel(n_jobs=10)]: Batch computation too fast (0.1947s.) Setting batch_size=2.\n",
      "[Parallel(n_jobs=10)]: Done  65 tasks      | elapsed:   19.1s\n",
      "[Parallel(n_jobs=10)]: Batch computation too fast (0.1812s.) Setting batch_size=4.\n",
      "[Parallel(n_jobs=10)]: Done  85 tasks      | elapsed:   19.3s\n",
      "[Parallel(n_jobs=10)]: Done 119 tasks      | elapsed:   19.6s\n",
      "[Parallel(n_jobs=10)]: Done 179 tasks      | elapsed:   20.0s\n",
      "[Parallel(n_jobs=10)]: Done 247 tasks      | elapsed:   20.5s\n",
      "[Parallel(n_jobs=10)]: Done 384 out of 384 | elapsed:   21.4s finished\n"
     ]
    },
    {
     "name": "stdout",
     "output_type": "stream",
     "text": [
      "for one slice: 28.14\n",
      "0. slice saved\n",
      "(384, 600000)\n",
      "start the 0. slice\n",
      "load data into RAM ...\n",
      "(384, 600000)\n",
      "delet the memmap ...\n",
      "filter and detect spikes ...\n"
     ]
    },
    {
     "name": "stderr",
     "output_type": "stream",
     "text": [
      "[Parallel(n_jobs=10)]: Done   5 tasks      | elapsed:    9.4s\n",
      "[Parallel(n_jobs=10)]: Done  12 tasks      | elapsed:   18.7s\n",
      "[Parallel(n_jobs=10)]: Done  21 tasks      | elapsed:   18.8s\n",
      "[Parallel(n_jobs=10)]: Done  30 tasks      | elapsed:   18.8s\n",
      "[Parallel(n_jobs=10)]: Done  41 tasks      | elapsed:   18.9s\n",
      "[Parallel(n_jobs=10)]: Done  52 tasks      | elapsed:   19.0s\n",
      "[Parallel(n_jobs=10)]: Batch computation too fast (0.1946s.) Setting batch_size=2.\n",
      "[Parallel(n_jobs=10)]: Done  65 tasks      | elapsed:   19.1s\n",
      "[Parallel(n_jobs=10)]: Batch computation too fast (0.1762s.) Setting batch_size=4.\n",
      "[Parallel(n_jobs=10)]: Done  85 tasks      | elapsed:   19.3s\n",
      "[Parallel(n_jobs=10)]: Done 119 tasks      | elapsed:   19.6s\n",
      "[Parallel(n_jobs=10)]: Done 179 tasks      | elapsed:   20.0s\n",
      "[Parallel(n_jobs=10)]: Done 247 tasks      | elapsed:   20.5s\n",
      "[Parallel(n_jobs=10)]: Done 384 out of 384 | elapsed:   21.4s finished\n"
     ]
    },
    {
     "name": "stdout",
     "output_type": "stream",
     "text": [
      "for one slice: 28.14\n",
      "0. slice saved\n",
      "(384, 600000)\n",
      "start the 0. slice\n",
      "load data into RAM ...\n",
      "(384, 600000)\n",
      "delet the memmap ...\n",
      "filter and detect spikes ...\n"
     ]
    },
    {
     "name": "stderr",
     "output_type": "stream",
     "text": [
      "[Parallel(n_jobs=10)]: Done   5 tasks      | elapsed:    9.5s\n",
      "[Parallel(n_jobs=10)]: Done  12 tasks      | elapsed:   18.8s\n",
      "[Parallel(n_jobs=10)]: Done  21 tasks      | elapsed:   18.8s\n",
      "[Parallel(n_jobs=10)]: Done  30 tasks      | elapsed:   18.9s\n",
      "[Parallel(n_jobs=10)]: Done  41 tasks      | elapsed:   19.0s\n",
      "[Parallel(n_jobs=10)]: Done  52 tasks      | elapsed:   19.1s\n",
      "[Parallel(n_jobs=10)]: Batch computation too fast (0.1965s.) Setting batch_size=2.\n",
      "[Parallel(n_jobs=10)]: Done  65 tasks      | elapsed:   19.2s\n",
      "[Parallel(n_jobs=10)]: Batch computation too fast (0.1752s.) Setting batch_size=4.\n",
      "[Parallel(n_jobs=10)]: Done  85 tasks      | elapsed:   19.3s\n",
      "[Parallel(n_jobs=10)]: Done 119 tasks      | elapsed:   19.6s\n",
      "[Parallel(n_jobs=10)]: Done 179 tasks      | elapsed:   20.1s\n",
      "[Parallel(n_jobs=10)]: Done 247 tasks      | elapsed:   20.5s\n",
      "[Parallel(n_jobs=10)]: Done 384 out of 384 | elapsed:   21.5s finished\n"
     ]
    },
    {
     "name": "stdout",
     "output_type": "stream",
     "text": [
      "for one slice: 28.13\n",
      "0. slice saved\n",
      "(384, 600000)\n",
      "start the 0. slice\n",
      "load data into RAM ...\n",
      "(384, 600000)\n",
      "delet the memmap ...\n",
      "filter and detect spikes ...\n"
     ]
    },
    {
     "name": "stderr",
     "output_type": "stream",
     "text": [
      "[Parallel(n_jobs=10)]: Done   5 tasks      | elapsed:    9.4s\n",
      "[Parallel(n_jobs=10)]: Done  12 tasks      | elapsed:   18.7s\n",
      "[Parallel(n_jobs=10)]: Done  21 tasks      | elapsed:   18.8s\n",
      "[Parallel(n_jobs=10)]: Done  30 tasks      | elapsed:   18.8s\n",
      "[Parallel(n_jobs=10)]: Done  41 tasks      | elapsed:   18.9s\n",
      "[Parallel(n_jobs=10)]: Done  52 tasks      | elapsed:   19.0s\n",
      "[Parallel(n_jobs=10)]: Batch computation too fast (0.1906s.) Setting batch_size=2.\n",
      "[Parallel(n_jobs=10)]: Done  65 tasks      | elapsed:   19.1s\n",
      "[Parallel(n_jobs=10)]: Batch computation too fast (0.1782s.) Setting batch_size=4.\n",
      "[Parallel(n_jobs=10)]: Done  85 tasks      | elapsed:   19.3s\n",
      "[Parallel(n_jobs=10)]: Done 119 tasks      | elapsed:   19.5s\n",
      "[Parallel(n_jobs=10)]: Done 179 tasks      | elapsed:   20.0s\n",
      "[Parallel(n_jobs=10)]: Done 247 tasks      | elapsed:   20.5s\n",
      "[Parallel(n_jobs=10)]: Done 384 out of 384 | elapsed:   21.4s finished\n"
     ]
    },
    {
     "name": "stdout",
     "output_type": "stream",
     "text": [
      "for one slice: 28.10\n",
      "0. slice saved\n",
      "(384, 600000)\n",
      "start the 0. slice\n",
      "load data into RAM ...\n",
      "(384, 600000)\n",
      "delet the memmap ...\n",
      "filter and detect spikes ...\n"
     ]
    },
    {
     "name": "stderr",
     "output_type": "stream",
     "text": [
      "[Parallel(n_jobs=10)]: Done   5 tasks      | elapsed:    9.5s\n",
      "[Parallel(n_jobs=10)]: Done  12 tasks      | elapsed:   18.8s\n",
      "[Parallel(n_jobs=10)]: Done  21 tasks      | elapsed:   18.8s\n",
      "[Parallel(n_jobs=10)]: Done  30 tasks      | elapsed:   18.9s\n",
      "[Parallel(n_jobs=10)]: Done  41 tasks      | elapsed:   19.0s\n",
      "[Parallel(n_jobs=10)]: Done  52 tasks      | elapsed:   19.1s\n",
      "[Parallel(n_jobs=10)]: Batch computation too fast (0.1906s.) Setting batch_size=2.\n",
      "[Parallel(n_jobs=10)]: Done  65 tasks      | elapsed:   19.2s\n",
      "[Parallel(n_jobs=10)]: Batch computation too fast (0.1882s.) Setting batch_size=4.\n",
      "[Parallel(n_jobs=10)]: Done  84 tasks      | elapsed:   19.3s\n",
      "[Parallel(n_jobs=10)]: Done 116 tasks      | elapsed:   19.6s\n",
      "[Parallel(n_jobs=10)]: Done 176 tasks      | elapsed:   20.0s\n",
      "[Parallel(n_jobs=10)]: Done 244 tasks      | elapsed:   20.5s\n",
      "[Parallel(n_jobs=10)]: Done 384 out of 384 | elapsed:   21.5s finished\n"
     ]
    },
    {
     "name": "stdout",
     "output_type": "stream",
     "text": [
      "for one slice: 28.13\n",
      "0. slice saved\n",
      "(384, 600000)\n",
      "start the 0. slice\n",
      "load data into RAM ...\n",
      "(384, 600000)\n",
      "delet the memmap ...\n",
      "filter and detect spikes ...\n"
     ]
    },
    {
     "name": "stderr",
     "output_type": "stream",
     "text": [
      "[Parallel(n_jobs=10)]: Done   5 tasks      | elapsed:    9.4s\n",
      "[Parallel(n_jobs=10)]: Done  12 tasks      | elapsed:   18.7s\n",
      "[Parallel(n_jobs=10)]: Done  21 tasks      | elapsed:   18.8s\n",
      "[Parallel(n_jobs=10)]: Done  30 tasks      | elapsed:   18.8s\n",
      "[Parallel(n_jobs=10)]: Done  41 tasks      | elapsed:   18.9s\n",
      "[Parallel(n_jobs=10)]: Done  52 tasks      | elapsed:   19.0s\n",
      "[Parallel(n_jobs=10)]: Batch computation too fast (0.1897s.) Setting batch_size=2.\n",
      "[Parallel(n_jobs=10)]: Done  65 tasks      | elapsed:   19.1s\n",
      "[Parallel(n_jobs=10)]: Batch computation too fast (0.1722s.) Setting batch_size=4.\n",
      "[Parallel(n_jobs=10)]: Done  85 tasks      | elapsed:   19.3s\n",
      "[Parallel(n_jobs=10)]: Done 119 tasks      | elapsed:   19.5s\n",
      "[Parallel(n_jobs=10)]: Done 179 tasks      | elapsed:   19.9s\n",
      "[Parallel(n_jobs=10)]: Done 247 tasks      | elapsed:   20.4s\n",
      "[Parallel(n_jobs=10)]: Done 384 out of 384 | elapsed:   21.3s finished\n"
     ]
    },
    {
     "name": "stdout",
     "output_type": "stream",
     "text": [
      "for one slice: 27.92\n",
      "0. slice saved\n",
      "(384, 600000)\n",
      "start the 0. slice\n",
      "load data into RAM ...\n",
      "(384, 600000)\n",
      "delet the memmap ...\n",
      "filter and detect spikes ...\n"
     ]
    },
    {
     "name": "stderr",
     "output_type": "stream",
     "text": [
      "[Parallel(n_jobs=10)]: Done   5 tasks      | elapsed:    9.4s\n",
      "[Parallel(n_jobs=10)]: Done  12 tasks      | elapsed:   18.9s\n",
      "[Parallel(n_jobs=10)]: Done  21 tasks      | elapsed:   18.9s\n",
      "[Parallel(n_jobs=10)]: Done  30 tasks      | elapsed:   19.0s\n",
      "[Parallel(n_jobs=10)]: Done  41 tasks      | elapsed:   19.1s\n",
      "[Parallel(n_jobs=10)]: Done  52 tasks      | elapsed:   19.2s\n",
      "[Parallel(n_jobs=10)]: Batch computation too fast (0.1989s.) Setting batch_size=2.\n",
      "[Parallel(n_jobs=10)]: Done  65 tasks      | elapsed:   19.3s\n",
      "[Parallel(n_jobs=10)]: Batch computation too fast (0.1762s.) Setting batch_size=4.\n",
      "[Parallel(n_jobs=10)]: Done  85 tasks      | elapsed:   19.4s\n",
      "[Parallel(n_jobs=10)]: Done 119 tasks      | elapsed:   19.7s\n",
      "[Parallel(n_jobs=10)]: Done 179 tasks      | elapsed:   20.2s\n",
      "[Parallel(n_jobs=10)]: Done 247 tasks      | elapsed:   20.6s\n",
      "[Parallel(n_jobs=10)]: Done 384 out of 384 | elapsed:   21.6s finished\n"
     ]
    },
    {
     "name": "stdout",
     "output_type": "stream",
     "text": [
      "for one slice: 28.21\n",
      "0. slice saved\n",
      "(384, 600000)\n",
      "start the 0. slice\n",
      "load data into RAM ...\n",
      "(384, 600000)\n",
      "delet the memmap ...\n",
      "filter and detect spikes ...\n"
     ]
    },
    {
     "name": "stderr",
     "output_type": "stream",
     "text": [
      "[Parallel(n_jobs=10)]: Done   5 tasks      | elapsed:    9.4s\n",
      "[Parallel(n_jobs=10)]: Done  12 tasks      | elapsed:   19.2s\n",
      "[Parallel(n_jobs=10)]: Done  21 tasks      | elapsed:   19.2s\n",
      "[Parallel(n_jobs=10)]: Done  30 tasks      | elapsed:   19.3s\n",
      "[Parallel(n_jobs=10)]: Done  41 tasks      | elapsed:   19.4s\n",
      "[Parallel(n_jobs=10)]: Done  52 tasks      | elapsed:   19.4s\n",
      "[Parallel(n_jobs=10)]: Batch computation too fast (0.1909s.) Setting batch_size=2.\n",
      "[Parallel(n_jobs=10)]: Done  65 tasks      | elapsed:   19.5s\n",
      "[Parallel(n_jobs=10)]: Batch computation too fast (0.1772s.) Setting batch_size=4.\n",
      "[Parallel(n_jobs=10)]: Done  85 tasks      | elapsed:   19.7s\n",
      "[Parallel(n_jobs=10)]: Done 119 tasks      | elapsed:   20.0s\n",
      "[Parallel(n_jobs=10)]: Done 179 tasks      | elapsed:   20.4s\n",
      "[Parallel(n_jobs=10)]: Done 247 tasks      | elapsed:   20.9s\n",
      "[Parallel(n_jobs=10)]: Done 384 out of 384 | elapsed:   21.8s finished\n"
     ]
    },
    {
     "name": "stdout",
     "output_type": "stream",
     "text": [
      "for one slice: 28.44\n",
      "0. slice saved\n",
      "(384, 600000)\n",
      "start the 0. slice\n",
      "load data into RAM ...\n",
      "(384, 600000)\n",
      "delet the memmap ...\n",
      "filter and detect spikes ...\n"
     ]
    },
    {
     "name": "stderr",
     "output_type": "stream",
     "text": [
      "[Parallel(n_jobs=10)]: Done   5 tasks      | elapsed:    9.6s\n",
      "[Parallel(n_jobs=10)]: Done  12 tasks      | elapsed:   19.0s\n",
      "[Parallel(n_jobs=10)]: Done  21 tasks      | elapsed:   19.1s\n",
      "[Parallel(n_jobs=10)]: Done  30 tasks      | elapsed:   19.1s\n",
      "[Parallel(n_jobs=10)]: Done  41 tasks      | elapsed:   19.2s\n",
      "[Parallel(n_jobs=10)]: Done  52 tasks      | elapsed:   19.3s\n",
      "[Parallel(n_jobs=10)]: Batch computation too fast (0.1901s.) Setting batch_size=2.\n",
      "[Parallel(n_jobs=10)]: Done  65 tasks      | elapsed:   19.4s\n",
      "[Parallel(n_jobs=10)]: Batch computation too fast (0.1722s.) Setting batch_size=4.\n",
      "[Parallel(n_jobs=10)]: Done  85 tasks      | elapsed:   19.6s\n",
      "[Parallel(n_jobs=10)]: Done 119 tasks      | elapsed:   19.8s\n",
      "[Parallel(n_jobs=10)]: Done 179 tasks      | elapsed:   20.3s\n",
      "[Parallel(n_jobs=10)]: Done 247 tasks      | elapsed:   20.7s\n",
      "[Parallel(n_jobs=10)]: Done 384 out of 384 | elapsed:   21.6s finished\n"
     ]
    },
    {
     "name": "stdout",
     "output_type": "stream",
     "text": [
      "for one slice: 28.33\n",
      "0. slice saved\n",
      "(384, 600000)\n",
      "start the 0. slice\n",
      "load data into RAM ...\n",
      "(384, 600000)\n",
      "delet the memmap ...\n",
      "filter and detect spikes ...\n"
     ]
    },
    {
     "name": "stderr",
     "output_type": "stream",
     "text": [
      "[Parallel(n_jobs=10)]: Done   5 tasks      | elapsed:    9.5s\n",
      "[Parallel(n_jobs=10)]: Done  12 tasks      | elapsed:   18.7s\n",
      "[Parallel(n_jobs=10)]: Done  21 tasks      | elapsed:   18.8s\n",
      "[Parallel(n_jobs=10)]: Done  30 tasks      | elapsed:   18.8s\n",
      "[Parallel(n_jobs=10)]: Done  41 tasks      | elapsed:   18.9s\n",
      "[Parallel(n_jobs=10)]: Done  52 tasks      | elapsed:   19.0s\n",
      "[Parallel(n_jobs=10)]: Batch computation too fast (0.1933s.) Setting batch_size=2.\n",
      "[Parallel(n_jobs=10)]: Done  65 tasks      | elapsed:   19.1s\n",
      "[Parallel(n_jobs=10)]: Batch computation too fast (0.1792s.) Setting batch_size=4.\n",
      "[Parallel(n_jobs=10)]: Done  85 tasks      | elapsed:   19.3s\n",
      "[Parallel(n_jobs=10)]: Done 119 tasks      | elapsed:   19.6s\n",
      "[Parallel(n_jobs=10)]: Done 179 tasks      | elapsed:   20.0s\n",
      "[Parallel(n_jobs=10)]: Done 247 tasks      | elapsed:   20.5s\n",
      "[Parallel(n_jobs=10)]: Done 384 out of 384 | elapsed:   21.4s finished\n"
     ]
    },
    {
     "name": "stdout",
     "output_type": "stream",
     "text": [
      "for one slice: 28.08\n",
      "0. slice saved\n",
      "(384, 600000)\n",
      "start the 0. slice\n",
      "load data into RAM ...\n",
      "(384, 600000)\n",
      "delet the memmap ...\n",
      "filter and detect spikes ...\n"
     ]
    },
    {
     "name": "stderr",
     "output_type": "stream",
     "text": [
      "[Parallel(n_jobs=10)]: Done   5 tasks      | elapsed:    9.6s\n",
      "[Parallel(n_jobs=10)]: Done  12 tasks      | elapsed:   19.0s\n",
      "[Parallel(n_jobs=10)]: Done  21 tasks      | elapsed:   19.1s\n",
      "[Parallel(n_jobs=10)]: Done  30 tasks      | elapsed:   19.1s\n",
      "[Parallel(n_jobs=10)]: Done  41 tasks      | elapsed:   19.2s\n",
      "[Parallel(n_jobs=10)]: Done  52 tasks      | elapsed:   19.3s\n",
      "[Parallel(n_jobs=10)]: Batch computation too fast (0.1965s.) Setting batch_size=2.\n",
      "[Parallel(n_jobs=10)]: Done  65 tasks      | elapsed:   19.4s\n",
      "[Parallel(n_jobs=10)]: Batch computation too fast (0.1812s.) Setting batch_size=4.\n",
      "[Parallel(n_jobs=10)]: Done  85 tasks      | elapsed:   19.6s\n",
      "[Parallel(n_jobs=10)]: Done 119 tasks      | elapsed:   19.8s\n",
      "[Parallel(n_jobs=10)]: Done 179 tasks      | elapsed:   20.3s\n",
      "[Parallel(n_jobs=10)]: Done 247 tasks      | elapsed:   20.8s\n",
      "[Parallel(n_jobs=10)]: Done 384 out of 384 | elapsed:   21.7s finished\n"
     ]
    },
    {
     "name": "stdout",
     "output_type": "stream",
     "text": [
      "for one slice: 28.33\n",
      "0. slice saved\n",
      "done for the whole recording\n",
      "create a memmap\n",
      "(384, 600000)\n",
      "start the 0. slice\n",
      "load data into RAM ...\n",
      "(384, 600000)\n",
      "delet the memmap ...\n",
      "filter and detect spikes ...\n"
     ]
    },
    {
     "name": "stderr",
     "output_type": "stream",
     "text": [
      "[Parallel(n_jobs=10)]: Done   5 tasks      | elapsed:    9.4s\n",
      "[Parallel(n_jobs=10)]: Done  12 tasks      | elapsed:   18.7s\n",
      "[Parallel(n_jobs=10)]: Done  21 tasks      | elapsed:   18.8s\n",
      "[Parallel(n_jobs=10)]: Done  30 tasks      | elapsed:   18.9s\n",
      "[Parallel(n_jobs=10)]: Done  41 tasks      | elapsed:   18.9s\n",
      "[Parallel(n_jobs=10)]: Done  52 tasks      | elapsed:   19.0s\n",
      "[Parallel(n_jobs=10)]: Batch computation too fast (0.1925s.) Setting batch_size=2.\n",
      "[Parallel(n_jobs=10)]: Done  65 tasks      | elapsed:   19.1s\n",
      "[Parallel(n_jobs=10)]: Batch computation too fast (0.1732s.) Setting batch_size=4.\n",
      "[Parallel(n_jobs=10)]: Done  85 tasks      | elapsed:   19.3s\n",
      "[Parallel(n_jobs=10)]: Done 119 tasks      | elapsed:   19.6s\n",
      "[Parallel(n_jobs=10)]: Done 179 tasks      | elapsed:   20.0s\n",
      "[Parallel(n_jobs=10)]: Done 247 tasks      | elapsed:   20.4s\n",
      "[Parallel(n_jobs=10)]: Done 384 out of 384 | elapsed:   21.4s finished\n"
     ]
    },
    {
     "name": "stdout",
     "output_type": "stream",
     "text": [
      "for one slice: 28.04\n",
      "0. slice saved\n",
      "(384, 600000)\n",
      "start the 0. slice\n",
      "load data into RAM ...\n",
      "(384, 600000)\n",
      "delet the memmap ...\n",
      "filter and detect spikes ...\n"
     ]
    },
    {
     "name": "stderr",
     "output_type": "stream",
     "text": [
      "[Parallel(n_jobs=10)]: Done   5 tasks      | elapsed:    9.5s\n",
      "[Parallel(n_jobs=10)]: Done  12 tasks      | elapsed:   18.8s\n",
      "[Parallel(n_jobs=10)]: Done  21 tasks      | elapsed:   18.9s\n",
      "[Parallel(n_jobs=10)]: Done  30 tasks      | elapsed:   18.9s\n",
      "[Parallel(n_jobs=10)]: Done  41 tasks      | elapsed:   19.0s\n",
      "[Parallel(n_jobs=10)]: Done  52 tasks      | elapsed:   19.1s\n",
      "[Parallel(n_jobs=10)]: Batch computation too fast (0.1983s.) Setting batch_size=2.\n",
      "[Parallel(n_jobs=10)]: Done  65 tasks      | elapsed:   19.2s\n",
      "[Parallel(n_jobs=10)]: Batch computation too fast (0.1842s.) Setting batch_size=4.\n",
      "[Parallel(n_jobs=10)]: Done  85 tasks      | elapsed:   19.4s\n",
      "[Parallel(n_jobs=10)]: Done 119 tasks      | elapsed:   19.7s\n",
      "[Parallel(n_jobs=10)]: Done 179 tasks      | elapsed:   20.1s\n",
      "[Parallel(n_jobs=10)]: Done 247 tasks      | elapsed:   20.6s\n",
      "[Parallel(n_jobs=10)]: Done 384 out of 384 | elapsed:   21.6s finished\n"
     ]
    },
    {
     "name": "stdout",
     "output_type": "stream",
     "text": [
      "for one slice: 28.27\n",
      "0. slice saved\n",
      "(384, 600000)\n",
      "start the 0. slice\n",
      "load data into RAM ...\n",
      "(384, 600000)\n",
      "delet the memmap ...\n",
      "filter and detect spikes ...\n"
     ]
    },
    {
     "name": "stderr",
     "output_type": "stream",
     "text": [
      "[Parallel(n_jobs=10)]: Done   5 tasks      | elapsed:    9.5s\n",
      "[Parallel(n_jobs=10)]: Done  12 tasks      | elapsed:   18.8s\n",
      "[Parallel(n_jobs=10)]: Done  21 tasks      | elapsed:   18.9s\n",
      "[Parallel(n_jobs=10)]: Done  30 tasks      | elapsed:   19.0s\n",
      "[Parallel(n_jobs=10)]: Done  41 tasks      | elapsed:   19.1s\n",
      "[Parallel(n_jobs=10)]: Done  52 tasks      | elapsed:   19.1s\n",
      "[Parallel(n_jobs=10)]: Batch computation too fast (0.1957s.) Setting batch_size=2.\n",
      "[Parallel(n_jobs=10)]: Done  65 tasks      | elapsed:   19.2s\n",
      "[Parallel(n_jobs=10)]: Batch computation too fast (0.1782s.) Setting batch_size=4.\n",
      "[Parallel(n_jobs=10)]: Done  85 tasks      | elapsed:   19.4s\n",
      "[Parallel(n_jobs=10)]: Done 119 tasks      | elapsed:   19.7s\n",
      "[Parallel(n_jobs=10)]: Done 179 tasks      | elapsed:   20.1s\n",
      "[Parallel(n_jobs=10)]: Done 247 tasks      | elapsed:   20.6s\n",
      "[Parallel(n_jobs=10)]: Done 384 out of 384 | elapsed:   21.6s finished\n"
     ]
    },
    {
     "name": "stdout",
     "output_type": "stream",
     "text": [
      "for one slice: 28.27\n",
      "0. slice saved\n",
      "(384, 600000)\n",
      "start the 0. slice\n",
      "load data into RAM ...\n",
      "(384, 600000)\n",
      "delet the memmap ...\n",
      "filter and detect spikes ...\n"
     ]
    },
    {
     "name": "stderr",
     "output_type": "stream",
     "text": [
      "[Parallel(n_jobs=10)]: Done   5 tasks      | elapsed:    9.5s\n",
      "[Parallel(n_jobs=10)]: Done  12 tasks      | elapsed:   18.8s\n",
      "[Parallel(n_jobs=10)]: Done  21 tasks      | elapsed:   18.9s\n",
      "[Parallel(n_jobs=10)]: Done  30 tasks      | elapsed:   19.0s\n",
      "[Parallel(n_jobs=10)]: Done  41 tasks      | elapsed:   19.0s\n",
      "[Parallel(n_jobs=10)]: Done  52 tasks      | elapsed:   19.1s\n",
      "[Parallel(n_jobs=10)]: Batch computation too fast (0.1955s.) Setting batch_size=2.\n",
      "[Parallel(n_jobs=10)]: Done  65 tasks      | elapsed:   19.2s\n",
      "[Parallel(n_jobs=10)]: Batch computation too fast (0.1812s.) Setting batch_size=4.\n",
      "[Parallel(n_jobs=10)]: Done  85 tasks      | elapsed:   19.4s\n",
      "[Parallel(n_jobs=10)]: Done 119 tasks      | elapsed:   19.7s\n",
      "[Parallel(n_jobs=10)]: Done 179 tasks      | elapsed:   20.1s\n",
      "[Parallel(n_jobs=10)]: Done 247 tasks      | elapsed:   20.6s\n",
      "[Parallel(n_jobs=10)]: Done 384 out of 384 | elapsed:   21.5s finished\n"
     ]
    },
    {
     "name": "stdout",
     "output_type": "stream",
     "text": [
      "for one slice: 28.25\n",
      "0. slice saved\n",
      "(384, 600000)\n",
      "start the 0. slice\n",
      "load data into RAM ...\n",
      "(384, 600000)\n",
      "delet the memmap ...\n",
      "filter and detect spikes ...\n"
     ]
    },
    {
     "name": "stderr",
     "output_type": "stream",
     "text": [
      "[Parallel(n_jobs=10)]: Done   5 tasks      | elapsed:    9.5s\n",
      "[Parallel(n_jobs=10)]: Done  12 tasks      | elapsed:   18.8s\n",
      "[Parallel(n_jobs=10)]: Done  21 tasks      | elapsed:   18.9s\n",
      "[Parallel(n_jobs=10)]: Done  30 tasks      | elapsed:   19.0s\n",
      "[Parallel(n_jobs=10)]: Done  41 tasks      | elapsed:   19.0s\n",
      "[Parallel(n_jobs=10)]: Done  52 tasks      | elapsed:   19.1s\n",
      "[Parallel(n_jobs=10)]: Batch computation too fast (0.1881s.) Setting batch_size=2.\n",
      "[Parallel(n_jobs=10)]: Done  65 tasks      | elapsed:   19.2s\n",
      "[Parallel(n_jobs=10)]: Batch computation too fast (0.1742s.) Setting batch_size=4.\n",
      "[Parallel(n_jobs=10)]: Done  85 tasks      | elapsed:   19.4s\n",
      "[Parallel(n_jobs=10)]: Done 119 tasks      | elapsed:   19.7s\n",
      "[Parallel(n_jobs=10)]: Done 179 tasks      | elapsed:   20.1s\n",
      "[Parallel(n_jobs=10)]: Done 247 tasks      | elapsed:   20.6s\n",
      "[Parallel(n_jobs=10)]: Done 384 out of 384 | elapsed:   21.5s finished\n"
     ]
    },
    {
     "name": "stdout",
     "output_type": "stream",
     "text": [
      "for one slice: 28.13\n",
      "0. slice saved\n",
      "(384, 600000)\n",
      "start the 0. slice\n",
      "load data into RAM ...\n",
      "(384, 600000)\n",
      "delet the memmap ...\n",
      "filter and detect spikes ...\n"
     ]
    },
    {
     "name": "stderr",
     "output_type": "stream",
     "text": [
      "[Parallel(n_jobs=10)]: Done   5 tasks      | elapsed:    9.5s\n",
      "[Parallel(n_jobs=10)]: Done  12 tasks      | elapsed:   18.9s\n",
      "[Parallel(n_jobs=10)]: Done  21 tasks      | elapsed:   18.9s\n",
      "[Parallel(n_jobs=10)]: Done  30 tasks      | elapsed:   19.0s\n",
      "[Parallel(n_jobs=10)]: Done  41 tasks      | elapsed:   19.1s\n",
      "[Parallel(n_jobs=10)]: Done  52 tasks      | elapsed:   19.1s\n",
      "[Parallel(n_jobs=10)]: Batch computation too fast (0.1917s.) Setting batch_size=2.\n",
      "[Parallel(n_jobs=10)]: Done  65 tasks      | elapsed:   19.2s\n",
      "[Parallel(n_jobs=10)]: Batch computation too fast (0.1772s.) Setting batch_size=4.\n",
      "[Parallel(n_jobs=10)]: Done  85 tasks      | elapsed:   19.4s\n",
      "[Parallel(n_jobs=10)]: Done 119 tasks      | elapsed:   19.7s\n",
      "[Parallel(n_jobs=10)]: Done 179 tasks      | elapsed:   20.1s\n",
      "[Parallel(n_jobs=10)]: Done 247 tasks      | elapsed:   20.6s\n",
      "[Parallel(n_jobs=10)]: Done 384 out of 384 | elapsed:   21.5s finished\n"
     ]
    },
    {
     "name": "stdout",
     "output_type": "stream",
     "text": [
      "for one slice: 28.11\n",
      "0. slice saved\n",
      "(384, 600000)\n",
      "start the 0. slice\n",
      "load data into RAM ...\n",
      "(384, 600000)\n",
      "delet the memmap ...\n",
      "filter and detect spikes ...\n"
     ]
    },
    {
     "name": "stderr",
     "output_type": "stream",
     "text": [
      "[Parallel(n_jobs=10)]: Done   5 tasks      | elapsed:    9.5s\n",
      "[Parallel(n_jobs=10)]: Done  12 tasks      | elapsed:   18.8s\n",
      "[Parallel(n_jobs=10)]: Done  21 tasks      | elapsed:   18.8s\n",
      "[Parallel(n_jobs=10)]: Done  30 tasks      | elapsed:   18.9s\n",
      "[Parallel(n_jobs=10)]: Done  41 tasks      | elapsed:   19.0s\n",
      "[Parallel(n_jobs=10)]: Done  52 tasks      | elapsed:   19.1s\n",
      "[Parallel(n_jobs=10)]: Batch computation too fast (0.1951s.) Setting batch_size=2.\n",
      "[Parallel(n_jobs=10)]: Done  65 tasks      | elapsed:   19.2s\n",
      "[Parallel(n_jobs=10)]: Batch computation too fast (0.1792s.) Setting batch_size=4.\n",
      "[Parallel(n_jobs=10)]: Done  85 tasks      | elapsed:   19.3s\n",
      "[Parallel(n_jobs=10)]: Done 119 tasks      | elapsed:   19.6s\n",
      "[Parallel(n_jobs=10)]: Done 179 tasks      | elapsed:   20.1s\n",
      "[Parallel(n_jobs=10)]: Done 247 tasks      | elapsed:   20.6s\n",
      "[Parallel(n_jobs=10)]: Done 384 out of 384 | elapsed:   21.5s finished\n"
     ]
    },
    {
     "name": "stdout",
     "output_type": "stream",
     "text": [
      "for one slice: 28.24\n",
      "0. slice saved\n",
      "(384, 600000)\n",
      "start the 0. slice\n",
      "load data into RAM ...\n",
      "(384, 600000)\n",
      "delet the memmap ...\n",
      "filter and detect spikes ...\n"
     ]
    },
    {
     "name": "stderr",
     "output_type": "stream",
     "text": [
      "[Parallel(n_jobs=10)]: Done   5 tasks      | elapsed:    9.5s\n",
      "[Parallel(n_jobs=10)]: Done  12 tasks      | elapsed:   18.8s\n",
      "[Parallel(n_jobs=10)]: Done  21 tasks      | elapsed:   18.8s\n",
      "[Parallel(n_jobs=10)]: Done  30 tasks      | elapsed:   18.9s\n",
      "[Parallel(n_jobs=10)]: Done  41 tasks      | elapsed:   19.0s\n",
      "[Parallel(n_jobs=10)]: Done  52 tasks      | elapsed:   19.0s\n",
      "[Parallel(n_jobs=10)]: Batch computation too fast (0.1892s.) Setting batch_size=2.\n",
      "[Parallel(n_jobs=10)]: Done  65 tasks      | elapsed:   19.1s\n",
      "[Parallel(n_jobs=10)]: Batch computation too fast (0.1732s.) Setting batch_size=4.\n",
      "[Parallel(n_jobs=10)]: Done  85 tasks      | elapsed:   19.3s\n",
      "[Parallel(n_jobs=10)]: Done 119 tasks      | elapsed:   19.6s\n",
      "[Parallel(n_jobs=10)]: Done 179 tasks      | elapsed:   20.0s\n",
      "[Parallel(n_jobs=10)]: Done 247 tasks      | elapsed:   20.4s\n",
      "[Parallel(n_jobs=10)]: Done 384 out of 384 | elapsed:   21.3s finished\n"
     ]
    },
    {
     "name": "stdout",
     "output_type": "stream",
     "text": [
      "for one slice: 28.07\n",
      "0. slice saved\n",
      "(384, 600000)\n",
      "start the 0. slice\n",
      "load data into RAM ...\n",
      "(384, 600000)\n",
      "delet the memmap ...\n",
      "filter and detect spikes ...\n"
     ]
    },
    {
     "name": "stderr",
     "output_type": "stream",
     "text": [
      "[Parallel(n_jobs=10)]: Done   5 tasks      | elapsed:    9.5s\n",
      "[Parallel(n_jobs=10)]: Done  12 tasks      | elapsed:   18.8s\n",
      "[Parallel(n_jobs=10)]: Done  21 tasks      | elapsed:   18.9s\n",
      "[Parallel(n_jobs=10)]: Done  30 tasks      | elapsed:   19.0s\n",
      "[Parallel(n_jobs=10)]: Done  41 tasks      | elapsed:   19.1s\n",
      "[Parallel(n_jobs=10)]: Done  52 tasks      | elapsed:   19.2s\n",
      "[Parallel(n_jobs=10)]: Batch computation too fast (0.1976s.) Setting batch_size=2.\n",
      "[Parallel(n_jobs=10)]: Done  65 tasks      | elapsed:   19.3s\n",
      "[Parallel(n_jobs=10)]: Batch computation too fast (0.1812s.) Setting batch_size=4.\n",
      "[Parallel(n_jobs=10)]: Done  83 tasks      | elapsed:   19.4s\n",
      "[Parallel(n_jobs=10)]: Done 113 tasks      | elapsed:   19.6s\n",
      "[Parallel(n_jobs=10)]: Done 173 tasks      | elapsed:   20.1s\n",
      "[Parallel(n_jobs=10)]: Done 241 tasks      | elapsed:   20.6s\n",
      "[Parallel(n_jobs=10)]: Done 309 tasks      | elapsed:   21.1s\n",
      "[Parallel(n_jobs=10)]: Done 365 out of 384 | elapsed:   21.5s remaining:    1.0s\n",
      "[Parallel(n_jobs=10)]: Done 384 out of 384 | elapsed:   21.6s finished\n"
     ]
    },
    {
     "name": "stdout",
     "output_type": "stream",
     "text": [
      "for one slice: 28.25\n",
      "0. slice saved\n",
      "(384, 600000)\n",
      "start the 0. slice\n",
      "load data into RAM ...\n",
      "(384, 600000)\n",
      "delet the memmap ...\n",
      "filter and detect spikes ...\n"
     ]
    },
    {
     "name": "stderr",
     "output_type": "stream",
     "text": [
      "[Parallel(n_jobs=10)]: Done   5 tasks      | elapsed:    9.5s\n",
      "[Parallel(n_jobs=10)]: Done  12 tasks      | elapsed:   18.9s\n",
      "[Parallel(n_jobs=10)]: Done  21 tasks      | elapsed:   18.9s\n",
      "[Parallel(n_jobs=10)]: Done  30 tasks      | elapsed:   19.0s\n",
      "[Parallel(n_jobs=10)]: Done  41 tasks      | elapsed:   19.1s\n",
      "[Parallel(n_jobs=10)]: Done  52 tasks      | elapsed:   19.2s\n",
      "[Parallel(n_jobs=10)]: Batch computation too fast (0.1963s.) Setting batch_size=2.\n",
      "[Parallel(n_jobs=10)]: Done  65 tasks      | elapsed:   19.2s\n",
      "[Parallel(n_jobs=10)]: Batch computation too fast (0.1782s.) Setting batch_size=4.\n",
      "[Parallel(n_jobs=10)]: Done  85 tasks      | elapsed:   19.4s\n",
      "[Parallel(n_jobs=10)]: Done 119 tasks      | elapsed:   19.7s\n",
      "[Parallel(n_jobs=10)]: Done 179 tasks      | elapsed:   20.2s\n",
      "[Parallel(n_jobs=10)]: Done 247 tasks      | elapsed:   20.6s\n",
      "[Parallel(n_jobs=10)]: Done 384 out of 384 | elapsed:   21.6s finished\n"
     ]
    },
    {
     "name": "stdout",
     "output_type": "stream",
     "text": [
      "for one slice: 28.25\n",
      "0. slice saved\n",
      "(384, 600000)\n",
      "start the 0. slice\n",
      "load data into RAM ...\n",
      "(384, 600000)\n",
      "delet the memmap ...\n",
      "filter and detect spikes ...\n"
     ]
    },
    {
     "name": "stderr",
     "output_type": "stream",
     "text": [
      "[Parallel(n_jobs=10)]: Done   5 tasks      | elapsed:    9.5s\n",
      "[Parallel(n_jobs=10)]: Done  12 tasks      | elapsed:   18.9s\n",
      "[Parallel(n_jobs=10)]: Done  21 tasks      | elapsed:   19.0s\n",
      "[Parallel(n_jobs=10)]: Done  30 tasks      | elapsed:   19.0s\n",
      "[Parallel(n_jobs=10)]: Done  41 tasks      | elapsed:   19.1s\n",
      "[Parallel(n_jobs=10)]: Done  52 tasks      | elapsed:   19.2s\n",
      "[Parallel(n_jobs=10)]: Batch computation too fast (0.1971s.) Setting batch_size=2.\n",
      "[Parallel(n_jobs=10)]: Done  65 tasks      | elapsed:   19.3s\n",
      "[Parallel(n_jobs=10)]: Batch computation too fast (0.1792s.) Setting batch_size=4.\n",
      "[Parallel(n_jobs=10)]: Done  85 tasks      | elapsed:   19.5s\n",
      "[Parallel(n_jobs=10)]: Done 119 tasks      | elapsed:   19.8s\n",
      "[Parallel(n_jobs=10)]: Done 179 tasks      | elapsed:   20.2s\n",
      "[Parallel(n_jobs=10)]: Done 247 tasks      | elapsed:   20.7s\n",
      "[Parallel(n_jobs=10)]: Done 384 out of 384 | elapsed:   21.7s finished\n"
     ]
    },
    {
     "name": "stdout",
     "output_type": "stream",
     "text": [
      "for one slice: 28.41\n",
      "0. slice saved\n",
      "(384, 600000)\n",
      "start the 0. slice\n",
      "load data into RAM ...\n",
      "(384, 600000)\n",
      "delet the memmap ...\n",
      "filter and detect spikes ...\n"
     ]
    },
    {
     "name": "stderr",
     "output_type": "stream",
     "text": [
      "[Parallel(n_jobs=10)]: Done   5 tasks      | elapsed:    9.7s\n",
      "[Parallel(n_jobs=10)]: Done  12 tasks      | elapsed:   19.1s\n",
      "[Parallel(n_jobs=10)]: Done  21 tasks      | elapsed:   19.1s\n",
      "[Parallel(n_jobs=10)]: Done  30 tasks      | elapsed:   19.2s\n",
      "[Parallel(n_jobs=10)]: Done  41 tasks      | elapsed:   19.3s\n",
      "[Parallel(n_jobs=10)]: Done  52 tasks      | elapsed:   19.4s\n",
      "[Parallel(n_jobs=10)]: Batch computation too fast (0.1941s.) Setting batch_size=2.\n",
      "[Parallel(n_jobs=10)]: Done  65 tasks      | elapsed:   19.4s\n",
      "[Parallel(n_jobs=10)]: Batch computation too fast (0.1762s.) Setting batch_size=4.\n",
      "[Parallel(n_jobs=10)]: Done  85 tasks      | elapsed:   19.6s\n",
      "[Parallel(n_jobs=10)]: Done 119 tasks      | elapsed:   19.9s\n",
      "[Parallel(n_jobs=10)]: Done 179 tasks      | elapsed:   20.3s\n",
      "[Parallel(n_jobs=10)]: Done 247 tasks      | elapsed:   20.8s\n",
      "[Parallel(n_jobs=10)]: Done 384 out of 384 | elapsed:   21.7s finished\n"
     ]
    },
    {
     "name": "stdout",
     "output_type": "stream",
     "text": [
      "for one slice: 28.51\n",
      "0. slice saved\n",
      "(384, 600000)\n",
      "start the 0. slice\n",
      "load data into RAM ...\n",
      "(384, 600000)\n",
      "delet the memmap ...\n",
      "filter and detect spikes ...\n"
     ]
    },
    {
     "name": "stderr",
     "output_type": "stream",
     "text": [
      "[Parallel(n_jobs=10)]: Done   5 tasks      | elapsed:    9.5s\n",
      "[Parallel(n_jobs=10)]: Done  12 tasks      | elapsed:   18.9s\n",
      "[Parallel(n_jobs=10)]: Done  21 tasks      | elapsed:   18.9s\n",
      "[Parallel(n_jobs=10)]: Done  30 tasks      | elapsed:   19.0s\n",
      "[Parallel(n_jobs=10)]: Done  41 tasks      | elapsed:   19.1s\n",
      "[Parallel(n_jobs=10)]: Done  52 tasks      | elapsed:   19.2s\n",
      "[Parallel(n_jobs=10)]: Batch computation too fast (0.1943s.) Setting batch_size=2.\n",
      "[Parallel(n_jobs=10)]: Done  65 tasks      | elapsed:   19.2s\n",
      "[Parallel(n_jobs=10)]: Batch computation too fast (0.1762s.) Setting batch_size=4.\n",
      "[Parallel(n_jobs=10)]: Done  85 tasks      | elapsed:   19.4s\n",
      "[Parallel(n_jobs=10)]: Done 119 tasks      | elapsed:   19.7s\n",
      "[Parallel(n_jobs=10)]: Done 179 tasks      | elapsed:   20.1s\n",
      "[Parallel(n_jobs=10)]: Done 247 tasks      | elapsed:   20.6s\n",
      "[Parallel(n_jobs=10)]: Done 384 out of 384 | elapsed:   21.6s finished\n"
     ]
    },
    {
     "name": "stdout",
     "output_type": "stream",
     "text": [
      "for one slice: 28.27\n",
      "0. slice saved\n",
      "(384, 600000)\n",
      "start the 0. slice\n",
      "load data into RAM ...\n",
      "(384, 600000)\n",
      "delet the memmap ...\n",
      "filter and detect spikes ...\n"
     ]
    },
    {
     "name": "stderr",
     "output_type": "stream",
     "text": [
      "[Parallel(n_jobs=10)]: Done   5 tasks      | elapsed:    9.4s\n",
      "[Parallel(n_jobs=10)]: Done  12 tasks      | elapsed:   18.7s\n",
      "[Parallel(n_jobs=10)]: Done  21 tasks      | elapsed:   18.8s\n",
      "[Parallel(n_jobs=10)]: Done  30 tasks      | elapsed:   18.8s\n",
      "[Parallel(n_jobs=10)]: Done  41 tasks      | elapsed:   18.9s\n",
      "[Parallel(n_jobs=10)]: Done  52 tasks      | elapsed:   19.0s\n",
      "[Parallel(n_jobs=10)]: Batch computation too fast (0.1933s.) Setting batch_size=2.\n",
      "[Parallel(n_jobs=10)]: Done  65 tasks      | elapsed:   19.1s\n",
      "[Parallel(n_jobs=10)]: Batch computation too fast (0.1792s.) Setting batch_size=4.\n",
      "[Parallel(n_jobs=10)]: Done  85 tasks      | elapsed:   19.3s\n",
      "[Parallel(n_jobs=10)]: Done 119 tasks      | elapsed:   19.6s\n",
      "[Parallel(n_jobs=10)]: Done 179 tasks      | elapsed:   20.0s\n",
      "[Parallel(n_jobs=10)]: Done 247 tasks      | elapsed:   20.5s\n",
      "[Parallel(n_jobs=10)]: Done 384 out of 384 | elapsed:   21.4s finished\n"
     ]
    },
    {
     "name": "stdout",
     "output_type": "stream",
     "text": [
      "for one slice: 28.16\n",
      "0. slice saved\n",
      "(384, 600000)\n",
      "start the 0. slice\n",
      "load data into RAM ...\n",
      "(384, 600000)\n",
      "delet the memmap ...\n",
      "filter and detect spikes ...\n"
     ]
    },
    {
     "name": "stderr",
     "output_type": "stream",
     "text": [
      "[Parallel(n_jobs=10)]: Done   5 tasks      | elapsed:    9.6s\n",
      "[Parallel(n_jobs=10)]: Done  12 tasks      | elapsed:   19.0s\n",
      "[Parallel(n_jobs=10)]: Done  21 tasks      | elapsed:   19.1s\n",
      "[Parallel(n_jobs=10)]: Done  30 tasks      | elapsed:   19.2s\n",
      "[Parallel(n_jobs=10)]: Done  41 tasks      | elapsed:   19.2s\n",
      "[Parallel(n_jobs=10)]: Done  52 tasks      | elapsed:   19.3s\n",
      "[Parallel(n_jobs=10)]: Batch computation too fast (0.1992s.) Setting batch_size=2.\n",
      "[Parallel(n_jobs=10)]: Done  65 tasks      | elapsed:   19.4s\n",
      "[Parallel(n_jobs=10)]: Batch computation too fast (0.1822s.) Setting batch_size=4.\n",
      "[Parallel(n_jobs=10)]: Done  85 tasks      | elapsed:   19.6s\n",
      "[Parallel(n_jobs=10)]: Done 119 tasks      | elapsed:   19.9s\n",
      "[Parallel(n_jobs=10)]: Done 179 tasks      | elapsed:   20.3s\n",
      "[Parallel(n_jobs=10)]: Done 247 tasks      | elapsed:   20.8s\n",
      "[Parallel(n_jobs=10)]: Done 384 out of 384 | elapsed:   21.7s finished\n"
     ]
    },
    {
     "name": "stdout",
     "output_type": "stream",
     "text": [
      "for one slice: 28.45\n",
      "0. slice saved\n",
      "(384, 600000)\n",
      "start the 0. slice\n",
      "load data into RAM ...\n",
      "(384, 600000)\n",
      "delet the memmap ...\n",
      "filter and detect spikes ...\n"
     ]
    },
    {
     "name": "stderr",
     "output_type": "stream",
     "text": [
      "[Parallel(n_jobs=10)]: Done   5 tasks      | elapsed:    9.5s\n",
      "[Parallel(n_jobs=10)]: Done  12 tasks      | elapsed:   18.8s\n",
      "[Parallel(n_jobs=10)]: Done  21 tasks      | elapsed:   18.8s\n",
      "[Parallel(n_jobs=10)]: Done  30 tasks      | elapsed:   18.9s\n",
      "[Parallel(n_jobs=10)]: Done  41 tasks      | elapsed:   19.0s\n",
      "[Parallel(n_jobs=10)]: Batch computation too fast (0.1995s.) Setting batch_size=2.\n",
      "[Parallel(n_jobs=10)]: Done  52 tasks      | elapsed:   19.0s\n",
      "[Parallel(n_jobs=10)]: Done  65 tasks      | elapsed:   19.1s\n",
      "[Parallel(n_jobs=10)]: Batch computation too fast (0.1732s.) Setting batch_size=4.\n",
      "[Parallel(n_jobs=10)]: Done  86 tasks      | elapsed:   19.3s\n",
      "[Parallel(n_jobs=10)]: Done 122 tasks      | elapsed:   19.6s\n",
      "[Parallel(n_jobs=10)]: Done 182 tasks      | elapsed:   20.0s\n",
      "[Parallel(n_jobs=10)]: Done 250 tasks      | elapsed:   20.5s\n",
      "[Parallel(n_jobs=10)]: Done 326 out of 384 | elapsed:   21.0s remaining:    3.7s\n",
      "[Parallel(n_jobs=10)]: Done 384 out of 384 | elapsed:   21.4s finished\n"
     ]
    },
    {
     "name": "stdout",
     "output_type": "stream",
     "text": [
      "for one slice: 28.03\n",
      "0. slice saved\n",
      "(384, 600000)\n",
      "start the 0. slice\n",
      "load data into RAM ...\n",
      "(384, 600000)\n",
      "delet the memmap ...\n",
      "filter and detect spikes ...\n"
     ]
    },
    {
     "name": "stderr",
     "output_type": "stream",
     "text": [
      "[Parallel(n_jobs=10)]: Done   5 tasks      | elapsed:    9.7s\n",
      "[Parallel(n_jobs=10)]: Done  12 tasks      | elapsed:   19.1s\n",
      "[Parallel(n_jobs=10)]: Done  21 tasks      | elapsed:   19.2s\n",
      "[Parallel(n_jobs=10)]: Done  30 tasks      | elapsed:   19.2s\n",
      "[Parallel(n_jobs=10)]: Done  41 tasks      | elapsed:   19.3s\n",
      "[Parallel(n_jobs=10)]: Done  52 tasks      | elapsed:   19.4s\n",
      "[Parallel(n_jobs=10)]: Batch computation too fast (0.1987s.) Setting batch_size=2.\n",
      "[Parallel(n_jobs=10)]: Done  65 tasks      | elapsed:   19.5s\n",
      "[Parallel(n_jobs=10)]: Batch computation too fast (0.1812s.) Setting batch_size=4.\n",
      "[Parallel(n_jobs=10)]: Done  85 tasks      | elapsed:   19.7s\n",
      "[Parallel(n_jobs=10)]: Done 119 tasks      | elapsed:   20.0s\n",
      "[Parallel(n_jobs=10)]: Done 179 tasks      | elapsed:   20.4s\n",
      "[Parallel(n_jobs=10)]: Done 247 tasks      | elapsed:   20.9s\n",
      "[Parallel(n_jobs=10)]: Done 384 out of 384 | elapsed:   21.8s finished\n"
     ]
    },
    {
     "name": "stdout",
     "output_type": "stream",
     "text": [
      "for one slice: 28.53\n",
      "0. slice saved\n",
      "(384, 600000)\n",
      "start the 0. slice\n",
      "load data into RAM ...\n",
      "(384, 600000)\n",
      "delet the memmap ...\n",
      "filter and detect spikes ...\n"
     ]
    },
    {
     "name": "stderr",
     "output_type": "stream",
     "text": [
      "[Parallel(n_jobs=10)]: Done   5 tasks      | elapsed:    9.4s\n",
      "[Parallel(n_jobs=10)]: Done  12 tasks      | elapsed:   18.7s\n",
      "[Parallel(n_jobs=10)]: Done  21 tasks      | elapsed:   18.8s\n",
      "[Parallel(n_jobs=10)]: Done  30 tasks      | elapsed:   18.8s\n",
      "[Parallel(n_jobs=10)]: Done  41 tasks      | elapsed:   18.9s\n",
      "[Parallel(n_jobs=10)]: Done  52 tasks      | elapsed:   19.0s\n",
      "[Parallel(n_jobs=10)]: Batch computation too fast (0.1927s.) Setting batch_size=2.\n",
      "[Parallel(n_jobs=10)]: Done  65 tasks      | elapsed:   19.1s\n",
      "[Parallel(n_jobs=10)]: Batch computation too fast (0.1772s.) Setting batch_size=4.\n",
      "[Parallel(n_jobs=10)]: Done  85 tasks      | elapsed:   19.2s\n",
      "[Parallel(n_jobs=10)]: Done 119 tasks      | elapsed:   19.5s\n",
      "[Parallel(n_jobs=10)]: Done 179 tasks      | elapsed:   20.0s\n",
      "[Parallel(n_jobs=10)]: Done 247 tasks      | elapsed:   20.5s\n",
      "[Parallel(n_jobs=10)]: Done 384 out of 384 | elapsed:   21.4s finished\n"
     ]
    },
    {
     "name": "stdout",
     "output_type": "stream",
     "text": [
      "for one slice: 28.05\n",
      "0. slice saved\n",
      "(384, 600000)\n",
      "start the 0. slice\n",
      "load data into RAM ...\n",
      "(384, 600000)\n",
      "delet the memmap ...\n",
      "filter and detect spikes ...\n"
     ]
    },
    {
     "name": "stderr",
     "output_type": "stream",
     "text": [
      "[Parallel(n_jobs=10)]: Done   5 tasks      | elapsed:    9.4s\n",
      "[Parallel(n_jobs=10)]: Done  12 tasks      | elapsed:   18.9s\n",
      "[Parallel(n_jobs=10)]: Done  21 tasks      | elapsed:   19.0s\n",
      "[Parallel(n_jobs=10)]: Done  30 tasks      | elapsed:   19.1s\n",
      "[Parallel(n_jobs=10)]: Done  41 tasks      | elapsed:   19.1s\n",
      "[Parallel(n_jobs=10)]: Done  52 tasks      | elapsed:   19.2s\n",
      "[Parallel(n_jobs=10)]: Batch computation too fast (0.1974s.) Setting batch_size=2.\n",
      "[Parallel(n_jobs=10)]: Done  65 tasks      | elapsed:   19.3s\n",
      "[Parallel(n_jobs=10)]: Batch computation too fast (0.1792s.) Setting batch_size=4.\n",
      "[Parallel(n_jobs=10)]: Done  85 tasks      | elapsed:   19.5s\n",
      "[Parallel(n_jobs=10)]: Done 119 tasks      | elapsed:   19.8s\n",
      "[Parallel(n_jobs=10)]: Done 179 tasks      | elapsed:   20.2s\n",
      "[Parallel(n_jobs=10)]: Done 247 tasks      | elapsed:   20.7s\n",
      "[Parallel(n_jobs=10)]: Done 384 out of 384 | elapsed:   21.6s finished\n"
     ]
    },
    {
     "name": "stdout",
     "output_type": "stream",
     "text": [
      "for one slice: 28.25\n",
      "0. slice saved\n",
      "(384, 600000)\n",
      "start the 0. slice\n",
      "load data into RAM ...\n",
      "(384, 600000)\n",
      "delet the memmap ...\n",
      "filter and detect spikes ...\n"
     ]
    },
    {
     "name": "stderr",
     "output_type": "stream",
     "text": [
      "[Parallel(n_jobs=10)]: Done   5 tasks      | elapsed:    9.4s\n",
      "[Parallel(n_jobs=10)]: Done  12 tasks      | elapsed:   18.7s\n",
      "[Parallel(n_jobs=10)]: Done  21 tasks      | elapsed:   18.8s\n",
      "[Parallel(n_jobs=10)]: Done  30 tasks      | elapsed:   18.8s\n",
      "[Parallel(n_jobs=10)]: Done  41 tasks      | elapsed:   18.9s\n",
      "[Parallel(n_jobs=10)]: Done  52 tasks      | elapsed:   19.0s\n",
      "[Parallel(n_jobs=10)]: Batch computation too fast (0.1893s.) Setting batch_size=2.\n",
      "[Parallel(n_jobs=10)]: Done  65 tasks      | elapsed:   19.1s\n",
      "[Parallel(n_jobs=10)]: Batch computation too fast (0.1752s.) Setting batch_size=4.\n",
      "[Parallel(n_jobs=10)]: Done  85 tasks      | elapsed:   19.3s\n",
      "[Parallel(n_jobs=10)]: Done 119 tasks      | elapsed:   19.5s\n",
      "[Parallel(n_jobs=10)]: Done 179 tasks      | elapsed:   20.0s\n",
      "[Parallel(n_jobs=10)]: Done 247 tasks      | elapsed:   20.4s\n",
      "[Parallel(n_jobs=10)]: Done 384 out of 384 | elapsed:   21.3s finished\n"
     ]
    },
    {
     "name": "stdout",
     "output_type": "stream",
     "text": [
      "for one slice: 27.97\n",
      "0. slice saved\n",
      "done for the whole recording\n",
      "create a memmap\n",
      "(384, 600000)\n",
      "start the 0. slice\n",
      "load data into RAM ...\n",
      "(384, 600000)\n",
      "delet the memmap ...\n",
      "filter and detect spikes ...\n"
     ]
    },
    {
     "name": "stderr",
     "output_type": "stream",
     "text": [
      "[Parallel(n_jobs=10)]: Done   5 tasks      | elapsed:    9.4s\n",
      "[Parallel(n_jobs=10)]: Done  12 tasks      | elapsed:   18.7s\n",
      "[Parallel(n_jobs=10)]: Done  21 tasks      | elapsed:   18.8s\n",
      "[Parallel(n_jobs=10)]: Done  30 tasks      | elapsed:   18.9s\n",
      "[Parallel(n_jobs=10)]: Done  41 tasks      | elapsed:   19.0s\n",
      "[Parallel(n_jobs=10)]: Done  52 tasks      | elapsed:   19.0s\n",
      "[Parallel(n_jobs=10)]: Batch computation too fast (0.1976s.) Setting batch_size=2.\n",
      "[Parallel(n_jobs=10)]: Done  65 tasks      | elapsed:   19.1s\n",
      "[Parallel(n_jobs=10)]: Batch computation too fast (0.1802s.) Setting batch_size=4.\n",
      "[Parallel(n_jobs=10)]: Done  85 tasks      | elapsed:   19.3s\n",
      "[Parallel(n_jobs=10)]: Done 119 tasks      | elapsed:   19.6s\n",
      "[Parallel(n_jobs=10)]: Done 179 tasks      | elapsed:   20.0s\n",
      "[Parallel(n_jobs=10)]: Done 247 tasks      | elapsed:   20.5s\n",
      "[Parallel(n_jobs=10)]: Done 384 out of 384 | elapsed:   21.5s finished\n"
     ]
    },
    {
     "name": "stdout",
     "output_type": "stream",
     "text": [
      "for one slice: 28.13\n",
      "0. slice saved\n",
      "(384, 600000)\n",
      "start the 0. slice\n",
      "load data into RAM ...\n",
      "(384, 600000)\n",
      "delet the memmap ...\n",
      "filter and detect spikes ...\n"
     ]
    },
    {
     "name": "stderr",
     "output_type": "stream",
     "text": [
      "[Parallel(n_jobs=10)]: Done   5 tasks      | elapsed:    9.4s\n",
      "[Parallel(n_jobs=10)]: Done  12 tasks      | elapsed:   18.7s\n",
      "[Parallel(n_jobs=10)]: Done  21 tasks      | elapsed:   18.7s\n",
      "[Parallel(n_jobs=10)]: Done  30 tasks      | elapsed:   18.8s\n",
      "[Parallel(n_jobs=10)]: Done  41 tasks      | elapsed:   18.9s\n",
      "[Parallel(n_jobs=10)]: Done  52 tasks      | elapsed:   19.0s\n",
      "[Parallel(n_jobs=10)]: Batch computation too fast (0.1985s.) Setting batch_size=2.\n",
      "[Parallel(n_jobs=10)]: Done  65 tasks      | elapsed:   19.1s\n",
      "[Parallel(n_jobs=10)]: Batch computation too fast (0.1842s.) Setting batch_size=4.\n",
      "[Parallel(n_jobs=10)]: Done  85 tasks      | elapsed:   19.2s\n",
      "[Parallel(n_jobs=10)]: Done 119 tasks      | elapsed:   19.5s\n",
      "[Parallel(n_jobs=10)]: Done 179 tasks      | elapsed:   20.0s\n",
      "[Parallel(n_jobs=10)]: Done 247 tasks      | elapsed:   20.4s\n",
      "[Parallel(n_jobs=10)]: Done 384 out of 384 | elapsed:   21.3s finished\n"
     ]
    },
    {
     "name": "stdout",
     "output_type": "stream",
     "text": [
      "for one slice: 28.00\n",
      "0. slice saved\n",
      "(384, 600000)\n",
      "start the 0. slice\n",
      "load data into RAM ...\n",
      "(384, 600000)\n",
      "delet the memmap ...\n",
      "filter and detect spikes ...\n"
     ]
    },
    {
     "name": "stderr",
     "output_type": "stream",
     "text": [
      "[Parallel(n_jobs=10)]: Done   5 tasks      | elapsed:    9.5s\n",
      "[Parallel(n_jobs=10)]: Done  12 tasks      | elapsed:   18.8s\n",
      "[Parallel(n_jobs=10)]: Done  21 tasks      | elapsed:   18.9s\n",
      "[Parallel(n_jobs=10)]: Done  30 tasks      | elapsed:   18.9s\n",
      "[Parallel(n_jobs=10)]: Done  41 tasks      | elapsed:   19.0s\n",
      "[Parallel(n_jobs=10)]: Done  52 tasks      | elapsed:   19.1s\n",
      "[Parallel(n_jobs=10)]: Batch computation too fast (0.2000s.) Setting batch_size=2.\n",
      "[Parallel(n_jobs=10)]: Done  65 tasks      | elapsed:   19.2s\n",
      "[Parallel(n_jobs=10)]: Batch computation too fast (0.1742s.) Setting batch_size=4.\n",
      "[Parallel(n_jobs=10)]: Done  85 tasks      | elapsed:   19.4s\n",
      "[Parallel(n_jobs=10)]: Done 119 tasks      | elapsed:   19.7s\n",
      "[Parallel(n_jobs=10)]: Done 179 tasks      | elapsed:   20.1s\n",
      "[Parallel(n_jobs=10)]: Done 247 tasks      | elapsed:   20.6s\n",
      "[Parallel(n_jobs=10)]: Done 384 out of 384 | elapsed:   21.5s finished\n"
     ]
    },
    {
     "name": "stdout",
     "output_type": "stream",
     "text": [
      "for one slice: 28.07\n",
      "0. slice saved\n",
      "(384, 600000)\n",
      "start the 0. slice\n",
      "load data into RAM ...\n",
      "(384, 600000)\n",
      "delet the memmap ...\n",
      "filter and detect spikes ...\n"
     ]
    },
    {
     "name": "stderr",
     "output_type": "stream",
     "text": [
      "[Parallel(n_jobs=10)]: Done   5 tasks      | elapsed:    9.4s\n",
      "[Parallel(n_jobs=10)]: Done  12 tasks      | elapsed:   18.8s\n",
      "[Parallel(n_jobs=10)]: Done  21 tasks      | elapsed:   18.8s\n",
      "[Parallel(n_jobs=10)]: Done  30 tasks      | elapsed:   18.9s\n",
      "[Parallel(n_jobs=10)]: Done  41 tasks      | elapsed:   19.0s\n",
      "[Parallel(n_jobs=10)]: Done  52 tasks      | elapsed:   19.0s\n",
      "[Parallel(n_jobs=10)]: Batch computation too fast (0.1903s.) Setting batch_size=2.\n",
      "[Parallel(n_jobs=10)]: Done  65 tasks      | elapsed:   19.1s\n",
      "[Parallel(n_jobs=10)]: Batch computation too fast (0.1742s.) Setting batch_size=4.\n",
      "[Parallel(n_jobs=10)]: Done  85 tasks      | elapsed:   19.3s\n",
      "[Parallel(n_jobs=10)]: Done 119 tasks      | elapsed:   19.6s\n",
      "[Parallel(n_jobs=10)]: Done 179 tasks      | elapsed:   20.0s\n",
      "[Parallel(n_jobs=10)]: Done 247 tasks      | elapsed:   20.5s\n",
      "[Parallel(n_jobs=10)]: Done 384 out of 384 | elapsed:   21.4s finished\n"
     ]
    },
    {
     "name": "stdout",
     "output_type": "stream",
     "text": [
      "for one slice: 28.05\n",
      "0. slice saved\n",
      "(384, 600000)\n",
      "start the 0. slice\n",
      "load data into RAM ...\n",
      "(384, 600000)\n",
      "delet the memmap ...\n",
      "filter and detect spikes ...\n"
     ]
    },
    {
     "name": "stderr",
     "output_type": "stream",
     "text": [
      "[Parallel(n_jobs=10)]: Done   5 tasks      | elapsed:   10.2s\n",
      "[Parallel(n_jobs=10)]: Done  12 tasks      | elapsed:   19.5s\n",
      "[Parallel(n_jobs=10)]: Done  21 tasks      | elapsed:   19.6s\n",
      "[Parallel(n_jobs=10)]: Done  30 tasks      | elapsed:   19.7s\n",
      "[Parallel(n_jobs=10)]: Done  41 tasks      | elapsed:   19.7s\n",
      "[Parallel(n_jobs=10)]: Done  52 tasks      | elapsed:   19.8s\n",
      "[Parallel(n_jobs=10)]: Batch computation too fast (0.1956s.) Setting batch_size=2.\n",
      "[Parallel(n_jobs=10)]: Done  65 tasks      | elapsed:   19.9s\n",
      "[Parallel(n_jobs=10)]: Batch computation too fast (0.1972s.) Setting batch_size=4.\n",
      "[Parallel(n_jobs=10)]: Done  85 tasks      | elapsed:   20.1s\n",
      "[Parallel(n_jobs=10)]: Done 119 tasks      | elapsed:   20.4s\n",
      "[Parallel(n_jobs=10)]: Done 179 tasks      | elapsed:   20.9s\n",
      "[Parallel(n_jobs=10)]: Done 247 tasks      | elapsed:   21.4s\n",
      "[Parallel(n_jobs=10)]: Done 384 out of 384 | elapsed:   22.3s finished\n"
     ]
    },
    {
     "name": "stdout",
     "output_type": "stream",
     "text": [
      "for one slice: 28.92\n",
      "0. slice saved\n",
      "(384, 600000)\n",
      "start the 0. slice\n",
      "load data into RAM ...\n",
      "(384, 600000)\n",
      "delet the memmap ...\n",
      "filter and detect spikes ...\n"
     ]
    },
    {
     "name": "stderr",
     "output_type": "stream",
     "text": [
      "[Parallel(n_jobs=10)]: Done   5 tasks      | elapsed:    9.4s\n",
      "[Parallel(n_jobs=10)]: Done  12 tasks      | elapsed:   19.0s\n",
      "[Parallel(n_jobs=10)]: Done  21 tasks      | elapsed:   19.1s\n",
      "[Parallel(n_jobs=10)]: Done  30 tasks      | elapsed:   19.1s\n",
      "[Parallel(n_jobs=10)]: Done  41 tasks      | elapsed:   19.2s\n",
      "[Parallel(n_jobs=10)]: Batch computation too fast (0.1982s.) Setting batch_size=2.\n",
      "[Parallel(n_jobs=10)]: Done  52 tasks      | elapsed:   19.3s\n",
      "[Parallel(n_jobs=10)]: Done  65 tasks      | elapsed:   19.4s\n",
      "[Parallel(n_jobs=10)]: Batch computation too fast (0.1722s.) Setting batch_size=4.\n",
      "[Parallel(n_jobs=10)]: Done  86 tasks      | elapsed:   19.5s\n",
      "[Parallel(n_jobs=10)]: Done 122 tasks      | elapsed:   19.8s\n",
      "[Parallel(n_jobs=10)]: Done 182 tasks      | elapsed:   20.2s\n",
      "[Parallel(n_jobs=10)]: Done 250 tasks      | elapsed:   20.7s\n",
      "[Parallel(n_jobs=10)]: Done 326 out of 384 | elapsed:   21.3s remaining:    3.7s\n",
      "[Parallel(n_jobs=10)]: Done 384 out of 384 | elapsed:   21.6s finished\n"
     ]
    },
    {
     "name": "stdout",
     "output_type": "stream",
     "text": [
      "for one slice: 28.18\n",
      "0. slice saved\n",
      "(384, 600000)\n",
      "start the 0. slice\n",
      "load data into RAM ...\n",
      "(384, 600000)\n",
      "delet the memmap ...\n",
      "filter and detect spikes ...\n"
     ]
    },
    {
     "name": "stderr",
     "output_type": "stream",
     "text": [
      "[Parallel(n_jobs=10)]: Done   5 tasks      | elapsed:    9.5s\n",
      "[Parallel(n_jobs=10)]: Done  12 tasks      | elapsed:   18.8s\n",
      "[Parallel(n_jobs=10)]: Done  21 tasks      | elapsed:   18.9s\n",
      "[Parallel(n_jobs=10)]: Done  30 tasks      | elapsed:   19.0s\n",
      "[Parallel(n_jobs=10)]: Done  41 tasks      | elapsed:   19.0s\n",
      "[Parallel(n_jobs=10)]: Done  52 tasks      | elapsed:   19.1s\n",
      "[Parallel(n_jobs=10)]: Batch computation too fast (0.1937s.) Setting batch_size=2.\n",
      "[Parallel(n_jobs=10)]: Done  65 tasks      | elapsed:   19.2s\n",
      "[Parallel(n_jobs=10)]: Batch computation too fast (0.1742s.) Setting batch_size=4.\n",
      "[Parallel(n_jobs=10)]: Done  85 tasks      | elapsed:   19.4s\n",
      "[Parallel(n_jobs=10)]: Done 119 tasks      | elapsed:   19.7s\n",
      "[Parallel(n_jobs=10)]: Done 179 tasks      | elapsed:   20.1s\n",
      "[Parallel(n_jobs=10)]: Done 247 tasks      | elapsed:   20.6s\n",
      "[Parallel(n_jobs=10)]: Done 384 out of 384 | elapsed:   21.5s finished\n"
     ]
    },
    {
     "name": "stdout",
     "output_type": "stream",
     "text": [
      "for one slice: 28.11\n",
      "0. slice saved\n",
      "(384, 600000)\n",
      "start the 0. slice\n",
      "load data into RAM ...\n",
      "(384, 600000)\n",
      "delet the memmap ...\n",
      "filter and detect spikes ...\n"
     ]
    },
    {
     "name": "stderr",
     "output_type": "stream",
     "text": [
      "[Parallel(n_jobs=10)]: Done   5 tasks      | elapsed:    9.4s\n",
      "[Parallel(n_jobs=10)]: Done  12 tasks      | elapsed:   18.8s\n",
      "[Parallel(n_jobs=10)]: Done  21 tasks      | elapsed:   18.8s\n",
      "[Parallel(n_jobs=10)]: Done  30 tasks      | elapsed:   18.9s\n",
      "[Parallel(n_jobs=10)]: Done  41 tasks      | elapsed:   19.0s\n",
      "[Parallel(n_jobs=10)]: Done  52 tasks      | elapsed:   19.0s\n",
      "[Parallel(n_jobs=10)]: Batch computation too fast (0.1921s.) Setting batch_size=2.\n",
      "[Parallel(n_jobs=10)]: Done  65 tasks      | elapsed:   19.1s\n",
      "[Parallel(n_jobs=10)]: Batch computation too fast (0.1722s.) Setting batch_size=4.\n",
      "[Parallel(n_jobs=10)]: Done  85 tasks      | elapsed:   19.3s\n",
      "[Parallel(n_jobs=10)]: Done 119 tasks      | elapsed:   19.6s\n",
      "[Parallel(n_jobs=10)]: Done 179 tasks      | elapsed:   20.0s\n",
      "[Parallel(n_jobs=10)]: Done 247 tasks      | elapsed:   20.5s\n",
      "[Parallel(n_jobs=10)]: Done 384 out of 384 | elapsed:   21.4s finished\n"
     ]
    },
    {
     "name": "stdout",
     "output_type": "stream",
     "text": [
      "for one slice: 28.10\n",
      "0. slice saved\n",
      "(384, 600000)\n",
      "start the 0. slice\n",
      "load data into RAM ...\n",
      "(384, 600000)\n",
      "delet the memmap ...\n",
      "filter and detect spikes ...\n"
     ]
    },
    {
     "name": "stderr",
     "output_type": "stream",
     "text": [
      "[Parallel(n_jobs=10)]: Done   5 tasks      | elapsed:    9.5s\n",
      "[Parallel(n_jobs=10)]: Done  12 tasks      | elapsed:   18.8s\n",
      "[Parallel(n_jobs=10)]: Done  21 tasks      | elapsed:   18.9s\n",
      "[Parallel(n_jobs=10)]: Done  30 tasks      | elapsed:   18.9s\n",
      "[Parallel(n_jobs=10)]: Done  41 tasks      | elapsed:   19.0s\n",
      "[Parallel(n_jobs=10)]: Batch computation too fast (0.1982s.) Setting batch_size=2.\n",
      "[Parallel(n_jobs=10)]: Done  52 tasks      | elapsed:   19.1s\n",
      "[Parallel(n_jobs=10)]: Done  65 tasks      | elapsed:   19.2s\n",
      "[Parallel(n_jobs=10)]: Batch computation too fast (0.1712s.) Setting batch_size=4.\n",
      "[Parallel(n_jobs=10)]: Done  86 tasks      | elapsed:   19.4s\n",
      "[Parallel(n_jobs=10)]: Done 122 tasks      | elapsed:   19.7s\n",
      "[Parallel(n_jobs=10)]: Done 182 tasks      | elapsed:   20.1s\n",
      "[Parallel(n_jobs=10)]: Done 250 tasks      | elapsed:   20.5s\n",
      "[Parallel(n_jobs=10)]: Done 326 out of 384 | elapsed:   21.1s remaining:    3.7s\n",
      "[Parallel(n_jobs=10)]: Done 384 out of 384 | elapsed:   21.4s finished\n"
     ]
    },
    {
     "name": "stdout",
     "output_type": "stream",
     "text": [
      "for one slice: 28.02\n",
      "0. slice saved\n",
      "(384, 600000)\n",
      "start the 0. slice\n",
      "load data into RAM ...\n",
      "(384, 600000)\n",
      "delet the memmap ...\n",
      "filter and detect spikes ...\n"
     ]
    },
    {
     "name": "stderr",
     "output_type": "stream",
     "text": [
      "[Parallel(n_jobs=10)]: Done   5 tasks      | elapsed:    9.7s\n",
      "[Parallel(n_jobs=10)]: Done  12 tasks      | elapsed:   21.9s\n",
      "[Parallel(n_jobs=10)]: Done  21 tasks      | elapsed:   22.0s\n",
      "[Parallel(n_jobs=10)]: Done  30 tasks      | elapsed:   22.0s\n",
      "[Parallel(n_jobs=10)]: Done  41 tasks      | elapsed:   22.1s\n",
      "[Parallel(n_jobs=10)]: Done  52 tasks      | elapsed:   22.2s\n",
      "[Parallel(n_jobs=10)]: Batch computation too fast (0.1928s.) Setting batch_size=2.\n",
      "[Parallel(n_jobs=10)]: Done  65 tasks      | elapsed:   22.3s\n",
      "[Parallel(n_jobs=10)]: Batch computation too fast (0.1772s.) Setting batch_size=4.\n",
      "[Parallel(n_jobs=10)]: Done  84 tasks      | elapsed:   22.5s\n",
      "[Parallel(n_jobs=10)]: Done 116 tasks      | elapsed:   22.7s\n",
      "[Parallel(n_jobs=10)]: Done 176 tasks      | elapsed:   23.2s\n",
      "[Parallel(n_jobs=10)]: Done 244 tasks      | elapsed:   23.7s\n",
      "[Parallel(n_jobs=10)]: Done 384 out of 384 | elapsed:   24.7s finished\n"
     ]
    },
    {
     "name": "stdout",
     "output_type": "stream",
     "text": [
      "for one slice: 31.34\n",
      "0. slice saved\n",
      "(384, 600000)\n",
      "start the 0. slice\n",
      "load data into RAM ...\n",
      "(384, 600000)\n",
      "delet the memmap ...\n",
      "filter and detect spikes ...\n"
     ]
    },
    {
     "name": "stderr",
     "output_type": "stream",
     "text": [
      "[Parallel(n_jobs=10)]: Done   5 tasks      | elapsed:   13.8s\n",
      "[Parallel(n_jobs=10)]: Done  12 tasks      | elapsed:   23.1s\n",
      "[Parallel(n_jobs=10)]: Done  21 tasks      | elapsed:   23.2s\n",
      "[Parallel(n_jobs=10)]: Done  30 tasks      | elapsed:   23.3s\n",
      "[Parallel(n_jobs=10)]: Done  41 tasks      | elapsed:   23.3s\n",
      "[Parallel(n_jobs=10)]: Done  52 tasks      | elapsed:   23.4s\n",
      "[Parallel(n_jobs=10)]: Batch computation too fast (0.1931s.) Setting batch_size=2.\n",
      "[Parallel(n_jobs=10)]: Done  65 tasks      | elapsed:   23.5s\n",
      "[Parallel(n_jobs=10)]: Batch computation too fast (0.1802s.) Setting batch_size=4.\n",
      "[Parallel(n_jobs=10)]: Done  84 tasks      | elapsed:   23.7s\n",
      "[Parallel(n_jobs=10)]: Done 116 tasks      | elapsed:   24.0s\n",
      "[Parallel(n_jobs=10)]: Done 176 tasks      | elapsed:   24.4s\n",
      "[Parallel(n_jobs=10)]: Done 244 tasks      | elapsed:   24.9s\n",
      "[Parallel(n_jobs=10)]: Done 384 out of 384 | elapsed:   25.9s finished\n"
     ]
    },
    {
     "name": "stdout",
     "output_type": "stream",
     "text": [
      "for one slice: 32.58\n",
      "0. slice saved\n",
      "(384, 600000)\n",
      "start the 0. slice\n",
      "load data into RAM ...\n",
      "(384, 600000)\n",
      "delet the memmap ...\n",
      "filter and detect spikes ...\n"
     ]
    },
    {
     "name": "stderr",
     "output_type": "stream",
     "text": [
      "[Parallel(n_jobs=10)]: Done   5 tasks      | elapsed:    9.5s\n",
      "[Parallel(n_jobs=10)]: Done  12 tasks      | elapsed:   18.8s\n",
      "[Parallel(n_jobs=10)]: Done  21 tasks      | elapsed:   18.9s\n",
      "[Parallel(n_jobs=10)]: Done  30 tasks      | elapsed:   19.0s\n",
      "[Parallel(n_jobs=10)]: Done  41 tasks      | elapsed:   19.1s\n",
      "[Parallel(n_jobs=10)]: Done  52 tasks      | elapsed:   19.1s\n",
      "[Parallel(n_jobs=10)]: Batch computation too fast (0.1975s.) Setting batch_size=2.\n",
      "[Parallel(n_jobs=10)]: Done  65 tasks      | elapsed:   19.2s\n",
      "[Parallel(n_jobs=10)]: Batch computation too fast (0.1802s.) Setting batch_size=4.\n",
      "[Parallel(n_jobs=10)]: Done  85 tasks      | elapsed:   19.4s\n",
      "[Parallel(n_jobs=10)]: Done 119 tasks      | elapsed:   19.7s\n",
      "[Parallel(n_jobs=10)]: Done 179 tasks      | elapsed:   20.1s\n",
      "[Parallel(n_jobs=10)]: Done 247 tasks      | elapsed:   20.6s\n",
      "[Parallel(n_jobs=10)]: Done 384 out of 384 | elapsed:   21.6s finished\n"
     ]
    },
    {
     "name": "stdout",
     "output_type": "stream",
     "text": [
      "for one slice: 28.17\n",
      "0. slice saved\n",
      "(384, 600000)\n",
      "start the 0. slice\n",
      "load data into RAM ...\n",
      "(384, 600000)\n",
      "delet the memmap ...\n",
      "filter and detect spikes ...\n"
     ]
    },
    {
     "name": "stderr",
     "output_type": "stream",
     "text": [
      "[Parallel(n_jobs=10)]: Done   5 tasks      | elapsed:    9.4s\n",
      "[Parallel(n_jobs=10)]: Done  12 tasks      | elapsed:   18.7s\n",
      "[Parallel(n_jobs=10)]: Done  21 tasks      | elapsed:   18.8s\n",
      "[Parallel(n_jobs=10)]: Done  30 tasks      | elapsed:   18.8s\n",
      "[Parallel(n_jobs=10)]: Done  41 tasks      | elapsed:   18.9s\n",
      "[Parallel(n_jobs=10)]: Done  52 tasks      | elapsed:   19.0s\n",
      "[Parallel(n_jobs=10)]: Batch computation too fast (0.1885s.) Setting batch_size=2.\n",
      "[Parallel(n_jobs=10)]: Done  65 tasks      | elapsed:   19.1s\n",
      "[Parallel(n_jobs=10)]: Batch computation too fast (0.1702s.) Setting batch_size=4.\n",
      "[Parallel(n_jobs=10)]: Done  85 tasks      | elapsed:   19.3s\n",
      "[Parallel(n_jobs=10)]: Done 119 tasks      | elapsed:   19.5s\n",
      "[Parallel(n_jobs=10)]: Done 179 tasks      | elapsed:   20.0s\n",
      "[Parallel(n_jobs=10)]: Done 247 tasks      | elapsed:   20.4s\n",
      "[Parallel(n_jobs=10)]: Done 384 out of 384 | elapsed:   21.4s finished\n"
     ]
    },
    {
     "name": "stdout",
     "output_type": "stream",
     "text": [
      "for one slice: 28.04\n",
      "0. slice saved\n",
      "(384, 600000)\n",
      "start the 0. slice\n",
      "load data into RAM ...\n",
      "(384, 600000)\n",
      "delet the memmap ...\n",
      "filter and detect spikes ...\n"
     ]
    },
    {
     "name": "stderr",
     "output_type": "stream",
     "text": [
      "[Parallel(n_jobs=10)]: Done   5 tasks      | elapsed:    9.4s\n",
      "[Parallel(n_jobs=10)]: Done  12 tasks      | elapsed:   18.8s\n",
      "[Parallel(n_jobs=10)]: Done  21 tasks      | elapsed:   18.8s\n",
      "[Parallel(n_jobs=10)]: Done  30 tasks      | elapsed:   18.9s\n",
      "[Parallel(n_jobs=10)]: Done  41 tasks      | elapsed:   19.0s\n",
      "[Parallel(n_jobs=10)]: Done  52 tasks      | elapsed:   19.1s\n",
      "[Parallel(n_jobs=10)]: Batch computation too fast (0.1927s.) Setting batch_size=2.\n",
      "[Parallel(n_jobs=10)]: Done  65 tasks      | elapsed:   19.2s\n",
      "[Parallel(n_jobs=10)]: Batch computation too fast (0.1812s.) Setting batch_size=4.\n",
      "[Parallel(n_jobs=10)]: Done  85 tasks      | elapsed:   19.3s\n",
      "[Parallel(n_jobs=10)]: Done 119 tasks      | elapsed:   19.6s\n",
      "[Parallel(n_jobs=10)]: Done 179 tasks      | elapsed:   20.0s\n",
      "[Parallel(n_jobs=10)]: Done 247 tasks      | elapsed:   20.5s\n",
      "[Parallel(n_jobs=10)]: Done 384 out of 384 | elapsed:   21.5s finished\n"
     ]
    },
    {
     "name": "stdout",
     "output_type": "stream",
     "text": [
      "for one slice: 28.15\n",
      "0. slice saved\n",
      "(384, 600000)\n",
      "start the 0. slice\n",
      "load data into RAM ...\n",
      "(384, 600000)\n",
      "delet the memmap ...\n",
      "filter and detect spikes ...\n"
     ]
    },
    {
     "name": "stderr",
     "output_type": "stream",
     "text": [
      "[Parallel(n_jobs=10)]: Done   5 tasks      | elapsed:    9.4s\n",
      "[Parallel(n_jobs=10)]: Done  12 tasks      | elapsed:   18.8s\n",
      "[Parallel(n_jobs=10)]: Done  21 tasks      | elapsed:   18.8s\n",
      "[Parallel(n_jobs=10)]: Done  30 tasks      | elapsed:   18.9s\n",
      "[Parallel(n_jobs=10)]: Done  41 tasks      | elapsed:   19.0s\n",
      "[Parallel(n_jobs=10)]: Done  52 tasks      | elapsed:   19.1s\n",
      "[Parallel(n_jobs=10)]: Batch computation too fast (0.1961s.) Setting batch_size=2.\n",
      "[Parallel(n_jobs=10)]: Done  65 tasks      | elapsed:   19.1s\n",
      "[Parallel(n_jobs=10)]: Batch computation too fast (0.1792s.) Setting batch_size=4.\n",
      "[Parallel(n_jobs=10)]: Done  85 tasks      | elapsed:   19.3s\n",
      "[Parallel(n_jobs=10)]: Done 119 tasks      | elapsed:   19.6s\n",
      "[Parallel(n_jobs=10)]: Done 179 tasks      | elapsed:   20.0s\n",
      "[Parallel(n_jobs=10)]: Done 247 tasks      | elapsed:   20.5s\n",
      "[Parallel(n_jobs=10)]: Done 384 out of 384 | elapsed:   21.5s finished\n"
     ]
    },
    {
     "name": "stdout",
     "output_type": "stream",
     "text": [
      "for one slice: 28.13\n",
      "0. slice saved\n",
      "(384, 600000)\n",
      "start the 0. slice\n",
      "load data into RAM ...\n",
      "(384, 600000)\n",
      "delet the memmap ...\n",
      "filter and detect spikes ...\n"
     ]
    },
    {
     "name": "stderr",
     "output_type": "stream",
     "text": [
      "[Parallel(n_jobs=10)]: Done   5 tasks      | elapsed:    9.5s\n",
      "[Parallel(n_jobs=10)]: Done  12 tasks      | elapsed:   18.8s\n",
      "[Parallel(n_jobs=10)]: Done  21 tasks      | elapsed:   18.9s\n",
      "[Parallel(n_jobs=10)]: Done  30 tasks      | elapsed:   18.9s\n",
      "[Parallel(n_jobs=10)]: Done  41 tasks      | elapsed:   19.0s\n",
      "[Parallel(n_jobs=10)]: Done  52 tasks      | elapsed:   19.1s\n",
      "[Parallel(n_jobs=10)]: Batch computation too fast (0.1949s.) Setting batch_size=2.\n",
      "[Parallel(n_jobs=10)]: Done  65 tasks      | elapsed:   19.2s\n",
      "[Parallel(n_jobs=10)]: Batch computation too fast (0.1762s.) Setting batch_size=4.\n",
      "[Parallel(n_jobs=10)]: Done  85 tasks      | elapsed:   19.3s\n",
      "[Parallel(n_jobs=10)]: Done 119 tasks      | elapsed:   19.6s\n",
      "[Parallel(n_jobs=10)]: Done 179 tasks      | elapsed:   20.1s\n",
      "[Parallel(n_jobs=10)]: Done 247 tasks      | elapsed:   20.6s\n",
      "[Parallel(n_jobs=10)]: Done 384 out of 384 | elapsed:   21.5s finished\n"
     ]
    },
    {
     "name": "stdout",
     "output_type": "stream",
     "text": [
      "for one slice: 28.09\n",
      "0. slice saved\n",
      "(384, 600000)\n",
      "start the 0. slice\n",
      "load data into RAM ...\n",
      "(384, 600000)\n",
      "delet the memmap ...\n",
      "filter and detect spikes ...\n"
     ]
    },
    {
     "name": "stderr",
     "output_type": "stream",
     "text": [
      "[Parallel(n_jobs=10)]: Done   5 tasks      | elapsed:    9.4s\n",
      "[Parallel(n_jobs=10)]: Done  12 tasks      | elapsed:   18.7s\n",
      "[Parallel(n_jobs=10)]: Done  21 tasks      | elapsed:   18.8s\n",
      "[Parallel(n_jobs=10)]: Done  30 tasks      | elapsed:   18.9s\n",
      "[Parallel(n_jobs=10)]: Done  41 tasks      | elapsed:   19.0s\n",
      "[Parallel(n_jobs=10)]: Done  52 tasks      | elapsed:   19.0s\n",
      "[Parallel(n_jobs=10)]: Batch computation too fast (0.1947s.) Setting batch_size=2.\n",
      "[Parallel(n_jobs=10)]: Done  65 tasks      | elapsed:   19.1s\n",
      "[Parallel(n_jobs=10)]: Batch computation too fast (0.1792s.) Setting batch_size=4.\n",
      "[Parallel(n_jobs=10)]: Done  85 tasks      | elapsed:   19.3s\n",
      "[Parallel(n_jobs=10)]: Done 119 tasks      | elapsed:   19.6s\n",
      "[Parallel(n_jobs=10)]: Done 179 tasks      | elapsed:   20.0s\n",
      "[Parallel(n_jobs=10)]: Done 247 tasks      | elapsed:   20.5s\n",
      "[Parallel(n_jobs=10)]: Done 384 out of 384 | elapsed:   21.5s finished\n"
     ]
    },
    {
     "name": "stdout",
     "output_type": "stream",
     "text": [
      "for one slice: 28.12\n",
      "0. slice saved\n",
      "(384, 600000)\n",
      "start the 0. slice\n",
      "load data into RAM ...\n",
      "(384, 600000)\n",
      "delet the memmap ...\n",
      "filter and detect spikes ...\n"
     ]
    },
    {
     "name": "stderr",
     "output_type": "stream",
     "text": [
      "[Parallel(n_jobs=10)]: Done   5 tasks      | elapsed:    9.5s\n",
      "[Parallel(n_jobs=10)]: Done  12 tasks      | elapsed:   18.8s\n",
      "[Parallel(n_jobs=10)]: Done  21 tasks      | elapsed:   18.9s\n",
      "[Parallel(n_jobs=10)]: Done  30 tasks      | elapsed:   19.0s\n",
      "[Parallel(n_jobs=10)]: Done  41 tasks      | elapsed:   19.0s\n",
      "[Parallel(n_jobs=10)]: Done  52 tasks      | elapsed:   19.1s\n",
      "[Parallel(n_jobs=10)]: Batch computation too fast (0.1968s.) Setting batch_size=2.\n",
      "[Parallel(n_jobs=10)]: Done  65 tasks      | elapsed:   19.2s\n",
      "[Parallel(n_jobs=10)]: Batch computation too fast (0.1832s.) Setting batch_size=4.\n",
      "[Parallel(n_jobs=10)]: Done  85 tasks      | elapsed:   19.4s\n",
      "[Parallel(n_jobs=10)]: Done 119 tasks      | elapsed:   19.7s\n",
      "[Parallel(n_jobs=10)]: Done 179 tasks      | elapsed:   20.1s\n",
      "[Parallel(n_jobs=10)]: Done 247 tasks      | elapsed:   20.6s\n",
      "[Parallel(n_jobs=10)]: Done 384 out of 384 | elapsed:   21.6s finished\n"
     ]
    },
    {
     "name": "stdout",
     "output_type": "stream",
     "text": [
      "for one slice: 28.22\n",
      "0. slice saved\n",
      "(384, 600000)\n",
      "start the 0. slice\n",
      "load data into RAM ...\n",
      "(384, 600000)\n",
      "delet the memmap ...\n",
      "filter and detect spikes ...\n"
     ]
    },
    {
     "name": "stderr",
     "output_type": "stream",
     "text": [
      "[Parallel(n_jobs=10)]: Done   5 tasks      | elapsed:    9.5s\n",
      "[Parallel(n_jobs=10)]: Done  12 tasks      | elapsed:   18.7s\n",
      "[Parallel(n_jobs=10)]: Done  21 tasks      | elapsed:   18.8s\n",
      "[Parallel(n_jobs=10)]: Done  30 tasks      | elapsed:   18.9s\n",
      "[Parallel(n_jobs=10)]: Done  41 tasks      | elapsed:   19.0s\n",
      "[Parallel(n_jobs=10)]: Done  52 tasks      | elapsed:   19.0s\n",
      "[Parallel(n_jobs=10)]: Batch computation too fast (0.1974s.) Setting batch_size=2.\n",
      "[Parallel(n_jobs=10)]: Done  65 tasks      | elapsed:   19.1s\n",
      "[Parallel(n_jobs=10)]: Batch computation too fast (0.1782s.) Setting batch_size=4.\n",
      "[Parallel(n_jobs=10)]: Done  85 tasks      | elapsed:   19.3s\n",
      "[Parallel(n_jobs=10)]: Done 119 tasks      | elapsed:   19.6s\n",
      "[Parallel(n_jobs=10)]: Done 179 tasks      | elapsed:   20.0s\n",
      "[Parallel(n_jobs=10)]: Done 247 tasks      | elapsed:   20.5s\n",
      "[Parallel(n_jobs=10)]: Done 384 out of 384 | elapsed:   21.5s finished\n"
     ]
    },
    {
     "name": "stdout",
     "output_type": "stream",
     "text": [
      "for one slice: 28.13\n",
      "0. slice saved\n",
      "(384, 600000)\n",
      "start the 0. slice\n",
      "load data into RAM ...\n",
      "(384, 600000)\n",
      "delet the memmap ...\n",
      "filter and detect spikes ...\n"
     ]
    },
    {
     "name": "stderr",
     "output_type": "stream",
     "text": [
      "[Parallel(n_jobs=10)]: Done   5 tasks      | elapsed:    9.5s\n",
      "[Parallel(n_jobs=10)]: Done  12 tasks      | elapsed:   19.1s\n",
      "[Parallel(n_jobs=10)]: Done  21 tasks      | elapsed:   19.2s\n",
      "[Parallel(n_jobs=10)]: Done  30 tasks      | elapsed:   19.3s\n",
      "[Parallel(n_jobs=10)]: Done  41 tasks      | elapsed:   19.3s\n",
      "[Parallel(n_jobs=10)]: Done  52 tasks      | elapsed:   19.4s\n",
      "[Parallel(n_jobs=10)]: Batch computation too fast (0.1973s.) Setting batch_size=2.\n",
      "[Parallel(n_jobs=10)]: Done  65 tasks      | elapsed:   19.5s\n",
      "[Parallel(n_jobs=10)]: Batch computation too fast (0.1792s.) Setting batch_size=4.\n",
      "[Parallel(n_jobs=10)]: Done  85 tasks      | elapsed:   19.7s\n",
      "[Parallel(n_jobs=10)]: Done 119 tasks      | elapsed:   20.0s\n",
      "[Parallel(n_jobs=10)]: Done 179 tasks      | elapsed:   20.4s\n",
      "[Parallel(n_jobs=10)]: Done 247 tasks      | elapsed:   20.9s\n",
      "[Parallel(n_jobs=10)]: Done 384 out of 384 | elapsed:   21.9s finished\n"
     ]
    },
    {
     "name": "stdout",
     "output_type": "stream",
     "text": [
      "for one slice: 28.46\n",
      "0. slice saved\n",
      "done for the whole recording\n",
      "create a memmap\n",
      "(384, 600000)\n",
      "start the 0. slice\n",
      "load data into RAM ...\n",
      "(384, 600000)\n",
      "delet the memmap ...\n",
      "filter and detect spikes ...\n"
     ]
    },
    {
     "name": "stderr",
     "output_type": "stream",
     "text": [
      "[Parallel(n_jobs=10)]: Done   5 tasks      | elapsed:    9.5s\n",
      "[Parallel(n_jobs=10)]: Done  12 tasks      | elapsed:   18.8s\n",
      "[Parallel(n_jobs=10)]: Done  21 tasks      | elapsed:   18.9s\n",
      "[Parallel(n_jobs=10)]: Done  30 tasks      | elapsed:   19.0s\n",
      "[Parallel(n_jobs=10)]: Done  41 tasks      | elapsed:   19.0s\n",
      "[Parallel(n_jobs=10)]: Done  52 tasks      | elapsed:   19.1s\n",
      "[Parallel(n_jobs=10)]: Batch computation too fast (0.1904s.) Setting batch_size=2.\n",
      "[Parallel(n_jobs=10)]: Done  65 tasks      | elapsed:   19.2s\n",
      "[Parallel(n_jobs=10)]: Batch computation too fast (0.1722s.) Setting batch_size=4.\n",
      "[Parallel(n_jobs=10)]: Done  85 tasks      | elapsed:   19.4s\n",
      "[Parallel(n_jobs=10)]: Done 119 tasks      | elapsed:   19.7s\n",
      "[Parallel(n_jobs=10)]: Done 179 tasks      | elapsed:   20.1s\n",
      "[Parallel(n_jobs=10)]: Done 247 tasks      | elapsed:   20.6s\n",
      "[Parallel(n_jobs=10)]: Done 384 out of 384 | elapsed:   21.5s finished\n"
     ]
    },
    {
     "name": "stdout",
     "output_type": "stream",
     "text": [
      "for one slice: 28.06\n",
      "0. slice saved\n",
      "(384, 600000)\n",
      "start the 0. slice\n",
      "load data into RAM ...\n",
      "(384, 600000)\n",
      "delet the memmap ...\n",
      "filter and detect spikes ...\n"
     ]
    },
    {
     "name": "stderr",
     "output_type": "stream",
     "text": [
      "[Parallel(n_jobs=10)]: Done   5 tasks      | elapsed:    9.4s\n",
      "[Parallel(n_jobs=10)]: Done  12 tasks      | elapsed:   18.8s\n",
      "[Parallel(n_jobs=10)]: Done  21 tasks      | elapsed:   18.8s\n",
      "[Parallel(n_jobs=10)]: Done  30 tasks      | elapsed:   18.9s\n",
      "[Parallel(n_jobs=10)]: Done  41 tasks      | elapsed:   19.0s\n",
      "[Parallel(n_jobs=10)]: Done  52 tasks      | elapsed:   19.1s\n",
      "[Parallel(n_jobs=10)]: Batch computation too fast (0.1947s.) Setting batch_size=2.\n",
      "[Parallel(n_jobs=10)]: Done  65 tasks      | elapsed:   19.2s\n",
      "[Parallel(n_jobs=10)]: Batch computation too fast (0.1762s.) Setting batch_size=4.\n",
      "[Parallel(n_jobs=10)]: Done  85 tasks      | elapsed:   19.3s\n",
      "[Parallel(n_jobs=10)]: Done 119 tasks      | elapsed:   19.6s\n",
      "[Parallel(n_jobs=10)]: Done 179 tasks      | elapsed:   20.0s\n",
      "[Parallel(n_jobs=10)]: Done 247 tasks      | elapsed:   20.5s\n",
      "[Parallel(n_jobs=10)]: Done 384 out of 384 | elapsed:   21.4s finished\n"
     ]
    },
    {
     "name": "stdout",
     "output_type": "stream",
     "text": [
      "for one slice: 28.12\n",
      "0. slice saved\n",
      "(384, 600000)\n",
      "start the 0. slice\n",
      "load data into RAM ...\n",
      "(384, 600000)\n",
      "delet the memmap ...\n",
      "filter and detect spikes ...\n"
     ]
    },
    {
     "name": "stderr",
     "output_type": "stream",
     "text": [
      "[Parallel(n_jobs=10)]: Done   5 tasks      | elapsed:    9.4s\n",
      "[Parallel(n_jobs=10)]: Done  12 tasks      | elapsed:   18.8s\n",
      "[Parallel(n_jobs=10)]: Done  21 tasks      | elapsed:   18.8s\n",
      "[Parallel(n_jobs=10)]: Done  30 tasks      | elapsed:   18.9s\n",
      "[Parallel(n_jobs=10)]: Done  41 tasks      | elapsed:   19.0s\n",
      "[Parallel(n_jobs=10)]: Done  52 tasks      | elapsed:   19.1s\n",
      "[Parallel(n_jobs=10)]: Batch computation too fast (0.1960s.) Setting batch_size=2.\n",
      "[Parallel(n_jobs=10)]: Done  65 tasks      | elapsed:   19.2s\n",
      "[Parallel(n_jobs=10)]: Batch computation too fast (0.1792s.) Setting batch_size=4.\n",
      "[Parallel(n_jobs=10)]: Done  85 tasks      | elapsed:   19.3s\n",
      "[Parallel(n_jobs=10)]: Done 119 tasks      | elapsed:   19.6s\n",
      "[Parallel(n_jobs=10)]: Done 179 tasks      | elapsed:   20.0s\n",
      "[Parallel(n_jobs=10)]: Done 247 tasks      | elapsed:   20.5s\n",
      "[Parallel(n_jobs=10)]: Done 384 out of 384 | elapsed:   21.5s finished\n"
     ]
    },
    {
     "name": "stdout",
     "output_type": "stream",
     "text": [
      "for one slice: 28.08\n",
      "0. slice saved\n",
      "(384, 600000)\n",
      "start the 0. slice\n",
      "load data into RAM ...\n",
      "(384, 600000)\n",
      "delet the memmap ...\n",
      "filter and detect spikes ...\n"
     ]
    },
    {
     "name": "stderr",
     "output_type": "stream",
     "text": [
      "[Parallel(n_jobs=10)]: Done   5 tasks      | elapsed:    9.4s\n",
      "[Parallel(n_jobs=10)]: Done  12 tasks      | elapsed:   18.8s\n",
      "[Parallel(n_jobs=10)]: Done  21 tasks      | elapsed:   18.8s\n",
      "[Parallel(n_jobs=10)]: Done  30 tasks      | elapsed:   18.9s\n",
      "[Parallel(n_jobs=10)]: Done  41 tasks      | elapsed:   19.0s\n",
      "[Parallel(n_jobs=10)]: Done  52 tasks      | elapsed:   19.1s\n",
      "[Parallel(n_jobs=10)]: Batch computation too fast (0.1945s.) Setting batch_size=2.\n",
      "[Parallel(n_jobs=10)]: Done  65 tasks      | elapsed:   19.2s\n",
      "[Parallel(n_jobs=10)]: Done  85 tasks      | elapsed:   19.3s\n",
      "[Parallel(n_jobs=10)]: Done 115 tasks      | elapsed:   19.6s\n",
      "[Parallel(n_jobs=10)]: Done 145 tasks      | elapsed:   19.8s\n",
      "[Parallel(n_jobs=10)]: Done 179 tasks      | elapsed:   20.0s\n",
      "[Parallel(n_jobs=10)]: Done 213 tasks      | elapsed:   20.3s\n",
      "[Parallel(n_jobs=10)]: Done 251 tasks      | elapsed:   20.5s\n",
      "[Parallel(n_jobs=10)]: Done 289 tasks      | elapsed:   20.8s\n",
      "[Parallel(n_jobs=10)]: Done 331 tasks      | elapsed:   21.1s\n",
      "[Parallel(n_jobs=10)]: Done 365 out of 384 | elapsed:   21.4s remaining:    1.0s\n",
      "[Parallel(n_jobs=10)]: Done 384 out of 384 | elapsed:   21.5s finished\n"
     ]
    },
    {
     "name": "stdout",
     "output_type": "stream",
     "text": [
      "for one slice: 28.00\n",
      "0. slice saved\n",
      "(384, 600000)\n",
      "start the 0. slice\n",
      "load data into RAM ...\n",
      "(384, 600000)\n",
      "delet the memmap ...\n",
      "filter and detect spikes ...\n"
     ]
    },
    {
     "name": "stderr",
     "output_type": "stream",
     "text": [
      "[Parallel(n_jobs=10)]: Done   5 tasks      | elapsed:    9.4s\n",
      "[Parallel(n_jobs=10)]: Done  12 tasks      | elapsed:   18.8s\n",
      "[Parallel(n_jobs=10)]: Done  21 tasks      | elapsed:   18.9s\n",
      "[Parallel(n_jobs=10)]: Done  30 tasks      | elapsed:   18.9s\n",
      "[Parallel(n_jobs=10)]: Done  41 tasks      | elapsed:   19.0s\n",
      "[Parallel(n_jobs=10)]: Done  52 tasks      | elapsed:   19.1s\n",
      "[Parallel(n_jobs=10)]: Batch computation too fast (0.1960s.) Setting batch_size=2.\n",
      "[Parallel(n_jobs=10)]: Done  65 tasks      | elapsed:   19.2s\n",
      "[Parallel(n_jobs=10)]: Batch computation too fast (0.1792s.) Setting batch_size=4.\n",
      "[Parallel(n_jobs=10)]: Done  85 tasks      | elapsed:   19.4s\n",
      "[Parallel(n_jobs=10)]: Done 119 tasks      | elapsed:   19.6s\n",
      "[Parallel(n_jobs=10)]: Done 179 tasks      | elapsed:   20.1s\n",
      "[Parallel(n_jobs=10)]: Done 247 tasks      | elapsed:   20.6s\n",
      "[Parallel(n_jobs=10)]: Done 384 out of 384 | elapsed:   21.5s finished\n"
     ]
    },
    {
     "name": "stdout",
     "output_type": "stream",
     "text": [
      "for one slice: 28.00\n",
      "0. slice saved\n",
      "(384, 600000)\n",
      "start the 0. slice\n",
      "load data into RAM ...\n",
      "(384, 600000)\n",
      "delet the memmap ...\n",
      "filter and detect spikes ...\n"
     ]
    },
    {
     "name": "stderr",
     "output_type": "stream",
     "text": [
      "[Parallel(n_jobs=10)]: Done   5 tasks      | elapsed:    9.4s\n",
      "[Parallel(n_jobs=10)]: Done  12 tasks      | elapsed:   18.8s\n",
      "[Parallel(n_jobs=10)]: Done  21 tasks      | elapsed:   18.8s\n",
      "[Parallel(n_jobs=10)]: Done  30 tasks      | elapsed:   18.9s\n",
      "[Parallel(n_jobs=10)]: Done  41 tasks      | elapsed:   19.0s\n",
      "[Parallel(n_jobs=10)]: Done  52 tasks      | elapsed:   19.1s\n",
      "[Parallel(n_jobs=10)]: Batch computation too fast (0.1960s.) Setting batch_size=2.\n",
      "[Parallel(n_jobs=10)]: Done  65 tasks      | elapsed:   19.2s\n",
      "[Parallel(n_jobs=10)]: Batch computation too fast (0.1792s.) Setting batch_size=4.\n",
      "[Parallel(n_jobs=10)]: Done  85 tasks      | elapsed:   19.3s\n",
      "[Parallel(n_jobs=10)]: Done 119 tasks      | elapsed:   19.6s\n",
      "[Parallel(n_jobs=10)]: Done 179 tasks      | elapsed:   20.1s\n",
      "[Parallel(n_jobs=10)]: Done 247 tasks      | elapsed:   20.6s\n",
      "[Parallel(n_jobs=10)]: Done 384 out of 384 | elapsed:   21.5s finished\n"
     ]
    },
    {
     "name": "stdout",
     "output_type": "stream",
     "text": [
      "for one slice: 28.00\n",
      "0. slice saved\n",
      "(384, 600000)\n",
      "start the 0. slice\n",
      "load data into RAM ...\n",
      "(384, 600000)\n",
      "delet the memmap ...\n",
      "filter and detect spikes ...\n"
     ]
    },
    {
     "name": "stderr",
     "output_type": "stream",
     "text": [
      "[Parallel(n_jobs=10)]: Done   5 tasks      | elapsed:    9.4s\n",
      "[Parallel(n_jobs=10)]: Done  12 tasks      | elapsed:   18.7s\n",
      "[Parallel(n_jobs=10)]: Done  21 tasks      | elapsed:   18.8s\n",
      "[Parallel(n_jobs=10)]: Done  30 tasks      | elapsed:   18.9s\n",
      "[Parallel(n_jobs=10)]: Done  41 tasks      | elapsed:   18.9s\n",
      "[Parallel(n_jobs=10)]: Done  52 tasks      | elapsed:   19.0s\n",
      "[Parallel(n_jobs=10)]: Batch computation too fast (0.1904s.) Setting batch_size=2.\n",
      "[Parallel(n_jobs=10)]: Done  65 tasks      | elapsed:   19.1s\n",
      "[Parallel(n_jobs=10)]: Batch computation too fast (0.1772s.) Setting batch_size=4.\n",
      "[Parallel(n_jobs=10)]: Done  85 tasks      | elapsed:   19.3s\n",
      "[Parallel(n_jobs=10)]: Done 119 tasks      | elapsed:   19.6s\n",
      "[Parallel(n_jobs=10)]: Done 179 tasks      | elapsed:   20.0s\n",
      "[Parallel(n_jobs=10)]: Done 247 tasks      | elapsed:   20.5s\n",
      "[Parallel(n_jobs=10)]: Done 384 out of 384 | elapsed:   21.4s finished\n"
     ]
    },
    {
     "name": "stdout",
     "output_type": "stream",
     "text": [
      "for one slice: 27.93\n",
      "0. slice saved\n",
      "(384, 600000)\n",
      "start the 0. slice\n",
      "load data into RAM ...\n",
      "(384, 600000)\n",
      "delet the memmap ...\n",
      "filter and detect spikes ...\n"
     ]
    },
    {
     "name": "stderr",
     "output_type": "stream",
     "text": [
      "[Parallel(n_jobs=10)]: Done   5 tasks      | elapsed:    9.4s\n",
      "[Parallel(n_jobs=10)]: Done  12 tasks      | elapsed:   18.7s\n",
      "[Parallel(n_jobs=10)]: Done  21 tasks      | elapsed:   18.8s\n",
      "[Parallel(n_jobs=10)]: Done  30 tasks      | elapsed:   18.9s\n",
      "[Parallel(n_jobs=10)]: Done  41 tasks      | elapsed:   19.0s\n",
      "[Parallel(n_jobs=10)]: Done  52 tasks      | elapsed:   19.0s\n",
      "[Parallel(n_jobs=10)]: Batch computation too fast (0.1963s.) Setting batch_size=2.\n",
      "[Parallel(n_jobs=10)]: Done  65 tasks      | elapsed:   19.1s\n",
      "[Parallel(n_jobs=10)]: Batch computation too fast (0.1822s.) Setting batch_size=4.\n",
      "[Parallel(n_jobs=10)]: Done  85 tasks      | elapsed:   19.3s\n",
      "[Parallel(n_jobs=10)]: Done 119 tasks      | elapsed:   19.6s\n",
      "[Parallel(n_jobs=10)]: Done 179 tasks      | elapsed:   20.0s\n",
      "[Parallel(n_jobs=10)]: Done 247 tasks      | elapsed:   20.5s\n",
      "[Parallel(n_jobs=10)]: Done 384 out of 384 | elapsed:   21.5s finished\n"
     ]
    },
    {
     "name": "stdout",
     "output_type": "stream",
     "text": [
      "for one slice: 28.12\n",
      "0. slice saved\n",
      "(384, 600000)\n",
      "start the 0. slice\n",
      "load data into RAM ...\n",
      "(384, 600000)\n",
      "delet the memmap ...\n",
      "filter and detect spikes ...\n"
     ]
    },
    {
     "name": "stderr",
     "output_type": "stream",
     "text": [
      "[Parallel(n_jobs=10)]: Done   5 tasks      | elapsed:    9.5s\n",
      "[Parallel(n_jobs=10)]: Done  12 tasks      | elapsed:   18.8s\n",
      "[Parallel(n_jobs=10)]: Done  21 tasks      | elapsed:   18.8s\n",
      "[Parallel(n_jobs=10)]: Done  30 tasks      | elapsed:   18.9s\n",
      "[Parallel(n_jobs=10)]: Done  41 tasks      | elapsed:   19.0s\n",
      "[Parallel(n_jobs=10)]: Done  52 tasks      | elapsed:   19.1s\n",
      "[Parallel(n_jobs=10)]: Batch computation too fast (0.1963s.) Setting batch_size=2.\n",
      "[Parallel(n_jobs=10)]: Done  65 tasks      | elapsed:   19.2s\n",
      "[Parallel(n_jobs=10)]: Batch computation too fast (0.1742s.) Setting batch_size=4.\n",
      "[Parallel(n_jobs=10)]: Done  85 tasks      | elapsed:   19.3s\n",
      "[Parallel(n_jobs=10)]: Done 119 tasks      | elapsed:   19.6s\n",
      "[Parallel(n_jobs=10)]: Done 179 tasks      | elapsed:   20.0s\n",
      "[Parallel(n_jobs=10)]: Done 247 tasks      | elapsed:   20.5s\n",
      "[Parallel(n_jobs=10)]: Done 384 out of 384 | elapsed:   21.5s finished\n"
     ]
    },
    {
     "name": "stdout",
     "output_type": "stream",
     "text": [
      "for one slice: 28.10\n",
      "0. slice saved\n",
      "(384, 600000)\n",
      "start the 0. slice\n",
      "load data into RAM ...\n",
      "(384, 600000)\n",
      "delet the memmap ...\n",
      "filter and detect spikes ...\n"
     ]
    },
    {
     "name": "stderr",
     "output_type": "stream",
     "text": [
      "[Parallel(n_jobs=10)]: Done   5 tasks      | elapsed:    9.4s\n",
      "[Parallel(n_jobs=10)]: Done  12 tasks      | elapsed:   18.7s\n",
      "[Parallel(n_jobs=10)]: Done  21 tasks      | elapsed:   18.8s\n",
      "[Parallel(n_jobs=10)]: Done  30 tasks      | elapsed:   18.9s\n",
      "[Parallel(n_jobs=10)]: Done  41 tasks      | elapsed:   18.9s\n",
      "[Parallel(n_jobs=10)]: Done  52 tasks      | elapsed:   19.0s\n",
      "[Parallel(n_jobs=10)]: Batch computation too fast (0.1941s.) Setting batch_size=2.\n",
      "[Parallel(n_jobs=10)]: Done  65 tasks      | elapsed:   19.1s\n",
      "[Parallel(n_jobs=10)]: Batch computation too fast (0.1762s.) Setting batch_size=4.\n",
      "[Parallel(n_jobs=10)]: Done  85 tasks      | elapsed:   19.3s\n",
      "[Parallel(n_jobs=10)]: Done 119 tasks      | elapsed:   19.6s\n",
      "[Parallel(n_jobs=10)]: Done 179 tasks      | elapsed:   20.0s\n",
      "[Parallel(n_jobs=10)]: Done 247 tasks      | elapsed:   20.5s\n",
      "[Parallel(n_jobs=10)]: Done 384 out of 384 | elapsed:   21.5s finished\n"
     ]
    },
    {
     "name": "stdout",
     "output_type": "stream",
     "text": [
      "for one slice: 28.11\n",
      "0. slice saved\n",
      "(384, 600000)\n",
      "start the 0. slice\n",
      "load data into RAM ...\n",
      "(384, 600000)\n",
      "delet the memmap ...\n",
      "filter and detect spikes ...\n"
     ]
    },
    {
     "name": "stderr",
     "output_type": "stream",
     "text": [
      "[Parallel(n_jobs=10)]: Done   5 tasks      | elapsed:    9.7s\n",
      "[Parallel(n_jobs=10)]: Done  12 tasks      | elapsed:   19.0s\n",
      "[Parallel(n_jobs=10)]: Done  21 tasks      | elapsed:   19.1s\n",
      "[Parallel(n_jobs=10)]: Done  30 tasks      | elapsed:   19.1s\n",
      "[Parallel(n_jobs=10)]: Done  41 tasks      | elapsed:   19.2s\n",
      "[Parallel(n_jobs=10)]: Done  52 tasks      | elapsed:   19.3s\n",
      "[Parallel(n_jobs=10)]: Batch computation too fast (0.1968s.) Setting batch_size=2.\n",
      "[Parallel(n_jobs=10)]: Done  65 tasks      | elapsed:   19.4s\n",
      "[Parallel(n_jobs=10)]: Batch computation too fast (0.1802s.) Setting batch_size=4.\n",
      "[Parallel(n_jobs=10)]: Done  85 tasks      | elapsed:   19.6s\n",
      "[Parallel(n_jobs=10)]: Done 119 tasks      | elapsed:   19.8s\n",
      "[Parallel(n_jobs=10)]: Done 179 tasks      | elapsed:   20.3s\n",
      "[Parallel(n_jobs=10)]: Done 247 tasks      | elapsed:   20.8s\n",
      "[Parallel(n_jobs=10)]: Done 384 out of 384 | elapsed:   21.7s finished\n"
     ]
    },
    {
     "name": "stdout",
     "output_type": "stream",
     "text": [
      "for one slice: 28.35\n",
      "0. slice saved\n",
      "(384, 600000)\n",
      "start the 0. slice\n",
      "load data into RAM ...\n",
      "(384, 600000)\n",
      "delet the memmap ...\n",
      "filter and detect spikes ...\n"
     ]
    },
    {
     "name": "stderr",
     "output_type": "stream",
     "text": [
      "[Parallel(n_jobs=10)]: Done   5 tasks      | elapsed:    9.4s\n",
      "[Parallel(n_jobs=10)]: Done  12 tasks      | elapsed:   18.8s\n",
      "[Parallel(n_jobs=10)]: Done  21 tasks      | elapsed:   18.8s\n",
      "[Parallel(n_jobs=10)]: Done  30 tasks      | elapsed:   18.9s\n",
      "[Parallel(n_jobs=10)]: Done  41 tasks      | elapsed:   19.0s\n",
      "[Parallel(n_jobs=10)]: Done  52 tasks      | elapsed:   19.0s\n",
      "[Parallel(n_jobs=10)]: Batch computation too fast (0.1971s.) Setting batch_size=2.\n",
      "[Parallel(n_jobs=10)]: Done  65 tasks      | elapsed:   19.1s\n",
      "[Parallel(n_jobs=10)]: Batch computation too fast (0.1802s.) Setting batch_size=4.\n",
      "[Parallel(n_jobs=10)]: Done  85 tasks      | elapsed:   19.3s\n",
      "[Parallel(n_jobs=10)]: Done 119 tasks      | elapsed:   19.6s\n",
      "[Parallel(n_jobs=10)]: Done 179 tasks      | elapsed:   20.0s\n",
      "[Parallel(n_jobs=10)]: Done 247 tasks      | elapsed:   20.5s\n",
      "[Parallel(n_jobs=10)]: Done 384 out of 384 | elapsed:   21.5s finished\n"
     ]
    },
    {
     "name": "stdout",
     "output_type": "stream",
     "text": [
      "for one slice: 28.07\n",
      "0. slice saved\n",
      "(384, 600000)\n",
      "start the 0. slice\n",
      "load data into RAM ...\n",
      "(384, 600000)\n",
      "delet the memmap ...\n",
      "filter and detect spikes ...\n"
     ]
    },
    {
     "name": "stderr",
     "output_type": "stream",
     "text": [
      "[Parallel(n_jobs=10)]: Done   5 tasks      | elapsed:    9.4s\n",
      "[Parallel(n_jobs=10)]: Done  12 tasks      | elapsed:   18.7s\n",
      "[Parallel(n_jobs=10)]: Done  21 tasks      | elapsed:   18.8s\n",
      "[Parallel(n_jobs=10)]: Done  30 tasks      | elapsed:   18.9s\n",
      "[Parallel(n_jobs=10)]: Done  41 tasks      | elapsed:   18.9s\n",
      "[Parallel(n_jobs=10)]: Done  52 tasks      | elapsed:   19.0s\n",
      "[Parallel(n_jobs=10)]: Batch computation too fast (0.1962s.) Setting batch_size=2.\n",
      "[Parallel(n_jobs=10)]: Done  65 tasks      | elapsed:   19.1s\n",
      "[Parallel(n_jobs=10)]: Batch computation too fast (0.1772s.) Setting batch_size=4.\n",
      "[Parallel(n_jobs=10)]: Done  85 tasks      | elapsed:   19.3s\n",
      "[Parallel(n_jobs=10)]: Done 119 tasks      | elapsed:   19.6s\n",
      "[Parallel(n_jobs=10)]: Done 179 tasks      | elapsed:   20.0s\n",
      "[Parallel(n_jobs=10)]: Done 247 tasks      | elapsed:   20.5s\n",
      "[Parallel(n_jobs=10)]: Done 384 out of 384 | elapsed:   21.5s finished\n"
     ]
    },
    {
     "name": "stdout",
     "output_type": "stream",
     "text": [
      "for one slice: 28.10\n",
      "0. slice saved\n",
      "(384, 600000)\n",
      "start the 0. slice\n",
      "load data into RAM ...\n",
      "(384, 600000)\n",
      "delet the memmap ...\n",
      "filter and detect spikes ...\n"
     ]
    },
    {
     "name": "stderr",
     "output_type": "stream",
     "text": [
      "[Parallel(n_jobs=10)]: Done   5 tasks      | elapsed:    9.4s\n",
      "[Parallel(n_jobs=10)]: Done  12 tasks      | elapsed:   18.8s\n",
      "[Parallel(n_jobs=10)]: Done  21 tasks      | elapsed:   18.8s\n",
      "[Parallel(n_jobs=10)]: Done  30 tasks      | elapsed:   18.9s\n",
      "[Parallel(n_jobs=10)]: Done  41 tasks      | elapsed:   19.0s\n",
      "[Parallel(n_jobs=10)]: Done  52 tasks      | elapsed:   19.1s\n",
      "[Parallel(n_jobs=10)]: Batch computation too fast (0.1954s.) Setting batch_size=2.\n",
      "[Parallel(n_jobs=10)]: Done  65 tasks      | elapsed:   19.2s\n",
      "[Parallel(n_jobs=10)]: Batch computation too fast (0.1782s.) Setting batch_size=4.\n",
      "[Parallel(n_jobs=10)]: Done  85 tasks      | elapsed:   19.3s\n",
      "[Parallel(n_jobs=10)]: Done 119 tasks      | elapsed:   19.6s\n",
      "[Parallel(n_jobs=10)]: Done 179 tasks      | elapsed:   20.1s\n",
      "[Parallel(n_jobs=10)]: Done 247 tasks      | elapsed:   20.5s\n",
      "[Parallel(n_jobs=10)]: Done 384 out of 384 | elapsed:   21.5s finished\n"
     ]
    },
    {
     "name": "stdout",
     "output_type": "stream",
     "text": [
      "for one slice: 28.14\n",
      "0. slice saved\n",
      "(384, 600000)\n",
      "start the 0. slice\n",
      "load data into RAM ...\n",
      "(384, 600000)\n",
      "delet the memmap ...\n",
      "filter and detect spikes ...\n"
     ]
    },
    {
     "name": "stderr",
     "output_type": "stream",
     "text": [
      "[Parallel(n_jobs=10)]: Done   5 tasks      | elapsed:    9.4s\n",
      "[Parallel(n_jobs=10)]: Done  12 tasks      | elapsed:   18.7s\n",
      "[Parallel(n_jobs=10)]: Done  21 tasks      | elapsed:   18.8s\n",
      "[Parallel(n_jobs=10)]: Done  30 tasks      | elapsed:   18.9s\n",
      "[Parallel(n_jobs=10)]: Done  41 tasks      | elapsed:   18.9s\n",
      "[Parallel(n_jobs=10)]: Batch computation too fast (0.1992s.) Setting batch_size=2.\n",
      "[Parallel(n_jobs=10)]: Done  52 tasks      | elapsed:   19.0s\n",
      "[Parallel(n_jobs=10)]: Done  65 tasks      | elapsed:   19.1s\n",
      "[Parallel(n_jobs=10)]: Batch computation too fast (0.1762s.) Setting batch_size=4.\n",
      "[Parallel(n_jobs=10)]: Done  86 tasks      | elapsed:   19.3s\n",
      "[Parallel(n_jobs=10)]: Done 122 tasks      | elapsed:   19.6s\n",
      "[Parallel(n_jobs=10)]: Done 182 tasks      | elapsed:   20.0s\n",
      "[Parallel(n_jobs=10)]: Done 250 tasks      | elapsed:   20.5s\n",
      "[Parallel(n_jobs=10)]: Done 326 out of 384 | elapsed:   21.0s remaining:    3.7s\n",
      "[Parallel(n_jobs=10)]: Done 384 out of 384 | elapsed:   21.4s finished\n"
     ]
    },
    {
     "name": "stdout",
     "output_type": "stream",
     "text": [
      "for one slice: 28.08\n",
      "0. slice saved\n",
      "(384, 600000)\n",
      "start the 0. slice\n",
      "load data into RAM ...\n",
      "(384, 600000)\n",
      "delet the memmap ...\n",
      "filter and detect spikes ...\n"
     ]
    },
    {
     "name": "stderr",
     "output_type": "stream",
     "text": [
      "[Parallel(n_jobs=10)]: Done   5 tasks      | elapsed:    9.4s\n",
      "[Parallel(n_jobs=10)]: Done  12 tasks      | elapsed:   18.8s\n",
      "[Parallel(n_jobs=10)]: Done  21 tasks      | elapsed:   18.8s\n",
      "[Parallel(n_jobs=10)]: Done  30 tasks      | elapsed:   18.9s\n",
      "[Parallel(n_jobs=10)]: Done  41 tasks      | elapsed:   19.0s\n",
      "[Parallel(n_jobs=10)]: Done  52 tasks      | elapsed:   19.0s\n",
      "[Parallel(n_jobs=10)]: Batch computation too fast (0.1956s.) Setting batch_size=2.\n",
      "[Parallel(n_jobs=10)]: Done  65 tasks      | elapsed:   19.1s\n",
      "[Parallel(n_jobs=10)]: Batch computation too fast (0.1812s.) Setting batch_size=4.\n",
      "[Parallel(n_jobs=10)]: Done  85 tasks      | elapsed:   19.3s\n",
      "[Parallel(n_jobs=10)]: Done 119 tasks      | elapsed:   19.6s\n",
      "[Parallel(n_jobs=10)]: Done 179 tasks      | elapsed:   20.0s\n",
      "[Parallel(n_jobs=10)]: Done 247 tasks      | elapsed:   20.5s\n",
      "[Parallel(n_jobs=10)]: Done 384 out of 384 | elapsed:   21.5s finished\n"
     ]
    },
    {
     "name": "stdout",
     "output_type": "stream",
     "text": [
      "for one slice: 28.12\n",
      "0. slice saved\n",
      "(384, 600000)\n",
      "start the 0. slice\n",
      "load data into RAM ...\n",
      "(384, 600000)\n",
      "delet the memmap ...\n",
      "filter and detect spikes ...\n"
     ]
    },
    {
     "name": "stderr",
     "output_type": "stream",
     "text": [
      "[Parallel(n_jobs=10)]: Done   5 tasks      | elapsed:    9.4s\n",
      "[Parallel(n_jobs=10)]: Done  12 tasks      | elapsed:   18.8s\n",
      "[Parallel(n_jobs=10)]: Done  21 tasks      | elapsed:   18.9s\n",
      "[Parallel(n_jobs=10)]: Done  30 tasks      | elapsed:   18.9s\n",
      "[Parallel(n_jobs=10)]: Done  41 tasks      | elapsed:   19.0s\n",
      "[Parallel(n_jobs=10)]: Done  52 tasks      | elapsed:   19.1s\n",
      "[Parallel(n_jobs=10)]: Batch computation too fast (0.1955s.) Setting batch_size=2.\n",
      "[Parallel(n_jobs=10)]: Done  65 tasks      | elapsed:   19.2s\n",
      "[Parallel(n_jobs=10)]: Done  84 tasks      | elapsed:   19.4s\n",
      "[Parallel(n_jobs=10)]: Done 114 tasks      | elapsed:   19.6s\n",
      "[Parallel(n_jobs=10)]: Done 144 tasks      | elapsed:   19.9s\n",
      "[Parallel(n_jobs=10)]: Done 178 tasks      | elapsed:   20.1s\n",
      "[Parallel(n_jobs=10)]: Done 212 tasks      | elapsed:   20.4s\n",
      "[Parallel(n_jobs=10)]: Done 250 tasks      | elapsed:   20.6s\n",
      "[Parallel(n_jobs=10)]: Done 288 tasks      | elapsed:   20.9s\n",
      "[Parallel(n_jobs=10)]: Done 330 tasks      | elapsed:   21.2s\n",
      "[Parallel(n_jobs=10)]: Done 384 out of 384 | elapsed:   21.6s finished\n"
     ]
    },
    {
     "name": "stdout",
     "output_type": "stream",
     "text": [
      "for one slice: 28.19\n",
      "0. slice saved\n",
      "(384, 600000)\n",
      "start the 0. slice\n",
      "load data into RAM ...\n",
      "(384, 600000)\n",
      "delet the memmap ...\n",
      "filter and detect spikes ...\n"
     ]
    },
    {
     "name": "stderr",
     "output_type": "stream",
     "text": [
      "[Parallel(n_jobs=10)]: Done   5 tasks      | elapsed:    9.5s\n",
      "[Parallel(n_jobs=10)]: Done  12 tasks      | elapsed:   18.8s\n",
      "[Parallel(n_jobs=10)]: Done  21 tasks      | elapsed:   18.8s\n",
      "[Parallel(n_jobs=10)]: Done  30 tasks      | elapsed:   18.9s\n",
      "[Parallel(n_jobs=10)]: Done  41 tasks      | elapsed:   19.0s\n",
      "[Parallel(n_jobs=10)]: Done  52 tasks      | elapsed:   19.0s\n",
      "[Parallel(n_jobs=10)]: Batch computation too fast (0.1940s.) Setting batch_size=2.\n",
      "[Parallel(n_jobs=10)]: Done  65 tasks      | elapsed:   19.1s\n",
      "[Parallel(n_jobs=10)]: Done  85 tasks      | elapsed:   19.3s\n",
      "[Parallel(n_jobs=10)]: Done 115 tasks      | elapsed:   19.5s\n",
      "[Parallel(n_jobs=10)]: Done 145 tasks      | elapsed:   19.8s\n",
      "[Parallel(n_jobs=10)]: Done 179 tasks      | elapsed:   20.0s\n",
      "[Parallel(n_jobs=10)]: Done 213 tasks      | elapsed:   20.2s\n",
      "[Parallel(n_jobs=10)]: Done 251 tasks      | elapsed:   20.5s\n",
      "[Parallel(n_jobs=10)]: Done 289 tasks      | elapsed:   20.8s\n",
      "[Parallel(n_jobs=10)]: Done 331 tasks      | elapsed:   21.1s\n",
      "[Parallel(n_jobs=10)]: Done 365 out of 384 | elapsed:   21.3s remaining:    1.0s\n",
      "[Parallel(n_jobs=10)]: Done 384 out of 384 | elapsed:   21.4s finished\n"
     ]
    },
    {
     "name": "stdout",
     "output_type": "stream",
     "text": [
      "for one slice: 28.13\n",
      "0. slice saved\n",
      "(384, 600000)\n",
      "start the 0. slice\n",
      "load data into RAM ...\n",
      "(384, 600000)\n",
      "delet the memmap ...\n",
      "filter and detect spikes ...\n"
     ]
    },
    {
     "name": "stderr",
     "output_type": "stream",
     "text": [
      "[Parallel(n_jobs=10)]: Done   5 tasks      | elapsed:    9.4s\n",
      "[Parallel(n_jobs=10)]: Done  12 tasks      | elapsed:   18.8s\n",
      "[Parallel(n_jobs=10)]: Done  21 tasks      | elapsed:   18.8s\n",
      "[Parallel(n_jobs=10)]: Done  30 tasks      | elapsed:   18.9s\n",
      "[Parallel(n_jobs=10)]: Done  41 tasks      | elapsed:   19.0s\n",
      "[Parallel(n_jobs=10)]: Done  52 tasks      | elapsed:   19.1s\n",
      "[Parallel(n_jobs=10)]: Batch computation too fast (0.1910s.) Setting batch_size=2.\n",
      "[Parallel(n_jobs=10)]: Done  65 tasks      | elapsed:   19.1s\n",
      "[Parallel(n_jobs=10)]: Batch computation too fast (0.1822s.) Setting batch_size=4.\n",
      "[Parallel(n_jobs=10)]: Done  84 tasks      | elapsed:   19.3s\n",
      "[Parallel(n_jobs=10)]: Done 116 tasks      | elapsed:   19.6s\n",
      "[Parallel(n_jobs=10)]: Done 176 tasks      | elapsed:   20.0s\n",
      "[Parallel(n_jobs=10)]: Done 244 tasks      | elapsed:   20.5s\n",
      "[Parallel(n_jobs=10)]: Done 384 out of 384 | elapsed:   21.5s finished\n"
     ]
    },
    {
     "name": "stdout",
     "output_type": "stream",
     "text": [
      "for one slice: 28.32\n",
      "0. slice saved\n",
      "(384, 600000)\n",
      "start the 0. slice\n",
      "load data into RAM ...\n",
      "(384, 600000)\n",
      "delet the memmap ...\n",
      "filter and detect spikes ...\n"
     ]
    },
    {
     "name": "stderr",
     "output_type": "stream",
     "text": [
      "[Parallel(n_jobs=10)]: Done   5 tasks      | elapsed:    9.4s\n",
      "[Parallel(n_jobs=10)]: Done  12 tasks      | elapsed:   18.7s\n",
      "[Parallel(n_jobs=10)]: Done  21 tasks      | elapsed:   18.8s\n",
      "[Parallel(n_jobs=10)]: Done  30 tasks      | elapsed:   18.8s\n",
      "[Parallel(n_jobs=10)]: Done  41 tasks      | elapsed:   18.9s\n",
      "[Parallel(n_jobs=10)]: Done  52 tasks      | elapsed:   19.0s\n",
      "[Parallel(n_jobs=10)]: Batch computation too fast (0.1892s.) Setting batch_size=2.\n",
      "[Parallel(n_jobs=10)]: Done  65 tasks      | elapsed:   19.1s\n",
      "[Parallel(n_jobs=10)]: Batch computation too fast (0.1752s.) Setting batch_size=4.\n",
      "[Parallel(n_jobs=10)]: Done  85 tasks      | elapsed:   19.3s\n",
      "[Parallel(n_jobs=10)]: Done 119 tasks      | elapsed:   19.6s\n",
      "[Parallel(n_jobs=10)]: Done 179 tasks      | elapsed:   20.0s\n",
      "[Parallel(n_jobs=10)]: Done 247 tasks      | elapsed:   20.5s\n",
      "[Parallel(n_jobs=10)]: Done 384 out of 384 | elapsed:   21.4s finished\n"
     ]
    },
    {
     "name": "stdout",
     "output_type": "stream",
     "text": [
      "for one slice: 28.44\n",
      "0. slice saved\n",
      "done for the whole recording\n",
      "create a memmap\n",
      "(384, 600000)\n",
      "start the 0. slice\n",
      "load data into RAM ...\n",
      "(384, 600000)\n",
      "delet the memmap ...\n",
      "filter and detect spikes ...\n"
     ]
    },
    {
     "name": "stderr",
     "output_type": "stream",
     "text": [
      "[Parallel(n_jobs=10)]: Done   5 tasks      | elapsed:    9.4s\n",
      "[Parallel(n_jobs=10)]: Done  12 tasks      | elapsed:   19.0s\n",
      "[Parallel(n_jobs=10)]: Done  21 tasks      | elapsed:   19.1s\n",
      "[Parallel(n_jobs=10)]: Done  30 tasks      | elapsed:   19.2s\n",
      "[Parallel(n_jobs=10)]: Done  41 tasks      | elapsed:   19.3s\n",
      "[Parallel(n_jobs=10)]: Done  52 tasks      | elapsed:   19.3s\n",
      "[Parallel(n_jobs=10)]: Batch computation too fast (0.1924s.) Setting batch_size=2.\n",
      "[Parallel(n_jobs=10)]: Done  65 tasks      | elapsed:   19.4s\n",
      "[Parallel(n_jobs=10)]: Batch computation too fast (0.1822s.) Setting batch_size=4.\n",
      "[Parallel(n_jobs=10)]: Done  84 tasks      | elapsed:   19.6s\n",
      "[Parallel(n_jobs=10)]: Done 116 tasks      | elapsed:   19.9s\n",
      "[Parallel(n_jobs=10)]: Done 176 tasks      | elapsed:   20.3s\n",
      "[Parallel(n_jobs=10)]: Done 244 tasks      | elapsed:   20.8s\n",
      "[Parallel(n_jobs=10)]: Done 384 out of 384 | elapsed:   21.8s finished\n"
     ]
    },
    {
     "name": "stdout",
     "output_type": "stream",
     "text": [
      "for one slice: 28.56\n",
      "0. slice saved\n",
      "(384, 600000)\n",
      "start the 0. slice\n",
      "load data into RAM ...\n",
      "(384, 600000)\n",
      "delet the memmap ...\n",
      "filter and detect spikes ...\n"
     ]
    },
    {
     "name": "stderr",
     "output_type": "stream",
     "text": [
      "[Parallel(n_jobs=10)]: Done   5 tasks      | elapsed:    9.4s\n",
      "[Parallel(n_jobs=10)]: Done  12 tasks      | elapsed:   18.7s\n",
      "[Parallel(n_jobs=10)]: Done  21 tasks      | elapsed:   18.8s\n",
      "[Parallel(n_jobs=10)]: Done  30 tasks      | elapsed:   18.9s\n",
      "[Parallel(n_jobs=10)]: Done  41 tasks      | elapsed:   19.0s\n",
      "[Parallel(n_jobs=10)]: Done  52 tasks      | elapsed:   19.0s\n",
      "[Parallel(n_jobs=10)]: Batch computation too fast (0.1907s.) Setting batch_size=2.\n",
      "[Parallel(n_jobs=10)]: Done  65 tasks      | elapsed:   19.1s\n",
      "[Parallel(n_jobs=10)]: Batch computation too fast (0.1802s.) Setting batch_size=4.\n",
      "[Parallel(n_jobs=10)]: Done  85 tasks      | elapsed:   19.3s\n",
      "[Parallel(n_jobs=10)]: Done 119 tasks      | elapsed:   19.6s\n",
      "[Parallel(n_jobs=10)]: Done 179 tasks      | elapsed:   20.0s\n",
      "[Parallel(n_jobs=10)]: Done 247 tasks      | elapsed:   20.5s\n",
      "[Parallel(n_jobs=10)]: Done 384 out of 384 | elapsed:   21.5s finished\n"
     ]
    },
    {
     "name": "stdout",
     "output_type": "stream",
     "text": [
      "for one slice: 28.26\n",
      "0. slice saved\n",
      "(384, 600000)\n",
      "start the 0. slice\n",
      "load data into RAM ...\n",
      "(384, 600000)\n",
      "delet the memmap ...\n",
      "filter and detect spikes ...\n"
     ]
    },
    {
     "name": "stderr",
     "output_type": "stream",
     "text": [
      "[Parallel(n_jobs=10)]: Done   5 tasks      | elapsed:    9.5s\n",
      "[Parallel(n_jobs=10)]: Done  12 tasks      | elapsed:   18.8s\n",
      "[Parallel(n_jobs=10)]: Done  21 tasks      | elapsed:   18.8s\n",
      "[Parallel(n_jobs=10)]: Done  30 tasks      | elapsed:   18.9s\n",
      "[Parallel(n_jobs=10)]: Done  41 tasks      | elapsed:   19.0s\n",
      "[Parallel(n_jobs=10)]: Done  52 tasks      | elapsed:   19.1s\n",
      "[Parallel(n_jobs=10)]: Batch computation too fast (0.1931s.) Setting batch_size=2.\n",
      "[Parallel(n_jobs=10)]: Done  65 tasks      | elapsed:   19.2s\n",
      "[Parallel(n_jobs=10)]: Batch computation too fast (0.1762s.) Setting batch_size=4.\n",
      "[Parallel(n_jobs=10)]: Done  85 tasks      | elapsed:   19.3s\n",
      "[Parallel(n_jobs=10)]: Done 119 tasks      | elapsed:   19.6s\n",
      "[Parallel(n_jobs=10)]: Done 179 tasks      | elapsed:   20.0s\n",
      "[Parallel(n_jobs=10)]: Done 247 tasks      | elapsed:   20.5s\n",
      "[Parallel(n_jobs=10)]: Done 384 out of 384 | elapsed:   21.5s finished\n"
     ]
    },
    {
     "name": "stdout",
     "output_type": "stream",
     "text": [
      "for one slice: 28.40\n",
      "0. slice saved\n",
      "(384, 600000)\n",
      "start the 0. slice\n",
      "load data into RAM ...\n",
      "(384, 600000)\n",
      "delet the memmap ...\n",
      "filter and detect spikes ...\n"
     ]
    },
    {
     "name": "stderr",
     "output_type": "stream",
     "text": [
      "[Parallel(n_jobs=10)]: Done   5 tasks      | elapsed:    9.5s\n",
      "[Parallel(n_jobs=10)]: Done  12 tasks      | elapsed:   18.8s\n",
      "[Parallel(n_jobs=10)]: Done  21 tasks      | elapsed:   18.9s\n",
      "[Parallel(n_jobs=10)]: Done  30 tasks      | elapsed:   18.9s\n",
      "[Parallel(n_jobs=10)]: Done  41 tasks      | elapsed:   19.0s\n",
      "[Parallel(n_jobs=10)]: Done  52 tasks      | elapsed:   19.1s\n",
      "[Parallel(n_jobs=10)]: Batch computation too fast (0.1962s.) Setting batch_size=2.\n",
      "[Parallel(n_jobs=10)]: Done  65 tasks      | elapsed:   19.2s\n",
      "[Parallel(n_jobs=10)]: Batch computation too fast (0.1792s.) Setting batch_size=4.\n",
      "[Parallel(n_jobs=10)]: Done  85 tasks      | elapsed:   19.4s\n",
      "[Parallel(n_jobs=10)]: Done 119 tasks      | elapsed:   19.7s\n",
      "[Parallel(n_jobs=10)]: Done 179 tasks      | elapsed:   20.1s\n",
      "[Parallel(n_jobs=10)]: Done 247 tasks      | elapsed:   20.6s\n",
      "[Parallel(n_jobs=10)]: Done 384 out of 384 | elapsed:   21.6s finished\n"
     ]
    },
    {
     "name": "stdout",
     "output_type": "stream",
     "text": [
      "for one slice: 28.23\n",
      "0. slice saved\n",
      "(384, 600000)\n",
      "start the 0. slice\n",
      "load data into RAM ...\n",
      "(384, 600000)\n",
      "delet the memmap ...\n",
      "filter and detect spikes ...\n"
     ]
    },
    {
     "name": "stderr",
     "output_type": "stream",
     "text": [
      "[Parallel(n_jobs=10)]: Done   5 tasks      | elapsed:    9.4s\n",
      "[Parallel(n_jobs=10)]: Done  12 tasks      | elapsed:   18.7s\n",
      "[Parallel(n_jobs=10)]: Done  21 tasks      | elapsed:   18.8s\n",
      "[Parallel(n_jobs=10)]: Done  30 tasks      | elapsed:   18.9s\n",
      "[Parallel(n_jobs=10)]: Done  41 tasks      | elapsed:   18.9s\n",
      "[Parallel(n_jobs=10)]: Done  52 tasks      | elapsed:   19.0s\n",
      "[Parallel(n_jobs=10)]: Batch computation too fast (0.1925s.) Setting batch_size=2.\n",
      "[Parallel(n_jobs=10)]: Done  65 tasks      | elapsed:   19.1s\n",
      "[Parallel(n_jobs=10)]: Batch computation too fast (0.1772s.) Setting batch_size=4.\n",
      "[Parallel(n_jobs=10)]: Done  85 tasks      | elapsed:   19.3s\n",
      "[Parallel(n_jobs=10)]: Done 119 tasks      | elapsed:   19.6s\n",
      "[Parallel(n_jobs=10)]: Done 179 tasks      | elapsed:   20.0s\n",
      "[Parallel(n_jobs=10)]: Done 247 tasks      | elapsed:   20.5s\n",
      "[Parallel(n_jobs=10)]: Done 384 out of 384 | elapsed:   21.5s finished\n"
     ]
    },
    {
     "name": "stdout",
     "output_type": "stream",
     "text": [
      "for one slice: 28.10\n",
      "0. slice saved\n",
      "(384, 600000)\n",
      "start the 0. slice\n",
      "load data into RAM ...\n",
      "(384, 600000)\n",
      "delet the memmap ...\n",
      "filter and detect spikes ...\n"
     ]
    },
    {
     "name": "stderr",
     "output_type": "stream",
     "text": [
      "[Parallel(n_jobs=10)]: Done   5 tasks      | elapsed:    9.5s\n",
      "[Parallel(n_jobs=10)]: Done  12 tasks      | elapsed:   18.9s\n",
      "[Parallel(n_jobs=10)]: Done  21 tasks      | elapsed:   19.0s\n",
      "[Parallel(n_jobs=10)]: Done  30 tasks      | elapsed:   19.1s\n",
      "[Parallel(n_jobs=10)]: Done  41 tasks      | elapsed:   19.1s\n",
      "[Parallel(n_jobs=10)]: Done  52 tasks      | elapsed:   19.2s\n",
      "[Parallel(n_jobs=10)]: Batch computation too fast (0.1921s.) Setting batch_size=2.\n",
      "[Parallel(n_jobs=10)]: Done  65 tasks      | elapsed:   19.3s\n",
      "[Parallel(n_jobs=10)]: Batch computation too fast (0.1822s.) Setting batch_size=4.\n",
      "[Parallel(n_jobs=10)]: Done  84 tasks      | elapsed:   19.5s\n",
      "[Parallel(n_jobs=10)]: Done 116 tasks      | elapsed:   19.8s\n",
      "[Parallel(n_jobs=10)]: Done 176 tasks      | elapsed:   20.2s\n",
      "[Parallel(n_jobs=10)]: Done 244 tasks      | elapsed:   20.7s\n",
      "[Parallel(n_jobs=10)]: Done 384 out of 384 | elapsed:   21.7s finished\n"
     ]
    },
    {
     "name": "stdout",
     "output_type": "stream",
     "text": [
      "for one slice: 28.46\n",
      "0. slice saved\n",
      "(384, 600000)\n",
      "start the 0. slice\n",
      "load data into RAM ...\n",
      "(384, 600000)\n",
      "delet the memmap ...\n",
      "filter and detect spikes ...\n"
     ]
    },
    {
     "name": "stderr",
     "output_type": "stream",
     "text": [
      "[Parallel(n_jobs=10)]: Done   5 tasks      | elapsed:    9.4s\n",
      "[Parallel(n_jobs=10)]: Done  12 tasks      | elapsed:   18.7s\n",
      "[Parallel(n_jobs=10)]: Done  21 tasks      | elapsed:   18.8s\n",
      "[Parallel(n_jobs=10)]: Done  30 tasks      | elapsed:   18.9s\n",
      "[Parallel(n_jobs=10)]: Done  41 tasks      | elapsed:   19.0s\n",
      "[Parallel(n_jobs=10)]: Done  52 tasks      | elapsed:   19.0s\n",
      "[Parallel(n_jobs=10)]: Batch computation too fast (0.1928s.) Setting batch_size=2.\n",
      "[Parallel(n_jobs=10)]: Done  65 tasks      | elapsed:   19.1s\n",
      "[Parallel(n_jobs=10)]: Batch computation too fast (0.1732s.) Setting batch_size=4.\n",
      "[Parallel(n_jobs=10)]: Done  85 tasks      | elapsed:   19.3s\n",
      "[Parallel(n_jobs=10)]: Done 119 tasks      | elapsed:   19.6s\n",
      "[Parallel(n_jobs=10)]: Done 179 tasks      | elapsed:   20.0s\n",
      "[Parallel(n_jobs=10)]: Done 247 tasks      | elapsed:   20.5s\n",
      "[Parallel(n_jobs=10)]: Done 384 out of 384 | elapsed:   21.4s finished\n"
     ]
    },
    {
     "name": "stdout",
     "output_type": "stream",
     "text": [
      "for one slice: 28.07\n",
      "0. slice saved\n",
      "(384, 600000)\n",
      "start the 0. slice\n",
      "load data into RAM ...\n",
      "(384, 600000)\n",
      "delet the memmap ...\n",
      "filter and detect spikes ...\n"
     ]
    },
    {
     "name": "stderr",
     "output_type": "stream",
     "text": [
      "[Parallel(n_jobs=10)]: Done   5 tasks      | elapsed:    9.5s\n",
      "[Parallel(n_jobs=10)]: Done  12 tasks      | elapsed:   18.9s\n",
      "[Parallel(n_jobs=10)]: Done  21 tasks      | elapsed:   19.0s\n",
      "[Parallel(n_jobs=10)]: Done  30 tasks      | elapsed:   19.1s\n",
      "[Parallel(n_jobs=10)]: Done  41 tasks      | elapsed:   19.1s\n",
      "[Parallel(n_jobs=10)]: Done  52 tasks      | elapsed:   19.2s\n",
      "[Parallel(n_jobs=10)]: Batch computation too fast (0.1992s.) Setting batch_size=2.\n",
      "[Parallel(n_jobs=10)]: Done  65 tasks      | elapsed:   19.3s\n",
      "[Parallel(n_jobs=10)]: Batch computation too fast (0.1812s.) Setting batch_size=4.\n",
      "[Parallel(n_jobs=10)]: Done  85 tasks      | elapsed:   19.5s\n",
      "[Parallel(n_jobs=10)]: Done 119 tasks      | elapsed:   19.8s\n",
      "[Parallel(n_jobs=10)]: Done 179 tasks      | elapsed:   20.2s\n",
      "[Parallel(n_jobs=10)]: Done 247 tasks      | elapsed:   20.7s\n",
      "[Parallel(n_jobs=10)]: Done 384 out of 384 | elapsed:   21.7s finished\n"
     ]
    },
    {
     "name": "stdout",
     "output_type": "stream",
     "text": [
      "for one slice: 28.28\n",
      "0. slice saved\n",
      "(384, 600000)\n",
      "start the 0. slice\n",
      "load data into RAM ...\n",
      "(384, 600000)\n",
      "delet the memmap ...\n",
      "filter and detect spikes ...\n"
     ]
    },
    {
     "name": "stderr",
     "output_type": "stream",
     "text": [
      "[Parallel(n_jobs=10)]: Done   5 tasks      | elapsed:    9.4s\n",
      "[Parallel(n_jobs=10)]: Done  12 tasks      | elapsed:   18.7s\n",
      "[Parallel(n_jobs=10)]: Done  21 tasks      | elapsed:   18.8s\n",
      "[Parallel(n_jobs=10)]: Done  30 tasks      | elapsed:   18.9s\n",
      "[Parallel(n_jobs=10)]: Done  41 tasks      | elapsed:   18.9s\n",
      "[Parallel(n_jobs=10)]: Batch computation too fast (0.1987s.) Setting batch_size=2.\n",
      "[Parallel(n_jobs=10)]: Done  52 tasks      | elapsed:   19.0s\n",
      "[Parallel(n_jobs=10)]: Done  65 tasks      | elapsed:   19.1s\n",
      "[Parallel(n_jobs=10)]: Batch computation too fast (0.1752s.) Setting batch_size=4.\n",
      "[Parallel(n_jobs=10)]: Done  86 tasks      | elapsed:   19.3s\n",
      "[Parallel(n_jobs=10)]: Done 122 tasks      | elapsed:   19.6s\n",
      "[Parallel(n_jobs=10)]: Done 182 tasks      | elapsed:   20.0s\n",
      "[Parallel(n_jobs=10)]: Done 250 tasks      | elapsed:   20.5s\n",
      "[Parallel(n_jobs=10)]: Done 326 out of 384 | elapsed:   21.0s remaining:    3.7s\n",
      "[Parallel(n_jobs=10)]: Done 384 out of 384 | elapsed:   21.4s finished\n"
     ]
    },
    {
     "name": "stdout",
     "output_type": "stream",
     "text": [
      "for one slice: 28.10\n",
      "0. slice saved\n",
      "(384, 600000)\n",
      "start the 0. slice\n",
      "load data into RAM ...\n",
      "(384, 600000)\n",
      "delet the memmap ...\n",
      "filter and detect spikes ...\n"
     ]
    },
    {
     "name": "stderr",
     "output_type": "stream",
     "text": [
      "[Parallel(n_jobs=10)]: Done   5 tasks      | elapsed:    9.4s\n",
      "[Parallel(n_jobs=10)]: Done  12 tasks      | elapsed:   18.8s\n",
      "[Parallel(n_jobs=10)]: Done  21 tasks      | elapsed:   18.8s\n",
      "[Parallel(n_jobs=10)]: Done  30 tasks      | elapsed:   18.9s\n",
      "[Parallel(n_jobs=10)]: Done  41 tasks      | elapsed:   19.0s\n",
      "[Parallel(n_jobs=10)]: Done  52 tasks      | elapsed:   19.0s\n",
      "[Parallel(n_jobs=10)]: Batch computation too fast (0.1942s.) Setting batch_size=2.\n",
      "[Parallel(n_jobs=10)]: Done  65 tasks      | elapsed:   19.1s\n",
      "[Parallel(n_jobs=10)]: Batch computation too fast (0.1842s.) Setting batch_size=4.\n",
      "[Parallel(n_jobs=10)]: Done  85 tasks      | elapsed:   19.3s\n",
      "[Parallel(n_jobs=10)]: Done 119 tasks      | elapsed:   19.6s\n",
      "[Parallel(n_jobs=10)]: Done 179 tasks      | elapsed:   20.0s\n",
      "[Parallel(n_jobs=10)]: Done 247 tasks      | elapsed:   20.5s\n",
      "[Parallel(n_jobs=10)]: Done 384 out of 384 | elapsed:   21.5s finished\n"
     ]
    },
    {
     "name": "stdout",
     "output_type": "stream",
     "text": [
      "for one slice: 28.21\n",
      "0. slice saved\n",
      "(384, 600000)\n",
      "start the 0. slice\n",
      "load data into RAM ...\n",
      "(384, 600000)\n",
      "delet the memmap ...\n",
      "filter and detect spikes ...\n"
     ]
    },
    {
     "name": "stderr",
     "output_type": "stream",
     "text": [
      "[Parallel(n_jobs=10)]: Done   5 tasks      | elapsed:    9.4s\n",
      "[Parallel(n_jobs=10)]: Done  12 tasks      | elapsed:   18.7s\n",
      "[Parallel(n_jobs=10)]: Done  21 tasks      | elapsed:   18.8s\n",
      "[Parallel(n_jobs=10)]: Done  30 tasks      | elapsed:   18.8s\n",
      "[Parallel(n_jobs=10)]: Done  41 tasks      | elapsed:   18.9s\n",
      "[Parallel(n_jobs=10)]: Done  52 tasks      | elapsed:   19.0s\n",
      "[Parallel(n_jobs=10)]: Batch computation too fast (0.1920s.) Setting batch_size=2.\n",
      "[Parallel(n_jobs=10)]: Done  65 tasks      | elapsed:   19.1s\n",
      "[Parallel(n_jobs=10)]: Batch computation too fast (0.1752s.) Setting batch_size=4.\n",
      "[Parallel(n_jobs=10)]: Done  85 tasks      | elapsed:   19.3s\n",
      "[Parallel(n_jobs=10)]: Done 119 tasks      | elapsed:   19.5s\n",
      "[Parallel(n_jobs=10)]: Done 179 tasks      | elapsed:   20.0s\n",
      "[Parallel(n_jobs=10)]: Done 247 tasks      | elapsed:   20.5s\n",
      "[Parallel(n_jobs=10)]: Done 384 out of 384 | elapsed:   21.4s finished\n"
     ]
    },
    {
     "name": "stdout",
     "output_type": "stream",
     "text": [
      "for one slice: 28.05\n",
      "0. slice saved\n",
      "(384, 600000)\n",
      "start the 0. slice\n",
      "load data into RAM ...\n",
      "(384, 600000)\n",
      "delet the memmap ...\n",
      "filter and detect spikes ...\n"
     ]
    },
    {
     "name": "stderr",
     "output_type": "stream",
     "text": [
      "[Parallel(n_jobs=10)]: Done   5 tasks      | elapsed:    9.6s\n",
      "[Parallel(n_jobs=10)]: Done  12 tasks      | elapsed:   19.0s\n",
      "[Parallel(n_jobs=10)]: Done  21 tasks      | elapsed:   19.0s\n",
      "[Parallel(n_jobs=10)]: Done  30 tasks      | elapsed:   19.1s\n",
      "[Parallel(n_jobs=10)]: Done  41 tasks      | elapsed:   19.2s\n",
      "[Parallel(n_jobs=10)]: Done  52 tasks      | elapsed:   19.3s\n",
      "[Parallel(n_jobs=10)]: Batch computation too fast (0.1964s.) Setting batch_size=2.\n",
      "[Parallel(n_jobs=10)]: Done  65 tasks      | elapsed:   19.4s\n",
      "[Parallel(n_jobs=10)]: Batch computation too fast (0.1892s.) Setting batch_size=4.\n",
      "[Parallel(n_jobs=10)]: Done  85 tasks      | elapsed:   19.5s\n",
      "[Parallel(n_jobs=10)]: Done 119 tasks      | elapsed:   19.8s\n",
      "[Parallel(n_jobs=10)]: Done 179 tasks      | elapsed:   20.3s\n",
      "[Parallel(n_jobs=10)]: Done 247 tasks      | elapsed:   20.7s\n",
      "[Parallel(n_jobs=10)]: Done 384 out of 384 | elapsed:   21.7s finished\n"
     ]
    },
    {
     "name": "stdout",
     "output_type": "stream",
     "text": [
      "for one slice: 28.47\n",
      "0. slice saved\n",
      "(384, 600000)\n",
      "start the 0. slice\n",
      "load data into RAM ...\n",
      "(384, 600000)\n",
      "delet the memmap ...\n",
      "filter and detect spikes ...\n"
     ]
    },
    {
     "name": "stderr",
     "output_type": "stream",
     "text": [
      "[Parallel(n_jobs=10)]: Done   5 tasks      | elapsed:    9.4s\n",
      "[Parallel(n_jobs=10)]: Done  12 tasks      | elapsed:   18.7s\n",
      "[Parallel(n_jobs=10)]: Done  21 tasks      | elapsed:   18.8s\n",
      "[Parallel(n_jobs=10)]: Done  30 tasks      | elapsed:   18.9s\n",
      "[Parallel(n_jobs=10)]: Done  41 tasks      | elapsed:   18.9s\n",
      "[Parallel(n_jobs=10)]: Done  52 tasks      | elapsed:   19.0s\n",
      "[Parallel(n_jobs=10)]: Batch computation too fast (0.1928s.) Setting batch_size=2.\n",
      "[Parallel(n_jobs=10)]: Done  65 tasks      | elapsed:   19.1s\n",
      "[Parallel(n_jobs=10)]: Batch computation too fast (0.1792s.) Setting batch_size=4.\n",
      "[Parallel(n_jobs=10)]: Done  85 tasks      | elapsed:   19.3s\n",
      "[Parallel(n_jobs=10)]: Done 119 tasks      | elapsed:   19.6s\n",
      "[Parallel(n_jobs=10)]: Done 179 tasks      | elapsed:   20.0s\n",
      "[Parallel(n_jobs=10)]: Done 247 tasks      | elapsed:   20.5s\n",
      "[Parallel(n_jobs=10)]: Done 384 out of 384 | elapsed:   21.4s finished\n"
     ]
    },
    {
     "name": "stdout",
     "output_type": "stream",
     "text": [
      "for one slice: 28.30\n",
      "0. slice saved\n",
      "(384, 600000)\n",
      "start the 0. slice\n",
      "load data into RAM ...\n",
      "(384, 600000)\n",
      "delet the memmap ...\n",
      "filter and detect spikes ...\n"
     ]
    },
    {
     "name": "stderr",
     "output_type": "stream",
     "text": [
      "[Parallel(n_jobs=10)]: Done   5 tasks      | elapsed:    9.4s\n",
      "[Parallel(n_jobs=10)]: Done  12 tasks      | elapsed:   18.8s\n",
      "[Parallel(n_jobs=10)]: Done  21 tasks      | elapsed:   18.8s\n",
      "[Parallel(n_jobs=10)]: Done  30 tasks      | elapsed:   18.9s\n",
      "[Parallel(n_jobs=10)]: Done  41 tasks      | elapsed:   19.0s\n",
      "[Parallel(n_jobs=10)]: Done  52 tasks      | elapsed:   19.1s\n",
      "[Parallel(n_jobs=10)]: Batch computation too fast (0.1988s.) Setting batch_size=2.\n",
      "[Parallel(n_jobs=10)]: Done  65 tasks      | elapsed:   19.2s\n",
      "[Parallel(n_jobs=10)]: Batch computation too fast (0.1812s.) Setting batch_size=4.\n",
      "[Parallel(n_jobs=10)]: Done  85 tasks      | elapsed:   19.3s\n",
      "[Parallel(n_jobs=10)]: Done 119 tasks      | elapsed:   19.6s\n",
      "[Parallel(n_jobs=10)]: Done 179 tasks      | elapsed:   20.1s\n",
      "[Parallel(n_jobs=10)]: Done 247 tasks      | elapsed:   20.6s\n",
      "[Parallel(n_jobs=10)]: Done 384 out of 384 | elapsed:   21.5s finished\n"
     ]
    },
    {
     "name": "stdout",
     "output_type": "stream",
     "text": [
      "for one slice: 28.45\n",
      "0. slice saved\n",
      "(384, 600000)\n",
      "start the 0. slice\n",
      "load data into RAM ...\n",
      "(384, 600000)\n",
      "delet the memmap ...\n",
      "filter and detect spikes ...\n"
     ]
    },
    {
     "name": "stderr",
     "output_type": "stream",
     "text": [
      "[Parallel(n_jobs=10)]: Done   5 tasks      | elapsed:    9.4s\n",
      "[Parallel(n_jobs=10)]: Done  12 tasks      | elapsed:   18.8s\n",
      "[Parallel(n_jobs=10)]: Done  21 tasks      | elapsed:   18.8s\n",
      "[Parallel(n_jobs=10)]: Done  30 tasks      | elapsed:   18.9s\n",
      "[Parallel(n_jobs=10)]: Done  41 tasks      | elapsed:   19.0s\n",
      "[Parallel(n_jobs=10)]: Done  52 tasks      | elapsed:   19.1s\n",
      "[Parallel(n_jobs=10)]: Batch computation too fast (0.1919s.) Setting batch_size=2.\n",
      "[Parallel(n_jobs=10)]: Done  65 tasks      | elapsed:   19.1s\n",
      "[Parallel(n_jobs=10)]: Batch computation too fast (0.1742s.) Setting batch_size=4.\n",
      "[Parallel(n_jobs=10)]: Done  85 tasks      | elapsed:   19.3s\n",
      "[Parallel(n_jobs=10)]: Done 119 tasks      | elapsed:   19.6s\n",
      "[Parallel(n_jobs=10)]: Done 179 tasks      | elapsed:   20.0s\n",
      "[Parallel(n_jobs=10)]: Done 247 tasks      | elapsed:   20.5s\n",
      "[Parallel(n_jobs=10)]: Done 384 out of 384 | elapsed:   21.4s finished\n"
     ]
    },
    {
     "name": "stdout",
     "output_type": "stream",
     "text": [
      "for one slice: 28.27\n",
      "0. slice saved\n",
      "(384, 600000)\n",
      "start the 0. slice\n",
      "load data into RAM ...\n",
      "(384, 600000)\n",
      "delet the memmap ...\n",
      "filter and detect spikes ...\n"
     ]
    },
    {
     "name": "stderr",
     "output_type": "stream",
     "text": [
      "[Parallel(n_jobs=10)]: Done   5 tasks      | elapsed:    9.5s\n",
      "[Parallel(n_jobs=10)]: Done  12 tasks      | elapsed:   18.9s\n",
      "[Parallel(n_jobs=10)]: Done  21 tasks      | elapsed:   18.9s\n",
      "[Parallel(n_jobs=10)]: Done  30 tasks      | elapsed:   19.0s\n",
      "[Parallel(n_jobs=10)]: Done  41 tasks      | elapsed:   19.1s\n",
      "[Parallel(n_jobs=10)]: Done  52 tasks      | elapsed:   19.2s\n",
      "[Parallel(n_jobs=10)]: Batch computation too fast (0.1993s.) Setting batch_size=2.\n",
      "[Parallel(n_jobs=10)]: Done  65 tasks      | elapsed:   19.3s\n",
      "[Parallel(n_jobs=10)]: Batch computation too fast (0.1862s.) Setting batch_size=4.\n",
      "[Parallel(n_jobs=10)]: Done  85 tasks      | elapsed:   19.5s\n",
      "[Parallel(n_jobs=10)]: Done 119 tasks      | elapsed:   19.8s\n",
      "[Parallel(n_jobs=10)]: Done 179 tasks      | elapsed:   20.2s\n",
      "[Parallel(n_jobs=10)]: Done 247 tasks      | elapsed:   20.7s\n",
      "[Parallel(n_jobs=10)]: Done 384 out of 384 | elapsed:   21.7s finished\n"
     ]
    },
    {
     "name": "stdout",
     "output_type": "stream",
     "text": [
      "for one slice: 28.37\n",
      "0. slice saved\n",
      "(384, 600000)\n",
      "start the 0. slice\n",
      "load data into RAM ...\n",
      "(384, 600000)\n",
      "delet the memmap ...\n",
      "filter and detect spikes ...\n"
     ]
    },
    {
     "name": "stderr",
     "output_type": "stream",
     "text": [
      "[Parallel(n_jobs=10)]: Done   5 tasks      | elapsed:    9.4s\n",
      "[Parallel(n_jobs=10)]: Done  12 tasks      | elapsed:   18.7s\n",
      "[Parallel(n_jobs=10)]: Done  21 tasks      | elapsed:   18.8s\n",
      "[Parallel(n_jobs=10)]: Done  30 tasks      | elapsed:   18.9s\n",
      "[Parallel(n_jobs=10)]: Done  41 tasks      | elapsed:   18.9s\n",
      "[Parallel(n_jobs=10)]: Done  52 tasks      | elapsed:   19.0s\n",
      "[Parallel(n_jobs=10)]: Batch computation too fast (0.1980s.) Setting batch_size=2.\n",
      "[Parallel(n_jobs=10)]: Done  65 tasks      | elapsed:   19.1s\n",
      "[Parallel(n_jobs=10)]: Batch computation too fast (0.1742s.) Setting batch_size=4.\n",
      "[Parallel(n_jobs=10)]: Done  85 tasks      | elapsed:   19.3s\n",
      "[Parallel(n_jobs=10)]: Done 119 tasks      | elapsed:   19.6s\n",
      "[Parallel(n_jobs=10)]: Done 179 tasks      | elapsed:   20.0s\n",
      "[Parallel(n_jobs=10)]: Done 247 tasks      | elapsed:   20.5s\n",
      "[Parallel(n_jobs=10)]: Done 384 out of 384 | elapsed:   21.5s finished\n"
     ]
    },
    {
     "name": "stdout",
     "output_type": "stream",
     "text": [
      "for one slice: 28.23\n",
      "0. slice saved\n",
      "(384, 600000)\n",
      "start the 0. slice\n",
      "load data into RAM ...\n",
      "(384, 600000)\n",
      "delet the memmap ...\n",
      "filter and detect spikes ...\n"
     ]
    },
    {
     "name": "stderr",
     "output_type": "stream",
     "text": [
      "[Parallel(n_jobs=10)]: Done   5 tasks      | elapsed:    9.4s\n",
      "[Parallel(n_jobs=10)]: Done  12 tasks      | elapsed:   18.8s\n",
      "[Parallel(n_jobs=10)]: Done  21 tasks      | elapsed:   18.8s\n",
      "[Parallel(n_jobs=10)]: Done  30 tasks      | elapsed:   18.9s\n",
      "[Parallel(n_jobs=10)]: Done  41 tasks      | elapsed:   19.0s\n",
      "[Parallel(n_jobs=10)]: Done  52 tasks      | elapsed:   19.0s\n",
      "[Parallel(n_jobs=10)]: Batch computation too fast (0.1956s.) Setting batch_size=2.\n",
      "[Parallel(n_jobs=10)]: Done  65 tasks      | elapsed:   19.1s\n",
      "[Parallel(n_jobs=10)]: Batch computation too fast (0.1822s.) Setting batch_size=4.\n",
      "[Parallel(n_jobs=10)]: Done  85 tasks      | elapsed:   19.3s\n",
      "[Parallel(n_jobs=10)]: Done 119 tasks      | elapsed:   19.6s\n",
      "[Parallel(n_jobs=10)]: Done 179 tasks      | elapsed:   20.0s\n",
      "[Parallel(n_jobs=10)]: Done 247 tasks      | elapsed:   20.5s\n",
      "[Parallel(n_jobs=10)]: Done 384 out of 384 | elapsed:   21.5s finished\n"
     ]
    },
    {
     "name": "stdout",
     "output_type": "stream",
     "text": [
      "for one slice: 28.12\n",
      "0. slice saved\n",
      "(384, 600000)\n",
      "start the 0. slice\n",
      "load data into RAM ...\n",
      "(384, 600000)\n",
      "delet the memmap ...\n",
      "filter and detect spikes ...\n"
     ]
    },
    {
     "name": "stderr",
     "output_type": "stream",
     "text": [
      "[Parallel(n_jobs=10)]: Done   5 tasks      | elapsed:    9.5s\n",
      "[Parallel(n_jobs=10)]: Done  12 tasks      | elapsed:   18.7s\n",
      "[Parallel(n_jobs=10)]: Done  21 tasks      | elapsed:   18.8s\n",
      "[Parallel(n_jobs=10)]: Done  30 tasks      | elapsed:   18.9s\n",
      "[Parallel(n_jobs=10)]: Done  41 tasks      | elapsed:   18.9s\n",
      "[Parallel(n_jobs=10)]: Done  52 tasks      | elapsed:   19.0s\n",
      "[Parallel(n_jobs=10)]: Batch computation too fast (0.1894s.) Setting batch_size=2.\n",
      "[Parallel(n_jobs=10)]: Done  65 tasks      | elapsed:   19.1s\n",
      "[Parallel(n_jobs=10)]: Batch computation too fast (0.1752s.) Setting batch_size=4.\n",
      "[Parallel(n_jobs=10)]: Done  85 tasks      | elapsed:   19.3s\n",
      "[Parallel(n_jobs=10)]: Done 119 tasks      | elapsed:   19.6s\n",
      "[Parallel(n_jobs=10)]: Done 179 tasks      | elapsed:   20.0s\n",
      "[Parallel(n_jobs=10)]: Done 247 tasks      | elapsed:   20.4s\n",
      "[Parallel(n_jobs=10)]: Done 384 out of 384 | elapsed:   21.4s finished\n"
     ]
    },
    {
     "name": "stdout",
     "output_type": "stream",
     "text": [
      "for one slice: 28.19\n",
      "0. slice saved\n",
      "(384, 600000)\n",
      "start the 0. slice\n",
      "load data into RAM ...\n",
      "(384, 600000)\n",
      "delet the memmap ...\n",
      "filter and detect spikes ...\n"
     ]
    },
    {
     "name": "stderr",
     "output_type": "stream",
     "text": [
      "[Parallel(n_jobs=10)]: Done   5 tasks      | elapsed:    9.4s\n",
      "[Parallel(n_jobs=10)]: Done  12 tasks      | elapsed:   18.8s\n",
      "[Parallel(n_jobs=10)]: Done  21 tasks      | elapsed:   18.8s\n",
      "[Parallel(n_jobs=10)]: Done  30 tasks      | elapsed:   18.9s\n",
      "[Parallel(n_jobs=10)]: Done  41 tasks      | elapsed:   19.0s\n",
      "[Parallel(n_jobs=10)]: Done  52 tasks      | elapsed:   19.1s\n",
      "[Parallel(n_jobs=10)]: Batch computation too fast (0.1954s.) Setting batch_size=2.\n",
      "[Parallel(n_jobs=10)]: Done  65 tasks      | elapsed:   19.2s\n",
      "[Parallel(n_jobs=10)]: Batch computation too fast (0.1812s.) Setting batch_size=4.\n",
      "[Parallel(n_jobs=10)]: Done  85 tasks      | elapsed:   19.3s\n",
      "[Parallel(n_jobs=10)]: Done 119 tasks      | elapsed:   19.6s\n",
      "[Parallel(n_jobs=10)]: Done 179 tasks      | elapsed:   20.1s\n",
      "[Parallel(n_jobs=10)]: Done 247 tasks      | elapsed:   20.6s\n",
      "[Parallel(n_jobs=10)]: Done 384 out of 384 | elapsed:   21.5s finished\n"
     ]
    },
    {
     "name": "stdout",
     "output_type": "stream",
     "text": [
      "for one slice: 28.41\n",
      "0. slice saved\n",
      "done for the whole recording\n"
     ]
    }
   ],
   "source": [
    "## VPL I && TEMP\n",
    "\n",
    "structure='VPL'\n",
    "exp_name = 'SNA_035184_probe1_002'\n",
    "working_dir =r\"Z:\\Neuropixel\\Thalamus\\SNA-035184\\2019-07-18_10-52-01\"\n",
    "\n",
    "sampling_rate = 30000\n",
    "thresh = -5\n",
    "slicelength = 1 # in sec\n",
    "num_cores = 10\n",
    "n_ch = 384\n",
    "\n",
    "\n",
    "exp_name_list = exp_name.split(\"_\")\n",
    "\n",
    "metadata_path = (glob.glob(working_dir+'/NationalInstruments/*sweepParameter'))\n",
    "metadata_path_names = [os.path.basename(path) for path in metadata_path ]\n",
    "stimdata_path = (glob.glob(working_dir+'/NationalInstruments/*stimData*.pkl'))\n",
    "stimdata_path_names = [os.path.basename(path) for path in stimdata_path ]\n",
    "\n",
    "if \"001\" in exp_name_list:\n",
    "    exp_id = \"001\"\n",
    "elif \"002\" in exp_name_list:\n",
    "    exp_id = \"002\"\n",
    "else:\n",
    "    print('exp Id input does not match dir content')\n",
    "    \n",
    "if \"probe1\" in exp_name_list:\n",
    "    probe = \"probe1\"\n",
    "    p=0\n",
    "elif \"probe2\" in exp_name_list:\n",
    "    probe = \"probe2\"\n",
    "    p=2\n",
    "else:\n",
    "    print('probe input does not match dir content')\n",
    "    \n",
    "for i in range(len(metadata_path_names)):\n",
    "    if exp_id in metadata_path_names[i]:\n",
    "        metaData = metadata_path_names[i]\n",
    "        \n",
    "for i in range(len(stimdata_path_names)):\n",
    "    if exp_id in stimdata_path_names[i] and probe in stimdata_path_names[i] :\n",
    "        stim_name = stimdata_path_names[i]\n",
    "\n",
    "stim_data_path =os.path.join(working_dir,'NationalInstruments',stim_name)\n",
    "raw_data_path = os.path.join(working_dir,'experiment1\\\\recording1\\\\continuous\\\\Neuropix-PXI-100.{}\\\\continuous.dat'.format(p))\n",
    "\n",
    "metaData_path =os.path.join(working_dir,'NationalInstruments',metaData)\n",
    "meta_tmp = pd.read_pickle(metaData_path)\n",
    "\n",
    "sweeplength = meta_tmp.Sweeplength[0]\n",
    "pre = meta_tmp['Pre Stimulus Time'][0]\n",
    "trials = meta_tmp.Repititions[0]\n",
    "\n",
    "\n",
    "print(num_cores)\n",
    "startTime = time()\n",
    "\n",
    "with open(stim_data_path, 'rb') as f:\n",
    "    x = pickle.load(f)\n",
    "\n",
    "try:\n",
    "    timestamps = x[\"Stimstart\"].values\n",
    "except:\n",
    "    timestamps = x['Timestamps'].dropna().values[::2]\n",
    "    \n",
    "for i in range(len(timestamps)):\n",
    "    \n",
    "    data_folder = working_dir + '/MUA-Analysis/' + exp_name + '/'+str(thresh) + '/timestamps_{}/'.format(i)\n",
    "    if not os.path.isdir(data_folder):\n",
    "        os.makedirs(data_folder)\n",
    "\n",
    "    get_spiketimes(raw_data_path, data_folder,timestamps[i]-(pre), thresh=thresh)\n",
    "\n",
    "endTime = time()"
   ]
  },
  {
   "cell_type": "code",
   "execution_count": null,
   "metadata": {
    "collapsed": true
   },
   "outputs": [],
   "source": []
  }
 ],
 "metadata": {
  "kernelspec": {
   "display_name": "Python 3",
   "language": "python",
   "name": "python3"
  },
  "language_info": {
   "codemirror_mode": {
    "name": "ipython",
    "version": 3
   },
   "file_extension": ".py",
   "mimetype": "text/x-python",
   "name": "python",
   "nbconvert_exporter": "python",
   "pygments_lexer": "ipython3",
   "version": "3.6.3"
  }
 },
 "nbformat": 4,
 "nbformat_minor": 2
}
