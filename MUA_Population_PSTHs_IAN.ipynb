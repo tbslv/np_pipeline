{
 "cells": [
  {
   "cell_type": "code",
   "execution_count": null,
   "metadata": {
    "collapsed": true
   },
   "outputs": [],
   "source": [
    "import matplotlib.pyplot as plt\n",
    "import numpy as np\n",
    "import seaborn as sns\n",
    "from MUA_helper import (make_NP_array_from_linear_data, cleanAxes, placeAxesOnGrid,filter_detect,butter_bandpass,\n",
    "                        butter_bandpass_filter,basic_peak_detector,get_prepare_PSTHs,plot_save,plot_save_single)\n",
    "\n",
    "from scipy import stats\n",
    "import pickle \n",
    "import pandas as pd\n",
    "import scipy.io as sio\n",
    "import os"
   ]
  },
  {
   "cell_type": "markdown",
   "metadata": {},
   "source": [
    "pom 10,17 // 377\n",
    "vpl 9,16 // 384"
   ]
  },
  {
   "cell_type": "code",
   "execution_count": null,
   "metadata": {
    "collapsed": true
   },
   "outputs": [],
   "source": [
    "test = np.load(r\"Y:\\Data\\Neuropixel_M1\\Kilosort single units\\2019-08-28_14-02-10\\spike_times.npy\")"
   ]
  },
  {
   "cell_type": "code",
   "execution_count": null,
   "metadata": {},
   "outputs": [],
   "source": [
    "((test[-1]/30000) - (test[0]/30000))/60"
   ]
  },
  {
   "cell_type": "code",
   "execution_count": null,
   "metadata": {
    "collapsed": true
   },
   "outputs": [],
   "source": [
    "structure = 'M1'\n",
    "exp_name = 'movement'\n",
    "\n",
    "working_dir = r\"Y:\\Data\\Neuropixel_M1\\2019-08-30_17-28-19\"\n",
    "\n",
    "\n",
    "stim_data_path = os.path.join(working_dir,'MUA-Analysis','timestamps','2019-08-30_17-28-19_trigger_move.npy')\n",
    "\n",
    "binsize = 0.100\n",
    "samplingrate = 30000\n",
    "sweeplength = 5\n",
    "ch_bin = 4\n",
    "pre = 0\n",
    "chs = 384\n",
    "trials = 100\n",
    "thresh = -5\n",
    "duration=0.5\n",
    "baselines = []\n",
    "stimuli = []\n",
    "\n",
    "baselinestart = 3\n",
    "baselineend = 5\n",
    "stimulusstart = 0\n",
    "stimulusend = 2\n",
    "\n",
    "save = False\n",
    "\n",
    "\n",
    "colors = plt.cm.coolwarm(np.linspace(0,1,8))\n"
   ]
  },
  {
   "cell_type": "code",
   "execution_count": null,
   "metadata": {
    "scrolled": false
   },
   "outputs": [],
   "source": [
    "data_corrected_list = []\n",
    "baselines = []\n",
    "stimuli = []\n",
    "\n",
    "\n",
    "timestamps = np.load(stim_data_path)\n",
    "    \n",
    "    \n",
    "for i in range(len(timestamps))[:]:\n",
    "    \n",
    "    color = colors[i]\n",
    "    folder = 'timestamps_{}'.format(i)\n",
    "    folder_path  = working_dir + '/MUA-Analysis/' + exp_name + '/'+str(thresh) + '/timestamps_{}/'.format(i)\n",
    "\n",
    "    files = os.listdir(folder_path)\n",
    "    files = files[:]\n",
    "    #with open(stim_data_path, 'rb') as f:\n",
    "    #   x = pickle.load(f)\n",
    "\n",
    "    #feedback = x[\"Feedback\"][stimulus]\n",
    "\n",
    "    all_trials = {}\n",
    "    for ch in range(chs):\n",
    "        all_trials[str(ch)]= np.array([])\n",
    "    print('dict created....')\n",
    "    for trial in range(len(files)):\n",
    "        test0 = np.load(os.path.join(folder_path,files[trial]))\n",
    "        for ch in range(test0.shape[0]):\n",
    "            all_trials[str(ch)] = np.sort(np.hstack((all_trials[str(ch)],test0[ch])))\n",
    "\n",
    "    print('dict filled....')\n",
    "\n",
    "\n",
    "    binwindow = binsize*samplingrate\n",
    "    data = np.zeros([chs,int(sweeplength/binsize)-1])   \n",
    "    bins = np.arange(0,sweeplength*samplingrate,binwindow)\n",
    "    data_df = pd.DataFrame([])\n",
    "\n",
    "    for x in range(chs):\n",
    "\n",
    "        values,edges = np.histogram(all_trials[str(x)],bins)\n",
    "        data[x,:] = values/binsize/trials\n",
    "\n",
    "    data_shape = np.reshape(data, (ch_bin,-1),order='F')\n",
    "    data_db = np.mean(data_shape,axis =0)\n",
    "    data_new = np.reshape(data_db,(int(chs/ch_bin),-1),order='F')\n",
    "    \n",
    "    \n",
    "    for t in range(int(chs/ch_bin)):\n",
    "        data_df[str(t)] = data_new[t,:]\n",
    "    \n",
    "    baseline_df = data_df.iloc[int(baselinestart/binsize):int(baselineend/binsize)]\n",
    "    baseline_stats = baseline_df.describe().T\n",
    "    baseline_stats['var'] = baseline_df.var()\n",
    "    data_corrected = pd.DataFrame([])\n",
    "    baselines.append(baseline_stats)\n",
    "    \n",
    "\n",
    "    stimulus_df = data_df.iloc[int(stimulusstart/binsize):int(stimulusend/binsize)]\n",
    "    stimulus_stats = stimulus_df.describe().T\n",
    "    stimuli.append(stimulus_stats)\n",
    "\n",
    "    for ii in range(int(chs/ch_bin)):\n",
    "\n",
    "        data_corrected[str(ii)] = (data_df[str(ii)] - baseline_stats['mean'].iloc[ii])#/baseline_stats['std'].iloc[ii]\n",
    "        \n",
    "    data_corrected_list.append(data_corrected)\n",
    "    path =os.path.join(working_dir ,'MUA-Analysis', exp_name,str(thresh),'plots','base_corrected',folder)    \n",
    "    savepath= os.path.join(path,structure+'.png')\n",
    "    if not os.path.isdir(path):\n",
    "        os.makedirs(path)\n",
    "\n",
    "    ticks = np.arange(0,int(data_corrected.shape[0]),1/binsize)\n",
    "    time = np.arange(-pre,sweeplength-pre,binsize)\n",
    "\n",
    "\n",
    "\n",
    "    fig = plt.figure(figsize=(12,10))\n",
    "\n",
    "    ax1 = placeAxesOnGrid(fig)\n",
    "\n",
    "\n",
    "    sns.heatmap(data_corrected.T,vmax=15,vmin =-5,ax=ax1,cbar_kws={'label': 'firing rate'})\n",
    "    #sns.heatmap(data_corrected.T,vmax=20,ax=ax1,cbar_kws={'label': 'z-score'})\n",
    "    plt.ylim(0,int(chs/ch_bin))\n",
    "    plt.show()\n",
    "    \n",
    "    plt.ylim(0,int(chs/ch_bin))\n",
    "    ax1.set_xticks(ticks)\n",
    "    ax1.set_xticklabels(time[ticks.astype(int)].round().astype(int),rotation = 0)\n",
    "    ax1.set_xlabel('time',fontsize = 15)\n",
    "    ax1.axvline(pre/binsize,color = 'white',lw = 0.5)\n",
    "    ax1.axvline((pre+duration)/binsize,color = 'white',lw = 0.5)\n",
    "    \n",
    "    ax1.set_ylim(0,data_corrected.shape[1])\n",
    "    ax1.figure.axes[-1].yaxis.label.set_size(15)\n",
    "\n",
    "    if save:\n",
    "        plt.savefig(str(savepath))\n",
    "    plt.show()\n",
    "\n",
    "    \n",
    "\n",
    "stimuli_all = pd.DataFrame([])\n",
    "baselines_all = pd.DataFrame([])\n",
    "        \n",
    "for tt in range(len(baselines)):\n",
    "    baselines[tt]['exp'] = tt\n",
    "    stimuli[tt]['exp'] = tt\n",
    "    \n",
    "stimuli_all = pd.concat(stimuli)\n",
    "baselines_all = pd.concat(baselines)\n",
    "\n",
    "savepath1 = os.path.join(os.path.dirname(path),structure+'_stim.csv')\n",
    "if save:\n",
    "    stimuli_all.to_csv(savepath1)\n",
    "\n",
    "savepath2 = os.path.join(os.path.dirname(path),structure+'_base.csv')\n",
    "if save:\n",
    "    baselines_all.to_csv(savepath2)"
   ]
  },
  {
   "cell_type": "code",
   "execution_count": null,
   "metadata": {
    "collapsed": true
   },
   "outputs": [],
   "source": [
    "stimuli_all= pd.read_csv(savepath1,index_col=0)\n",
    "baselines_all = pd.read_csv(savepath2,index_col=0)"
   ]
  },
  {
   "cell_type": "code",
   "execution_count": null,
   "metadata": {
    "collapsed": true,
    "scrolled": true
   },
   "outputs": [],
   "source": [
    "#z-score data\n",
    "stimuli_all['fr corrected'] = (stimuli_all['mean'] - baselines_all['mean']).values#/baselines_all['std']\n",
    "\n",
    "thr = 1.5\n",
    "stimuli_all_resp_tmp = stimuli_all[(abs(stimuli_all['fr corrected'])>thr)&(stimuli_all['exp']==0)]\n",
    "stimuli_all_resp = stimuli_all.loc[stimuli_all_resp_tmp.index]\n",
    "amps = pd.read_pickle(metaData_path)\n",
    "amps = np.unique(amps['Stimulus Temp']).astype(int)"
   ]
  },
  {
   "cell_type": "code",
   "execution_count": null,
   "metadata": {
    "collapsed": true
   },
   "outputs": [],
   "source": [
    "os.path.dirname(path)"
   ]
  },
  {
   "cell_type": "code",
   "execution_count": null,
   "metadata": {
    "collapsed": true,
    "scrolled": false
   },
   "outputs": [],
   "source": [
    "% matplotlib inline\n",
    "for i in range(areas.shape[0]):\n",
    "    fig = plt.figure(figsize=(5,6))\n",
    "    ax = placeAxesOnGrid(fig)\n",
    "    cleanAxes(ax,leftLabels=True)\n",
    "    \n",
    "    data_tmp = stimuli_all[(stimuli_all.index.values.astype(int) > int(areas[i][0]))&\n",
    "                                             (stimuli_all.index.values.astype(int) < int(areas[i][-1]))]\n",
    "    \n",
    "\n",
    "    sns.stripplot(x='exp',y='fr corrected',data=data_tmp,palette = (sns.color_palette(\"coolwarm\", n_colors=len(colors))),jitter = True,ax=ax)\n",
    "    ax.plot(np.unique(data_tmp['exp']),np.zeros(np.unique(data_tmp['exp']).shape[0]),color='grey',ls='--')\n",
    "    ax.set_ylim(-5,15)\n",
    "    ax\n",
    "    ax.set_xticklabels(amps-32,fontsize=12)\n",
    "    #ax.set_yticks(np.arange(-5,10,1))\n",
    "    #ax.set_yticklabels(np.arange(-5,10,1),fontsize=12)\n",
    "    ax.set_xlabel('Stimulus Temp', fontsize = 15)\n",
    "    ax.set_ylabel('firing rate', fontsize = 15)\n",
    "    areas_stats = data_tmp.groupby('exp').median()\n",
    "    \n",
    "    window = 0.3\n",
    "    \n",
    "    for ii in range(np.unique(data_tmp['exp']).shape[0]):\n",
    "        amp_tmp = np.unique(data_tmp['exp'])[ii]\n",
    "        ax.plot([amp_tmp-window,amp_tmp+window],[areas_stats['fr corrected'][ii],areas_stats['fr corrected'][ii]],color='black')    \n",
    "    \n",
    "    savepath_tmp = os.path.join(os.path.dirname(path),structure+'_chs_{}_{}.png'.format(areas[i][0],areas[i][-1]))\n",
    "    plt.savefig(savepath_tmp)\n",
    "    plt.show()"
   ]
  },
  {
   "cell_type": "code",
   "execution_count": null,
   "metadata": {
    "collapsed": true
   },
   "outputs": [],
   "source": [
    "% matplotlib inline\n",
    "\n",
    "data_df_corr = data_df.corr(method = 'pearson')\n",
    "\n",
    "sns.heatmap(data_df_corr,vmin=-1,vmax=1)\n",
    "plt.show()"
   ]
  },
  {
   "cell_type": "code",
   "execution_count": null,
   "metadata": {
    "collapsed": true
   },
   "outputs": [],
   "source": [
    "% matplotlib inline \n",
    "\n",
    "start = 9\n",
    "end = 13\n",
    "\n",
    "window = np.arange(start*1000,end*1000)\n",
    "feedback_all =x[\"Feedback_Force\"]\n",
    "\n",
    "for t in range(1):\n",
    "    \n",
    "    print('new amplitude')\n",
    "    count = 0\n",
    "    \n",
    "    feedback = feedback_all[t][:,0,:]\n",
    "    \n",
    "    for i in range(25):\n",
    "        smooth_feedback = Gaussian_smooth(feedback[:,i],250)\n",
    "        plt.plot(smooth_feedback,lw = 0.8,alpha = 0.5)\n",
    "        #plt.xlim(8000,12000)\n",
    "        plt.ylim(0,10)\n",
    "        peaks = basic_peak_detector(feedback[:,i], thresh=-1, orientation='positive', verbose=False)\n",
    "        peaks = peaks[(peaks > window[0]) & (peaks < window [-1])]\n",
    "        if peaks.size > 0:\n",
    "            count +=1\n",
    "            \n",
    "            print('{} trials detected with paw movement during temp stim'.format(count))\n",
    "        plt.show()\n",
    "        "
   ]
  },
  {
   "cell_type": "code",
   "execution_count": null,
   "metadata": {
    "collapsed": true
   },
   "outputs": [],
   "source": []
  },
  {
   "cell_type": "code",
   "execution_count": null,
   "metadata": {
    "collapsed": true
   },
   "outputs": [],
   "source": []
  },
  {
   "cell_type": "code",
   "execution_count": null,
   "metadata": {
    "collapsed": true
   },
   "outputs": [],
   "source": [
    "baselinestart = 7\n",
    "baselineend = 9\n",
    "\n",
    "baseline_df = data_areas.iloc[int(baselinestart/binsize):int(baselineend/binsize)]\n",
    "baseline_stats = baseline_df.describe().T\n",
    "data_corrected = pd.DataFrame([])\n",
    "baselines.append(baseline_stats)\n",
    "\n",
    "for i in range(3):\n",
    "\n",
    "    data_areas_corrected[str(i)] = (data_areas[str(i)] - baseline_stats['mean'].iloc[i])/baseline_stats['std'].iloc[i]"
   ]
  },
  {
   "cell_type": "code",
   "execution_count": null,
   "metadata": {
    "collapsed": true
   },
   "outputs": [],
   "source": [
    "for i in range(3):\n",
    "    plt.plot(data_areas_corrected.iloc[:,i])\n",
    "plt.xlim(35,45)\n",
    "plt.show()"
   ]
  },
  {
   "cell_type": "code",
   "execution_count": null,
   "metadata": {
    "collapsed": true
   },
   "outputs": [],
   "source": []
  },
  {
   "cell_type": "code",
   "execution_count": null,
   "metadata": {
    "collapsed": true
   },
   "outputs": [],
   "source": []
  },
  {
   "cell_type": "code",
   "execution_count": null,
   "metadata": {
    "collapsed": true
   },
   "outputs": [],
   "source": []
  },
  {
   "cell_type": "code",
   "execution_count": null,
   "metadata": {
    "collapsed": true
   },
   "outputs": [],
   "source": []
  }
 ],
 "metadata": {
  "kernelspec": {
   "display_name": "Python 3",
   "language": "python",
   "name": "python3"
  },
  "language_info": {
   "codemirror_mode": {
    "name": "ipython",
    "version": 3
   },
   "file_extension": ".py",
   "mimetype": "text/x-python",
   "name": "python",
   "nbconvert_exporter": "python",
   "pygments_lexer": "ipython3",
   "version": "3.6.3"
  }
 },
 "nbformat": 4,
 "nbformat_minor": 2
}
